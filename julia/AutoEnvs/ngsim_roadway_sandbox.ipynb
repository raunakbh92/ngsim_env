{
 "cells": [
  {
   "cell_type": "markdown",
   "metadata": {},
   "source": [
    "- Inspired from demo.ipynb in NGSIM.jl\n",
    "- Takeaways\n",
    "    - 101 has 5 segments\n",
    "    - Start from bottom of screen, 1 is bottom of screen, 2 is exit ramp,\n",
    "    3 is straight section, 4 is entry to road till entry ramp \n",
    "    join point, 5 is entry ramp"
   ]
  },
  {
   "cell_type": "markdown",
   "metadata": {},
   "source": [
    "- For `observe!` from `Tim2DDriver` to work, had to make the following changes\n",
    "    - Had to modify `AutomotiveDrivingModels.jl/src/2d/vehicles/scene_records.jl` to extend\n",
    "the default length of the capacity in the record container from 100 to 300\n",
    "    - Did the same capacity extension in `Records.jl/src/frames.jl`, `QueueRecords.jl` and \n",
    "`ListRecords.jl`\n",
    "- Note that querying Tim2DDriver yields a `latLonAccel` return type. Had to create an array\n",
    "to enable these values to work with `step`"
   ]
  },
  {
   "cell_type": "code",
   "execution_count": 1,
   "metadata": {},
   "outputs": [
    {
     "data": {
      "text/html": [
       "    <script class='js-collapse-script'>\n",
       "        var curMatch =\n",
       "            window.location.href\n",
       "            .match(/(.*?)\\/notebooks\\/.*\\.ipynb/);\n",
       "\n",
       "        curMatch = curMatch ||\n",
       "            window.location.href\n",
       "            .match(/(.*?)\\/apps\\/.*\\.ipynb/);\n",
       "\n",
       "        if ( curMatch ) {\n",
       "            $('head').append('<base href=\"' + curMatch[1] + '/\">');\n",
       "        }\n",
       "    </script>\n"
      ],
      "text/plain": [
       "HTML{String}(\"    <script class='js-collapse-script'>\\n        var curMatch =\\n            window.location.href\\n            .match(/(.*?)\\\\/notebooks\\\\/.*\\\\.ipynb/);\\n\\n        curMatch = curMatch ||\\n            window.location.href\\n            .match(/(.*?)\\\\/apps\\\\/.*\\\\.ipynb/);\\n\\n        if ( curMatch ) {\\n            \\$('head').append('<base href=\\\"' + curMatch[1] + '/\\\">');\\n        }\\n    </script>\\n\")"
      ]
     },
     "metadata": {},
     "output_type": "display_data"
    },
    {
     "data": {
      "text/html": [
       "<script class='js-collapse-script' src='/assetserver/5dc1e185f8b2175037a0bb4bac5baa1c8ca39ea5-assets/webio/dist/bundle.js'></script>"
      ],
      "text/plain": [
       "HTML{String}(\"<script class='js-collapse-script' src='/assetserver/5dc1e185f8b2175037a0bb4bac5baa1c8ca39ea5-assets/webio/dist/bundle.js'></script>\")"
      ]
     },
     "metadata": {},
     "output_type": "display_data"
    },
    {
     "data": {
      "text/html": [
       "<script class='js-collapse-script' src='/assetserver/5dc1e185f8b2175037a0bb4bac5baa1c8ca39ea5-assets/providers/ijulia_setup.js'></script>"
      ],
      "text/plain": [
       "HTML{String}(\"<script class='js-collapse-script' src='/assetserver/5dc1e185f8b2175037a0bb4bac5baa1c8ca39ea5-assets/providers/ijulia_setup.js'></script>\")"
      ]
     },
     "metadata": {},
     "output_type": "display_data"
    },
    {
     "data": {
      "text/html": [
       "  <script class='js-collapse-script'>\n",
       "    $('.js-collapse-script').parent('.output_subarea').css('padding', '0');\n",
       "  </script>\n"
      ],
      "text/plain": [
       "HTML{String}(\"  <script class='js-collapse-script'>\\n    \\$('.js-collapse-script').parent('.output_subarea').css('padding', '0');\\n  </script>\\n\")"
      ]
     },
     "metadata": {},
     "output_type": "display_data"
    }
   ],
   "source": [
    "using NGSIM\n",
    "using AutomotiveDrivingModels\n",
    "using AutoViz\n",
    "using Interact # For slider bar trajectory propagation\n",
    "using Reel"
   ]
  },
  {
   "cell_type": "code",
   "execution_count": 2,
   "metadata": {},
   "outputs": [],
   "source": [
    "roadway = ROADWAY_101;"
   ]
  },
  {
   "cell_type": "code",
   "execution_count": 3,
   "metadata": {},
   "outputs": [
    {
     "name": "stderr",
     "output_type": "stream",
     "text": [
      "WARNING: Method definition reset(AutoEnvs.Env) in module AutoEnvs at /home/raunak/ngsim_env/julia/AutoEnvs/env.jl:17 overwritten at /home/raunak/ngsim_env/julia/AutoEnvs/env.jl:18.\n"
     ]
    }
   ],
   "source": [
    "using AutoEnvs\n",
    "\n",
    "n_veh = 1\n",
    "filepath = Pkg.dir(\"NGSIM\", \"data\", \n",
    "    \"trajdata_i101_trajectories-0805am-0820am.txt\")\n",
    "params = Dict(\n",
    "        \"trajectory_filepaths\"=>[filepath],\n",
    "        \"H\"=>200,\n",
    "        \"primesteps\"=>50,\n",
    "        \"n_veh\"=>n_veh,\n",
    "        \"remove_ngsim_veh\"=>false\n",
    ")\n",
    "# env = MultiagentNGSIMEnvVideoMaker(params)\n",
    "env = MultiagentNGSIMEnv(params);\n",
    "timestep = 0.1;"
   ]
  },
  {
   "cell_type": "code",
   "execution_count": null,
   "metadata": {},
   "outputs": [],
   "source": [
    "model = Tim2DDriver(timestep,mlane = MOBIL(timestep));"
   ]
  },
  {
   "cell_type": "code",
   "execution_count": 7,
   "metadata": {},
   "outputs": [],
   "source": [
    "mlon = IntelligentDriverModel(σ=0.1,k_spd=1.0,T=0.1,s_min=2.0,\n",
    "    a_max=3.0,d_cmf=2.5)\n",
    "mlat = ProportionalLaneTracker(σ=0.1, kp=3.0, kd=2.0)\n",
    "mlane = MOBIL(timestep,politeness=0.1,advantage_threshold=0.01)\n",
    "\n",
    "model = Tim2DDriver(timestep, mlon=mlon, mlat=mlat, mlane=mlane);"
   ]
  },
  {
   "cell_type": "code",
   "execution_count": 8,
   "metadata": {},
   "outputs": [
    {
     "name": "stdout",
     "output_type": "stream",
     "text": [
      "env.t - t_init = 0\n",
      "a = [2.43104 -0.0123736]\n",
      "env.t - t_init = 1\n",
      "a = [2.39095 0.362963]\n",
      "env.t - t_init = 2\n",
      "a = [2.39237 -0.24747]\n",
      "env.t - t_init = 3\n",
      "a = [2.12051 0.385528]\n",
      "env.t - t_init = 4\n",
      "a = [2.04167 -0.293253]\n",
      "env.t - t_init = 5\n",
      "a = [1.82518 -0.160049]\n",
      "env.t - t_init = 6\n",
      "a = [1.76268 0.0920505]\n",
      "env.t - t_init = 7\n",
      "a = [1.67108 0.23403]\n",
      "env.t - t_init = 8\n",
      "a = [1.17765 -0.211872]\n",
      "env.t - t_init = 9\n",
      "a = [1.20095 0.188735]\n",
      "env.t - t_init = 10\n",
      "a = [0.890146 -0.338252]\n",
      "env.t - t_init = 11\n",
      "a = [0.56142 0.353502]\n",
      "env.t - t_init = 12\n",
      "a = [0.348597 -0.208093]\n",
      "env.t - t_init = 13\n",
      "a = [0.254134 -0.0998311]\n",
      "env.t - t_init = 14\n",
      "a = [0.172692 0.272058]\n",
      "env.t - t_init = 15\n",
      "a = [-0.138249 -0.330576]\n",
      "env.t - t_init = 16\n",
      "a = [-0.142003 0.269609]\n",
      "env.t - t_init = 17\n",
      "a = [-0.136835 0.0192627]\n",
      "env.t - t_init = 18\n",
      "a = [-0.13808 -0.178425]\n",
      "env.t - t_init = 19\n",
      "a = [0.0429861 0.0747291]\n",
      "env.t - t_init = 20\n",
      "a = [0.0143671 0.108373]\n",
      "env.t - t_init = 21\n",
      "a = [0.457725 -0.0692657]\n",
      "env.t - t_init = 22\n",
      "a = [0.651381 -0.0960492]\n",
      "env.t - t_init = 23\n",
      "a = [0.411328 0.338257]\n",
      "env.t - t_init = 24\n",
      "a = [0.752068 -0.43135]\n",
      "env.t - t_init = 25\n",
      "a = [0.913189 0.315593]\n",
      "env.t - t_init = 26\n",
      "a = [0.983358 -0.126179]\n",
      "env.t - t_init = 27\n",
      "a = [0.835518 -0.193458]\n",
      "env.t - t_init = 28\n",
      "a = [0.792871 0.346958]\n",
      "env.t - t_init = 29\n",
      "a = [0.873799 -0.08923]\n",
      "env.t - t_init = 30\n",
      "a = [0.873797 -0.267367]\n",
      "env.t - t_init = 31\n",
      "a = [0.771927 0.337849]\n",
      "env.t - t_init = 32\n",
      "a = [0.770291 -0.043186]\n",
      "env.t - t_init = 33\n",
      "a = [0.950359 0.114393]\n",
      "env.t - t_init = 34\n",
      "a = [0.708907 -0.220234]\n",
      "env.t - t_init = 35\n",
      "a = [0.945256 0.0545295]\n",
      "env.t - t_init = 36\n",
      "a = [0.648219 0.0658643]\n",
      "env.t - t_init = 37\n",
      "a = [0.45435 -0.104541]\n",
      "env.t - t_init = 38\n",
      "a = [0.165084 0.0268414]\n",
      "env.t - t_init = 39\n",
      "a = [0.18865 0.137427]\n",
      "env.t - t_init = 40\n",
      "a = [0.152217 -0.100666]\n",
      "env.t - t_init = 41\n",
      "a = [-0.218831 -0.108999]\n",
      "env.t - t_init = 42\n",
      "a = [-0.171528 0.0972202]\n",
      "env.t - t_init = 43\n",
      "a = [0.0707484 0.116685]\n",
      "env.t - t_init = 44\n",
      "a = [-0.16125 -0.238073]\n",
      "env.t - t_init = 45\n",
      "a = [-0.00448381 0.171162]\n",
      "env.t - t_init = 46\n",
      "a = [-0.289075 -0.241462]\n",
      "env.t - t_init = 47\n",
      "a = [-0.0320277 0.154949]\n",
      "env.t - t_init = 48\n",
      "a = [-0.0792889 0.215709]\n",
      "env.t - t_init = 49\n",
      "a = [0.146249 -0.370055]\n",
      "env.t - t_init = 50\n",
      "a = [0.212817 0.240863]\n",
      "env.t - t_init = 51\n",
      "a = [0.395982 -0.0101269]\n",
      "env.t - t_init = 52\n",
      "a = [0.51839 0.179786]\n",
      "env.t - t_init = 53\n",
      "a = [0.610462 -0.266686]\n",
      "env.t - t_init = 54\n",
      "a = [0.540722 0.0875817]\n",
      "env.t - t_init = 55\n",
      "a = [0.576392 0.110878]\n",
      "env.t - t_init = 56\n",
      "a = [0.668038 -0.196409]\n",
      "env.t - t_init = 57\n",
      "a = [0.740812 0.420343]\n",
      "env.t - t_init = 58\n",
      "a = [0.878675 -0.411283]\n",
      "env.t - t_init = 59\n",
      "a = [0.647071 0.174092]\n",
      "env.t - t_init = 60\n",
      "a = [0.758889 -0.20902]\n",
      "env.t - t_init = 61\n",
      "a = [0.606793 0.321984]\n",
      "env.t - t_init = 62\n",
      "a = [0.705079 -0.16728]\n",
      "env.t - t_init = 63\n",
      "a = [0.745148 0.0818373]\n",
      "env.t - t_init = 64\n",
      "a = [0.501422 0.0010979]\n",
      "env.t - t_init = 65\n",
      "a = [0.4186 -0.0655676]\n",
      "env.t - t_init = 66\n",
      "a = [0.395818 0.153317]\n",
      "env.t - t_init = 67\n",
      "a = [0.668828 -0.250399]\n",
      "env.t - t_init = 68\n",
      "a = [0.325473 0.446783]\n",
      "env.t - t_init = 69\n",
      "a = [0.496112 -0.554124]\n",
      "env.t - t_init = 70\n",
      "a = [0.418493 0.406996]\n",
      "env.t - t_init = 71\n",
      "a = [0.323515 -0.510796]\n",
      "env.t - t_init = 72\n",
      "a = [0.260787 0.701435]\n",
      "env.t - t_init = 73\n",
      "a = [0.617687 -0.566148]\n",
      "env.t - t_init = 74\n",
      "a = [0.479005 0.217464]\n",
      "env.t - t_init = 75\n",
      "a = [0.593814 0.0131982]\n",
      "env.t - t_init = 76\n",
      "a = [0.0712386 -0.0989301]\n",
      "env.t - t_init = 77\n",
      "a = [0.551513 0.123905]\n",
      "env.t - t_init = 78\n",
      "a = [0.298002 -0.268624]\n",
      "env.t - t_init = 79\n",
      "a = [0.238116 0.466088]\n",
      "env.t - t_init = 80\n",
      "a = [0.126107 -0.350674]\n",
      "env.t - t_init = 81\n",
      "a = [0.222328 0.170548]\n",
      "env.t - t_init = 82\n",
      "a = [0.250531 -0.0266363]\n",
      "env.t - t_init = 83\n",
      "a = [0.259693 -0.174227]\n",
      "env.t - t_init = 84\n",
      "a = [0.00191622 0.343646]\n",
      "env.t - t_init = 85\n",
      "a = [-0.0651508 -0.354573]\n",
      "env.t - t_init = 86\n",
      "a = [0.10414 0.423971]\n",
      "env.t - t_init = 87\n",
      "a = [0.00411223 -0.50817]\n",
      "env.t - t_init = 88\n",
      "a = [-0.160904 0.55854]\n",
      "env.t - t_init = 89\n",
      "a = [-0.0984604 -0.602404]\n",
      "env.t - t_init = 90\n",
      "a = [-0.349915 0.751646]\n",
      "env.t - t_init = 91\n",
      "a = [-0.173754 -0.994585]\n",
      "env.t - t_init = 92\n",
      "a = [-0.455789 1.12866]\n",
      "env.t - t_init = 93\n",
      "a = [-0.769957 -1.1285]\n",
      "env.t - t_init = 94\n",
      "a = [-0.309482 1.08362]\n",
      "env.t - t_init = 95\n",
      "a = [-0.408445 -0.934423]\n",
      "env.t - t_init = 96\n",
      "a = [-0.628255 0.817188]\n",
      "env.t - t_init = 97\n",
      "a = [-0.251741 -0.690589]\n",
      "env.t - t_init = 98\n",
      "a = [-0.357879 0.577058]\n",
      "env.t - t_init = 99\n",
      "a = [-0.259245 -0.239847]\n",
      "env.t - t_init = 100\n",
      "a = [0.0500919 -0.176538]\n",
      "env.t - t_init = 101\n",
      "a = [-0.314869 0.187492]\n",
      "env.t - t_init = 102\n",
      "a = [-0.254094 -0.00441198]\n",
      "env.t - t_init = 103\n",
      "a = [-0.204353 -0.063864]\n",
      "env.t - t_init = 104\n",
      "a = [0.0492746 -0.0794155]\n",
      "env.t - t_init = 105\n",
      "a = [0.0776602 0.154154]\n",
      "env.t - t_init = 106\n",
      "a = [-0.0343411 -0.183124]\n",
      "env.t - t_init = 107\n",
      "a = [-0.251955 0.331442]\n",
      "env.t - t_init = 108\n",
      "a = [0.0221785 -0.130485]\n",
      "env.t - t_init = 109\n",
      "a = [-0.202792 -0.0986269]\n",
      "env.t - t_init = 110\n",
      "a = [-0.227003 -0.025238]\n",
      "env.t - t_init = 111\n",
      "a = [-0.344491 -0.0764976]\n",
      "env.t - t_init = 112\n",
      "a = [-0.230486 0.248633]\n",
      "env.t - t_init = 113\n",
      "a = [-0.101702 -0.193756]\n",
      "env.t - t_init = 114\n",
      "a = [-0.201195 0.063718]\n",
      "env.t - t_init = 115\n",
      "a = [-0.184638 0.0703247]\n",
      "env.t - t_init = 116\n",
      "a = [-0.330165 -0.401957]\n",
      "env.t - t_init = 117\n",
      "a = [-0.219699 0.563356]\n",
      "env.t - t_init = 118\n",
      "a = [-0.422948 -0.531789]\n",
      "env.t - t_init = 119\n",
      "a = [0.0101918 0.489459]\n",
      "env.t - t_init = 120\n",
      "a = [-0.328258 -0.254765]\n",
      "env.t - t_init = 121\n",
      "a = [0.0934205 0.26588]\n",
      "env.t - t_init = 122\n",
      "a = [0.127162 -0.575751]\n",
      "env.t - t_init = 123\n",
      "a = [-0.0628201 0.604488]\n",
      "env.t - t_init = 124\n",
      "a = [-0.120839 -0.338592]\n",
      "env.t - t_init = 125\n",
      "a = [0.438479 0.150308]\n",
      "env.t - t_init = 126\n",
      "a = [0.115922 -0.019955]\n",
      "env.t - t_init = 127\n",
      "a = [0.343425 0.431505]\n",
      "env.t - t_init = 128\n",
      "a = [0.363468 -0.502881]\n",
      "env.t - t_init = 129\n",
      "a = [0.667204 0.348064]\n",
      "env.t - t_init = 130\n",
      "a = [0.650932 -0.291637]\n",
      "env.t - t_init = 131\n",
      "a = [0.882251 0.112308]\n",
      "env.t - t_init = 132\n",
      "a = [0.68464 -0.0590767]\n",
      "env.t - t_init = 133\n",
      "a = [1.09664 0.0257288]\n",
      "env.t - t_init = 134\n",
      "a = [1.09755 0.214098]\n"
     ]
    },
    {
     "ename": "LoadError",
     "evalue": "\u001b[91mAssertionError: !(isnan(headway)) && headway > 0\u001b[39m",
     "output_type": "error",
     "traceback": [
      "\u001b[91mAssertionError: !(isnan(headway)) && headway > 0\u001b[39m",
      "",
      "Stacktrace:",
      " [1] \u001b[1mtrack_longitudinal!\u001b[22m\u001b[22m\u001b[1m(\u001b[22m\u001b[22m::AutomotiveDrivingModels.IntelligentDriverModel, ::Float64, ::Float64, ::Float64\u001b[1m)\u001b[22m\u001b[22m at \u001b[1m/home/raunak/.julia/v0.6/AutomotiveDrivingModels/src/1d/drivers/intelligent_driver_models.jl:26\u001b[22m\u001b[22m",
      " [2] \u001b[1mobserve!\u001b[22m\u001b[22m\u001b[1m(\u001b[22m\u001b[22m::AutomotiveDrivingModels.IntelligentDriverModel, ::Records.Frame{Records.Entity{AutomotiveDrivingModels.VehicleState,AutomotiveDrivingModels.VehicleDef,Int64}}, ::AutomotiveDrivingModels.Roadway, ::Int64\u001b[1m)\u001b[22m\u001b[22m at \u001b[1m/home/raunak/.julia/v0.6/AutomotiveDrivingModels/src/2d/behaviors/lat_lon_separable_drivers.jl:21\u001b[22m\u001b[22m",
      " [3] \u001b[1mobserve!\u001b[22m\u001b[22m\u001b[1m(\u001b[22m\u001b[22m::AutomotiveDrivingModels.MOBIL, ::Records.Frame{Records.Entity{AutomotiveDrivingModels.VehicleState,AutomotiveDrivingModels.VehicleDef,Int64}}, ::AutomotiveDrivingModels.Roadway, ::Int64\u001b[1m)\u001b[22m\u001b[22m at \u001b[1m/home/raunak/.julia/v0.6/AutomotiveDrivingModels/src/2d/behaviors/lane_change_models/MOBIL.jl:93\u001b[22m\u001b[22m",
      " [4] \u001b[1mobserve!\u001b[22m\u001b[22m\u001b[1m(\u001b[22m\u001b[22m::AutomotiveDrivingModels.Tim2DDriver, ::Records.Frame{Records.Entity{AutomotiveDrivingModels.VehicleState,AutomotiveDrivingModels.VehicleDef,Int64}}, ::AutomotiveDrivingModels.Roadway, ::Int64\u001b[1m)\u001b[22m\u001b[22m at \u001b[1m/home/raunak/.julia/v0.6/AutomotiveDrivingModels/src/2d/behaviors/tim2d_drivers.jl:43\u001b[22m\u001b[22m",
      " [5] \u001b[1mmacro expansion\u001b[22m\u001b[22m at \u001b[1m./In[8]:10\u001b[22m\u001b[22m [inlined]",
      " [6] \u001b[1manonymous\u001b[22m\u001b[22m at \u001b[1m./<missing>:?\u001b[22m\u001b[22m",
      " [7] \u001b[1minclude_string\u001b[22m\u001b[22m\u001b[1m(\u001b[22m\u001b[22m::String, ::String\u001b[1m)\u001b[22m\u001b[22m at \u001b[1m./loading.jl:522\u001b[22m\u001b[22m"
     ]
    }
   ],
   "source": [
    "# This will create a series of images in /tmp/episode1\n",
    "# You can open the first and then press right arrow\n",
    "\n",
    "# a = ones(n_veh, 2)\n",
    "# a[2] = 0.0\n",
    "reset(env,random_seed=4);\n",
    "t_init = env.t\n",
    "for _ in 1:200\n",
    "    render(env)\n",
    "    observe!(model, env.scene, env.roadway, env.ego_vehs[1].id)\n",
    "    latlonacc = rand(model)\n",
    "    a = [latlonacc.a_lon latlonacc.a_lat]\n",
    "    @show env.t-t_init a\n",
    "    \n",
    "    # Don't we need accelturnrate for the env?\n",
    "    x, r, terminal, _ = step(env, a)\n",
    "end"
   ]
  },
  {
   "cell_type": "code",
   "execution_count": null,
   "metadata": {},
   "outputs": [],
   "source": [
    "function makevid(t,dt)\n",
    "    for _ in t:300\n",
    "    render(env)\n",
    "    observe!(model, env.scene, env.roadway, env.ego_vehs[1].id)\n",
    "    latlonacc = rand(model)\n",
    "    a = [latlonacc.a_lon latlonacc.a_lat]\n",
    "    x, r, terminal, _ = step(env, a)\n",
    "    end\n",
    "end"
   ]
  },
  {
   "cell_type": "code",
   "execution_count": null,
   "metadata": {},
   "outputs": [],
   "source": [
    "reset(env,random_seed=4)\n",
    "film = roll(makevid, fps=10, duration=1.0)"
   ]
  },
  {
   "cell_type": "code",
   "execution_count": null,
   "metadata": {},
   "outputs": [],
   "source": [
    "write(\"mygif.gif\",film)"
   ]
  },
  {
   "cell_type": "code",
   "execution_count": null,
   "metadata": {},
   "outputs": [],
   "source": [
    "# Take a look at sisl/gail-driver/julia/envs/Auto2D.jl function reel_drive\n",
    "# for video making inspiration"
   ]
  },
  {
   "cell_type": "markdown",
   "metadata": {},
   "source": [
    "## Video making using recorded cars on ngsim\n",
    "- Trajdatas is what the car trajectories are stored in\n",
    "- We want to color the ego vehicle differently to be able to see it"
   ]
  },
  {
   "cell_type": "code",
   "execution_count": null,
   "metadata": {},
   "outputs": [],
   "source": [
    "# argument 1 loads i101 7:50 to 8:05.\n",
    "# load_trajdata function defined in NGSIM.jl/src/trajdata.jl\n",
    "td1 = load_trajdata(1); \n",
    "\n",
    "scene = Scene(500)\n",
    "egoid = 546\n",
    "\n",
    "# Drive here in the notebook. Replay the trajectory as recorded in the ngsim data\n",
    "@manipulate for i in 1000:2000\n",
    "    temp_scene = get!(scene,td1,i)\n",
    "    \n",
    "    carcolors = Dict{Int,Colorant}()\n",
    "    for veh in temp_scene\n",
    "        #@show veh.id\n",
    "        # if veh id matches the egoid color it blue otherwise green\n",
    "        carcolors[veh.id] = \n",
    "        in(veh.id, egoid) ? colorant\"blue\" : colorant\"green\"\n",
    "    end\n",
    "    render(temp_scene, ROADWAY_101, \n",
    "        cam=CarFollowCamera{Int}(546,5.0),\n",
    "#         cam=StaticCamera(VecE2(1966400, 570900), 5.0),\n",
    "#         cam=FitToContentCamera(0.),\n",
    "        car_colors=carcolors)\n",
    "end"
   ]
  }
 ],
 "metadata": {
  "kernelspec": {
   "display_name": "Julia 0.6.2",
   "language": "julia",
   "name": "julia-0.6"
  },
  "language_info": {
   "file_extension": ".jl",
   "mimetype": "application/julia",
   "name": "julia",
   "version": "0.6.2"
  }
 },
 "nbformat": 4,
 "nbformat_minor": 2
}
