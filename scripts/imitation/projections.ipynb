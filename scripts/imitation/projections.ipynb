{
 "cells": [
  {
   "cell_type": "markdown",
   "metadata": {},
   "source": [
    "- Experimenting with `get_frenet_relative_position`, defined within\n",
    "`AutomotiveDrivingModels/src/2d/vehicles/scenes.jl`\n",
    "- Will be required to provide vehicle states to Zach's ego vehicle\n",
    "- Written using the tutorials available within AutoViz\n",
    "- The roadway generation functions are defined in\n",
    "`AutomotiveDrivingModels/src/2d/roadway/roadway_generation.jl`\n",
    "- `roadways.jl` in the same folder defines a lot of useful function\n",
    "    - build roadway from dxf\n",
    "    - build the roadway"
   ]
  },
  {
   "cell_type": "code",
   "execution_count": 2,
   "metadata": {},
   "outputs": [],
   "source": [
    "using AutomotiveDrivingModels\n",
    "using AutoViz"
   ]
  },
  {
   "cell_type": "code",
   "execution_count": 71,
   "metadata": {},
   "outputs": [
    {
     "data": {
      "image/png": "[encoded data removed]",
      "text/plain": [
       "Cairo.CairoSurfaceBase{UInt32}(Ptr{Void} @0x00000000059dbfa0, 1000.0, 600.0)"
      ]
     },
     "execution_count": 71,
     "metadata": {},
     "output_type": "execute_result"
    }
   ],
   "source": [
    "roadway = gen_straight_roadway(4, 100.0) # numlanes, length\n",
    "scene = Scene()\n",
    "state1 = VehicleState(Frenet(roadway[LaneTag(1,1)],10.0,0.25), roadway, 10.0)\n",
    "veh1 = Vehicle(state1, VehicleDef(), 1)\n",
    "state2 = VehicleState(Frenet(roadway[LaneTag(1,2)],20.0,-3.0), roadway, 10.0)\n",
    "veh2 = Vehicle(state2, VehicleDef(), 2)\n",
    "state3 = VehicleState(Frenet(roadway[LaneTag(1,3)],30.0), roadway, 10.0)\n",
    "veh3 = Vehicle(state3, VehicleDef(), 3)\n",
    "state4 = VehicleState(Frenet(roadway[LaneTag(1,4)],10.0,-1.0), roadway, 10.0)\n",
    "veh4 = Vehicle(state4, VehicleDef(), 4)\n",
    "push!(scene, veh1)\n",
    "push!(scene, veh2)\n",
    "push!(scene, veh3)\n",
    "push!(scene,veh4)\n",
    "render(scene, roadway, cam=FitToContentCamera(0.))"
   ]
  },
  {
   "cell_type": "code",
   "execution_count": 75,
   "metadata": {},
   "outputs": [
    {
     "data": {
      "text/plain": [
       "6.0"
      ]
     },
     "execution_count": 75,
     "metadata": {},
     "output_type": "execute_result"
    }
   ],
   "source": [
    "ego_veh = veh3\n",
    "ego_lanenum = ego_veh.state.posF.roadind.tag.lane\n",
    "ego_roadind = ego_veh.state.posF.roadind\n",
    "ego_offset = ego_veh.state.posF.t\n",
    "lanewidth = get_lane_width(veh3,roadway)\n",
    "y_ego_veh = (ego_lanenum-1)*lanewidth + ego_offset"
   ]
  },
  {
   "cell_type": "code",
   "execution_count": 76,
   "metadata": {},
   "outputs": [
    {
     "name": "stdout",
     "output_type": "stream",
     "text": [
      "ydist = 2.0\n"
     ]
    },
    {
     "data": {
      "text/plain": [
       "8.0"
      ]
     },
     "execution_count": 76,
     "metadata": {},
     "output_type": "execute_result"
    }
   ],
   "source": [
    "# Calculate planner_x and planner_y based on relative frenet position\n",
    "veh = veh4\n",
    "veh_global = veh.state.posG\n",
    "relfre = get_frenet_relative_position(veh_global,ego_roadind,roadway)\n",
    "#\"\"\"Positive is veh is front of ego\"\"\"\n",
    "xdist = relfre.Δs\n",
    "\n",
    "#\"\"\"Positive if veh is left of ego\"\"\"\n",
    "ydist = relfre.t\n",
    "@show ydist\n",
    "\n",
    "planner_x = xdist + 50\n",
    "planner_y = y_ego_veh + ydist"
   ]
  },
  {
   "cell_type": "code",
   "execution_count": 32,
   "metadata": {},
   "outputs": [
    {
     "data": {
      "text/plain": [
       "AutomotiveDrivingModels.FrenetRelativePosition(RoadIndex({1, 0.300000}, {1, 3}), RoadIndex({1, 0.100000}, {1, 3}), -19.999999999999993, 3.8000000000000007, 0.0)"
      ]
     },
     "execution_count": 32,
     "metadata": {},
     "output_type": "execute_result"
    }
   ],
   "source": [
    "relfre = get_frenet_relative_position(veh_global,ego_roadind,roadway)"
   ]
  },
  {
   "cell_type": "code",
   "execution_count": 34,
   "metadata": {},
   "outputs": [
    {
     "name": "stdout",
     "output_type": "stream",
     "text": [
      "(xdist, ydist) = (-19.999999999999993, 3.8000000000000007)\n"
     ]
    },
    {
     "data": {
      "text/plain": [
       "(-19.999999999999993, 3.8000000000000007)"
      ]
     },
     "execution_count": 34,
     "metadata": {},
     "output_type": "execute_result"
    }
   ],
   "source": [
    "#\"\"\"Positive is veh is front of ego\"\"\"\n",
    "xdist = relfre.Δs\n",
    "\n",
    "#\"\"\"Positive if veh is left of ego\"\"\"\n",
    "ydist = relfre.t\n",
    "@show xdist,ydist"
   ]
  },
  {
   "cell_type": "code",
   "execution_count": 47,
   "metadata": {},
   "outputs": [
    {
     "data": {
      "text/plain": [
       "3.0"
      ]
     },
     "execution_count": 47,
     "metadata": {},
     "output_type": "execute_result"
    }
   ],
   "source": [
    "lanewidth = get_lane_width(veh3,roadway)"
   ]
  },
  {
   "cell_type": "code",
   "execution_count": 55,
   "metadata": {},
   "outputs": [
    {
     "data": {
      "text/plain": [
       "3"
      ]
     },
     "execution_count": 55,
     "metadata": {},
     "output_type": "execute_result"
    }
   ],
   "source": [
    "ego_lanenum"
   ]
  },
  {
   "cell_type": "code",
   "execution_count": 60,
   "metadata": {},
   "outputs": [
    {
     "data": {
      "text/plain": [
       "6"
      ]
     },
     "execution_count": 60,
     "metadata": {},
     "output_type": "execute_result"
    }
   ],
   "source": [
    "(ego_lanenum-1)*3"
   ]
  },
  {
   "cell_type": "code",
   "execution_count": 61,
   "metadata": {},
   "outputs": [
    {
     "data": {
      "text/plain": [
       "6.0"
      ]
     },
     "execution_count": 61,
     "metadata": {},
     "output_type": "execute_result"
    }
   ],
   "source": [
    "y_ego_veh = (ego_lanenum-1)*lanewidth + ego_offset"
   ]
  },
  {
   "cell_type": "code",
   "execution_count": 62,
   "metadata": {},
   "outputs": [
    {
     "data": {
      "text/plain": [
       "9.8"
      ]
     },
     "execution_count": 62,
     "metadata": {},
     "output_type": "execute_result"
    }
   ],
   "source": [
    "planner_x = xdist + 50\n",
    "planner_y = y_ego_veh + ydist"
   ]
  },
  {
   "cell_type": "markdown",
   "metadata": {},
   "source": [
    "# Experimentation"
   ]
  },
  {
   "cell_type": "code",
   "execution_count": 85,
   "metadata": {},
   "outputs": [
    {
     "data": {
      "text/plain": [
       "true"
      ]
     },
     "execution_count": 85,
     "metadata": {},
     "output_type": "execute_result"
    }
   ],
   "source": [
    "veh3 == veh3"
   ]
  },
  {
   "cell_type": "code",
   "execution_count": 81,
   "metadata": {},
   "outputs": [
    {
     "name": "stdout",
     "output_type": "stream",
     "text": [
      "\"no\" = \"no\"\n"
     ]
    },
    {
     "data": {
      "text/plain": [
       "\"no\""
      ]
     },
     "execution_count": 81,
     "metadata": {},
     "output_type": "execute_result"
    }
   ],
   "source": [
    "if hypot(veh1.state.posG-veh1.state.posG)>1e-10\n",
    "    @show \"yo\"\n",
    "else\n",
    "    @show \"no\"\n",
    "end"
   ]
  },
  {
   "cell_type": "code",
   "execution_count": 77,
   "metadata": {},
   "outputs": [
    {
     "data": {
      "text/plain": [
       "4-element Array{Symbol,1}:\n",
       " :roadind\n",
       " :s      \n",
       " :t      \n",
       " :ϕ      "
      ]
     },
     "execution_count": 77,
     "metadata": {},
     "output_type": "execute_result"
    }
   ],
   "source": [
    "fieldnames(ego_veh.state.posF)"
   ]
  },
  {
   "cell_type": "code",
   "execution_count": 78,
   "metadata": {},
   "outputs": [
    {
     "data": {
      "text/plain": [
       "30.0"
      ]
     },
     "execution_count": 78,
     "metadata": {},
     "output_type": "execute_result"
    }
   ],
   "source": [
    "ego_veh.state.posF.s"
   ]
  },
  {
   "cell_type": "code",
   "execution_count": 79,
   "metadata": {},
   "outputs": [
    {
     "data": {
      "text/plain": [
       "10.0"
      ]
     },
     "execution_count": 79,
     "metadata": {},
     "output_type": "execute_result"
    }
   ],
   "source": [
    "ego_veh.state.v"
   ]
  },
  {
   "cell_type": "code",
   "execution_count": 24,
   "metadata": {},
   "outputs": [
    {
     "name": "stdout",
     "output_type": "stream",
     "text": [
      "search: \u001b[1mA\u001b[22m\u001b[1mr\u001b[22m\u001b[1mr\u001b[22m\u001b[1mo\u001b[22m\u001b[1mw\u001b[22m\u001b[1mC\u001b[22m\u001b[1ma\u001b[22m\u001b[1mr\u001b[22m\n",
      "\n"
     ]
    },
    {
     "data": {
      "text/markdown": [
       "No documentation found.\n",
       "\n",
       "`AutoViz.ArrowCar` is of type `UnionAll`.\n",
       "\n",
       "**Summary:**\n",
       "\n",
       "```\n",
       "struct UnionAll <: Type{T}\n",
       "```\n",
       "\n",
       "**Fields:**\n",
       "\n",
       "```\n",
       "var  :: TypeVar\n",
       "body :: Any\n",
       "```\n"
      ],
      "text/plain": [
       "No documentation found.\n",
       "\n",
       "`AutoViz.ArrowCar` is of type `UnionAll`.\n",
       "\n",
       "**Summary:**\n",
       "\n",
       "```\n",
       "struct UnionAll <: Type{T}\n",
       "```\n",
       "\n",
       "**Fields:**\n",
       "\n",
       "```\n",
       "var  :: TypeVar\n",
       "body :: Any\n",
       "```\n"
      ]
     },
     "execution_count": 24,
     "metadata": {},
     "output_type": "execute_result"
    }
   ],
   "source": [
    "? ArrowCar"
   ]
  },
  {
   "cell_type": "code",
   "execution_count": 17,
   "metadata": {},
   "outputs": [
    {
     "data": {
      "text/plain": [
       "LaneTag(1, 3)"
      ]
     },
     "execution_count": 17,
     "metadata": {},
     "output_type": "execute_result"
    }
   ],
   "source": [
    "fieldnames(veh1.state.posF.roadind)\n",
    "(veh3.state.posF.roadind.tag)"
   ]
  },
  {
   "cell_type": "code",
   "execution_count": 160,
   "metadata": {},
   "outputs": [
    {
     "data": {
      "text/plain": [
       "4-element Array{Symbol,1}:\n",
       " :roadind\n",
       " :s      \n",
       " :t      \n",
       " :ϕ      "
      ]
     },
     "execution_count": 160,
     "metadata": {},
     "output_type": "execute_result"
    }
   ],
   "source": [
    "fieldnames(veh1.state.posF)"
   ]
  },
  {
   "cell_type": "code",
   "execution_count": 161,
   "metadata": {},
   "outputs": [
    {
     "data": {
      "text/html": [
       "10 methods for generic function <b>Type</b>:<ul><li> AutomotiveDrivingModels.Frenet(roadind::<b>AutomotiveDrivingModels.RoadIndex</b>, s::<b>Float64</b>, t::<b>Float64</b>, ϕ::<b>Float64</b>) at <a href=\"https://github.com/sisl/AutomotiveDrivingModels.jl/tree/fdfcdb2e4735fe1abe9ec0b167d9ba8577a71dd1//src/2d/vehicles/frenet.jl#L2\" target=\"_blank\">/home/raunak/.julia/v0.6/AutomotiveDrivingModels/src/2d/vehicles/frenet.jl:2</a></li> <li> AutomotiveDrivingModels.Frenet(roadind::<b>AutomotiveDrivingModels.RoadIndex</b>, roadway::<b>AutomotiveDrivingModels.Roadway</b>; <i>t, ϕ</i>) at <a href=\"https://github.com/sisl/AutomotiveDrivingModels.jl/tree/fdfcdb2e4735fe1abe9ec0b167d9ba8577a71dd1//src/2d/vehicles/frenet.jl#L8\" target=\"_blank\">/home/raunak/.julia/v0.6/AutomotiveDrivingModels/src/2d/vehicles/frenet.jl:8</a></li> <li> AutomotiveDrivingModels.Frenet(roadproj::<b>AutomotiveDrivingModels.RoadProjection</b>, roadway::<b>AutomotiveDrivingModels.Roadway</b>) at <a href=\"https://github.com/sisl/AutomotiveDrivingModels.jl/tree/fdfcdb2e4735fe1abe9ec0b167d9ba8577a71dd1//src/2d/vehicles/frenet.jl#L13\" target=\"_blank\">/home/raunak/.julia/v0.6/AutomotiveDrivingModels/src/2d/vehicles/frenet.jl:13</a></li> <li> AutomotiveDrivingModels.Frenet(lane::<b>AutomotiveDrivingModels.Lane</b>, s::<b>Float64</b>) at <a href=\"https://github.com/sisl/AutomotiveDrivingModels.jl/tree/fdfcdb2e4735fe1abe9ec0b167d9ba8577a71dd1//src/2d/vehicles/frenet.jl#L20\" target=\"_blank\">/home/raunak/.julia/v0.6/AutomotiveDrivingModels/src/2d/vehicles/frenet.jl:20</a></li> <li> AutomotiveDrivingModels.Frenet(lane::<b>AutomotiveDrivingModels.Lane</b>, s::<b>Float64</b>, t::<b>Float64</b>) at <a href=\"https://github.com/sisl/AutomotiveDrivingModels.jl/tree/fdfcdb2e4735fe1abe9ec0b167d9ba8577a71dd1//src/2d/vehicles/frenet.jl#L20\" target=\"_blank\">/home/raunak/.julia/v0.6/AutomotiveDrivingModels/src/2d/vehicles/frenet.jl:20</a></li> <li> AutomotiveDrivingModels.Frenet(lane::<b>AutomotiveDrivingModels.Lane</b>, s::<b>Float64</b>, t::<b>Float64</b>, ϕ::<b>Float64</b>) at <a href=\"https://github.com/sisl/AutomotiveDrivingModels.jl/tree/fdfcdb2e4735fe1abe9ec0b167d9ba8577a71dd1//src/2d/vehicles/frenet.jl#L20\" target=\"_blank\">/home/raunak/.julia/v0.6/AutomotiveDrivingModels/src/2d/vehicles/frenet.jl:20</a></li> <li> AutomotiveDrivingModels.Frenet(posG::<b>Vec.VecSE2</b>, roadway::<b>AutomotiveDrivingModels.Roadway</b>) at <a href=\"https://github.com/sisl/AutomotiveDrivingModels.jl/tree/fdfcdb2e4735fe1abe9ec0b167d9ba8577a71dd1//src/2d/vehicles/frenet.jl#L23\" target=\"_blank\">/home/raunak/.julia/v0.6/AutomotiveDrivingModels/src/2d/vehicles/frenet.jl:23</a></li> <li> AutomotiveDrivingModels.Frenet(posG::<b>Vec.VecSE2</b>, lane::<b>AutomotiveDrivingModels.Lane</b>, roadway::<b>AutomotiveDrivingModels.Roadway</b>) at <a href=\"https://github.com/sisl/AutomotiveDrivingModels.jl/tree/fdfcdb2e4735fe1abe9ec0b167d9ba8577a71dd1//src/2d/vehicles/frenet.jl#L24\" target=\"_blank\">/home/raunak/.julia/v0.6/AutomotiveDrivingModels/src/2d/vehicles/frenet.jl:24</a></li> <li> AutomotiveDrivingModels.Frenet(roadind, s, t, ϕ) at <a href=\"https://github.com/sisl/AutomotiveDrivingModels.jl/tree/fdfcdb2e4735fe1abe9ec0b167d9ba8577a71dd1//src/2d/vehicles/frenet.jl#L2\" target=\"_blank\">/home/raunak/.julia/v0.6/AutomotiveDrivingModels/src/2d/vehicles/frenet.jl:2</a></li> <li> (::<b>Type{T}</b>)<i>{T}</i>(arg) at <a href=\"https://github.com/JuliaLang/julia/tree/d386e40c17d43b79fc89d3e579fc04547241787c/base/sysimg.jl#L77\" target=\"_blank\">sysimg.jl:77</a></li> </ul>"
      ],
      "text/plain": [
       "# 10 methods for generic function \"(::Type)\":\n",
       "AutomotiveDrivingModels.Frenet(roadind::AutomotiveDrivingModels.RoadIndex, s::Float64, t::Float64, ϕ::Float64) in AutomotiveDrivingModels at /home/raunak/.julia/v0.6/AutomotiveDrivingModels/src/2d/vehicles/frenet.jl:2\n",
       "AutomotiveDrivingModels.Frenet(roadind::AutomotiveDrivingModels.RoadIndex, roadway::AutomotiveDrivingModels.Roadway; t, ϕ) in AutomotiveDrivingModels at /home/raunak/.julia/v0.6/AutomotiveDrivingModels/src/2d/vehicles/frenet.jl:8\n",
       "AutomotiveDrivingModels.Frenet(roadproj::AutomotiveDrivingModels.RoadProjection, roadway::AutomotiveDrivingModels.Roadway) in AutomotiveDrivingModels at /home/raunak/.julia/v0.6/AutomotiveDrivingModels/src/2d/vehicles/frenet.jl:13\n",
       "AutomotiveDrivingModels.Frenet(lane::AutomotiveDrivingModels.Lane, s::Float64) in AutomotiveDrivingModels at /home/raunak/.julia/v0.6/AutomotiveDrivingModels/src/2d/vehicles/frenet.jl:20\n",
       "AutomotiveDrivingModels.Frenet(lane::AutomotiveDrivingModels.Lane, s::Float64, t::Float64) in AutomotiveDrivingModels at /home/raunak/.julia/v0.6/AutomotiveDrivingModels/src/2d/vehicles/frenet.jl:20\n",
       "AutomotiveDrivingModels.Frenet(lane::AutomotiveDrivingModels.Lane, s::Float64, t::Float64, ϕ::Float64) in AutomotiveDrivingModels at /home/raunak/.julia/v0.6/AutomotiveDrivingModels/src/2d/vehicles/frenet.jl:20\n",
       "AutomotiveDrivingModels.Frenet(posG::Vec.VecSE2, roadway::AutomotiveDrivingModels.Roadway) in AutomotiveDrivingModels at /home/raunak/.julia/v0.6/AutomotiveDrivingModels/src/2d/vehicles/frenet.jl:23\n",
       "AutomotiveDrivingModels.Frenet(posG::Vec.VecSE2, lane::AutomotiveDrivingModels.Lane, roadway::AutomotiveDrivingModels.Roadway) in AutomotiveDrivingModels at /home/raunak/.julia/v0.6/AutomotiveDrivingModels/src/2d/vehicles/frenet.jl:24\n",
       "AutomotiveDrivingModels.Frenet(roadind, s, t, ϕ) in AutomotiveDrivingModels at /home/raunak/.julia/v0.6/AutomotiveDrivingModels/src/2d/vehicles/frenet.jl:2\n",
       "(::Type{T})(arg) where T in Base at sysimg.jl:77"
      ]
     },
     "execution_count": 161,
     "metadata": {},
     "output_type": "execute_result"
    }
   ],
   "source": [
    "methods(Frenet)"
   ]
  },
  {
   "cell_type": "code",
   "execution_count": 157,
   "metadata": {},
   "outputs": [
    {
     "name": "stdout",
     "output_type": "stream",
     "text": [
      "veh1.state = VehicleState(VecSE2({10.000, 0.000}, 0.000), Frenet(RoadIndex({1, 0.200000}, {1, 1}), 10.000, 0.000, 0.000), 10.000)\n",
      "veh2.state = VehicleState(VecSE2({20.000, 3.000}, 0.000), Frenet(RoadIndex({1, 0.400000}, {1, 2}), 20.000, 0.000, 0.000), 10.000)\n",
      "veh3.state = VehicleState(VecSE2({30.000, 6.000}, 0.000), Frenet(RoadIndex({1, 0.600000}, {1, 3}), 30.000, 0.000, 0.000), 10.000)\n"
     ]
    },
    {
     "data": {
      "text/plain": [
       "VehicleState(VecSE2({30.000, 6.000}, 0.000), Frenet(RoadIndex({1, 0.600000}, {1, 3}), 30.000, 0.000, 0.000), 10.000)"
      ]
     },
     "execution_count": 157,
     "metadata": {},
     "output_type": "execute_result"
    }
   ],
   "source": [
    "@show veh1.state\n",
    "@show veh2.state\n",
    "@show veh3.state"
   ]
  },
  {
   "cell_type": "code",
   "execution_count": 148,
   "metadata": {},
   "outputs": [
    {
     "data": {
      "text/plain": [
       "AutomotiveDrivingModels.FrenetRelativePosition(RoadIndex({1, 0.200000}, {1, 1}), RoadIndex({1, 0.600000}, {1, 1}), 20.000000000000007, 6.0, 0.0)"
      ]
     },
     "execution_count": 148,
     "metadata": {},
     "output_type": "execute_result"
    }
   ],
   "source": [
    "fre = get_frenet_relative_position(\n",
    "    veh3.state.posG,veh1.state.posF.roadind,roadway)"
   ]
  },
  {
   "cell_type": "code",
   "execution_count": 149,
   "metadata": {},
   "outputs": [
    {
     "name": "stdout",
     "output_type": "stream",
     "text": [
      "fieldnames(fre) = Symbol[:origin, :target, :Δs, :t, :ϕ]\n",
      "fre.Δs = 20.000000000000007\n"
     ]
    },
    {
     "data": {
      "text/plain": [
       "6.0"
      ]
     },
     "execution_count": 149,
     "metadata": {},
     "output_type": "execute_result"
    }
   ],
   "source": [
    "@show fieldnames(fre)\n",
    "@show fre.Δs\n",
    "fre.t"
   ]
  },
  {
   "cell_type": "code",
   "execution_count": 140,
   "metadata": {},
   "outputs": [
    {
     "data": {
      "text/plain": [
       "207.3832687456586"
      ]
     },
     "execution_count": 140,
     "metadata": {},
     "output_type": "execute_result"
    }
   ],
   "source": [
    "fre.Δs"
   ]
  },
  {
   "cell_type": "markdown",
   "metadata": {},
   "source": [
    "# Stadium Roadway"
   ]
  },
  {
   "cell_type": "code",
   "execution_count": 200,
   "metadata": {
    "scrolled": false
   },
   "outputs": [
    {
     "data": {
      "image/png": "[encoded data removed]",
      "text/plain": [
       "Cairo.CairoSurface{UInt32}(Ptr{Void} @0x000000000778d210, 1000.0, 600.0, #undef)"
      ]
     },
     "execution_count": 200,
     "metadata": {},
     "output_type": "execute_result"
    }
   ],
   "source": [
    "roadway = gen_stadium_roadway(3)\n",
    "scene = Scene()\n",
    "state1 = VehicleState(Frenet(roadway[LaneTag(1,1)],10.0), roadway, 10.0)\n",
    "veh1 = Vehicle(state1, VehicleDef(), 1)\n",
    "state2 = VehicleState(Frenet(roadway[LaneTag(1,1)],20.0), roadway, 10.0)\n",
    "veh2 = Vehicle(state2, VehicleDef(), 2)\n",
    "state3 = VehicleState(Frenet(roadway[LaneTag(3,1)],0.0), roadway, 10.0)\n",
    "veh3 = Vehicle(state3, VehicleDef(), 3)\n",
    "state4 = VehicleState(Frenet(roadway[LaneTag(4,3)],0.0), roadway, 10.0)\n",
    "veh4 = Vehicle(state4, VehicleDef(), 3)\n",
    "push!(scene, veh1)\n",
    "push!(scene, veh2)\n",
    "push!(scene, veh3)\n",
    "push!(scene, veh4)\n",
    "render(scene, roadway, cam=FitToContentCamera(0.))"
   ]
  },
  {
   "cell_type": "code",
   "execution_count": 201,
   "metadata": {},
   "outputs": [
    {
     "data": {
      "text/plain": [
       "AutomotiveDrivingModels.FrenetRelativePosition(RoadIndex({5, 0.928669}, {1, 1}), RoadIndex({10, 0.857338}, {1, 1}), 9.999999999999996, 5.322427758919252e-16, 0.0)"
      ]
     },
     "execution_count": 201,
     "metadata": {},
     "output_type": "execute_result"
    }
   ],
   "source": [
    "fre = get_frenet_relative_position(\n",
    "    veh2.state.posG,veh1.state.posF.roadind,roadway)"
   ]
  },
  {
   "cell_type": "code",
   "execution_count": 193,
   "metadata": {},
   "outputs": [
    {
     "data": {
      "text/plain": [
       "3-element Array{AutomotiveDrivingModels.Lane,1}:\n",
       " AutomotiveDrivingModels.Lane(LaneTag(1, 1), AutomotiveDrivingModels.CurvePt[CurvePt({100.000, -6.000, 0.000}, 0.000, NaN, NaN), CurvePt({102.027, -5.934, 0.065}, 2.029, NaN, NaN), CurvePt({104.046, -5.735, 0.131}, 4.058, NaN, NaN), CurvePt({106.048, -5.404, 0.196}, 6.087, NaN, NaN), CurvePt({108.023, -4.944, 0.262}, 8.116, NaN, NaN), CurvePt({109.965, -4.355, 0.327}, 10.145, NaN, NaN), CurvePt({111.863, -3.640, 0.393}, 12.174, NaN, NaN), CurvePt({113.711, -2.803, 0.458}, 14.203, NaN, NaN), CurvePt({115.500, -1.847, 0.524}, 16.232, NaN, NaN), CurvePt({117.223, -0.776, 0.589}, 18.261, NaN, NaN)  …  CurvePt({125.776, 7.777, 0.982}, 30.434, NaN, NaN), CurvePt({126.847, 9.500, 1.047}, 32.463, NaN, NaN), CurvePt({127.803, 11.289, 1.113}, 34.492, NaN, NaN), CurvePt({128.640, 13.137, 1.178}, 36.521, NaN, NaN), CurvePt({129.355, 15.035, 1.244}, 38.550, NaN, NaN), CurvePt({129.944, 16.977, 1.309}, 40.579, NaN, NaN), CurvePt({130.404, 18.952, 1.374}, 42.608, NaN, NaN), CurvePt({130.735, 20.954, 1.440}, 44.637, NaN, NaN), CurvePt({130.934, 22.973, 1.505}, 46.666, NaN, NaN), CurvePt({131.000, 25.000, 1.571}, 48.695, NaN, NaN)], 3.0, AutomotiveDrivingModels.SpeedLimit(-Inf, Inf), AutomotiveDrivingModels.LaneBoundary(:broken, :white), AutomotiveDrivingModels.LaneBoundary(:solid, :white), AutomotiveDrivingModels.LaneConnection[LaneConnection(D, CurveIndex(24, 1.000), RoadIndex({1, 0.000000}, {2, 1})], AutomotiveDrivingModels.LaneConnection[LaneConnection(U, CurveIndex(1, 0.000), RoadIndex({24, 1.000000}, {4, 1})])\n",
       " AutomotiveDrivingModels.Lane(LaneTag(1, 2), AutomotiveDrivingModels.CurvePt[CurvePt({100.000, -3.000, 0.000}, 0.000, NaN, NaN), CurvePt({101.831, -2.940, 0.065}, 1.833, NaN, NaN), CurvePt({103.655, -2.760, 0.131}, 3.665, NaN, NaN), CurvePt({105.463, -2.462, 0.196}, 5.498, NaN, NaN), CurvePt({107.247, -2.046, 0.262}, 7.330, NaN, NaN), CurvePt({109.000, -1.514, 0.327}, 9.163, NaN, NaN), CurvePt({110.715, -0.869, 0.393}, 10.996, NaN, NaN), CurvePt({112.384, -0.112, 0.458}, 12.828, NaN, NaN), CurvePt({114.000, 0.751, 0.524}, 14.661, NaN, NaN), CurvePt({115.556, 1.719, 0.589}, 16.493, NaN, NaN)  …  CurvePt({123.281, 9.444, 0.982}, 27.489, NaN, NaN), CurvePt({124.249, 11.000, 1.047}, 29.322, NaN, NaN), CurvePt({125.112, 12.616, 1.113}, 31.154, NaN, NaN), CurvePt({125.869, 14.285, 1.178}, 32.987, NaN, NaN), CurvePt({126.514, 16.000, 1.244}, 34.819, NaN, NaN), CurvePt({127.046, 17.753, 1.309}, 36.652, NaN, NaN), CurvePt({127.462, 19.537, 1.374}, 38.485, NaN, NaN), CurvePt({127.760, 21.345, 1.440}, 40.317, NaN, NaN), CurvePt({127.940, 23.169, 1.505}, 42.150, NaN, NaN), CurvePt({128.000, 25.000, 1.571}, 43.982, NaN, NaN)], 3.0, AutomotiveDrivingModels.SpeedLimit(-Inf, Inf), AutomotiveDrivingModels.LaneBoundary(:broken, :white), AutomotiveDrivingModels.LaneBoundary(:broken, :white), AutomotiveDrivingModels.LaneConnection[LaneConnection(D, CurveIndex(24, 1.000), RoadIndex({1, 0.000000}, {2, 2})], AutomotiveDrivingModels.LaneConnection[LaneConnection(U, CurveIndex(1, 0.000), RoadIndex({24, 1.000000}, {4, 2})]) \n",
       " AutomotiveDrivingModels.Lane(LaneTag(1, 3), AutomotiveDrivingModels.CurvePt[CurvePt({100.000, 0.000, 0.000}, 0.000, NaN, NaN), CurvePt({101.635, 0.054, 0.065}, 1.636, NaN, NaN), CurvePt({103.263, 0.214, 0.131}, 3.272, NaN, NaN), CurvePt({104.877, 0.480, 0.196}, 4.909, NaN, NaN), CurvePt({106.470, 0.852, 0.262}, 6.545, NaN, NaN), CurvePt({108.036, 1.327, 0.327}, 8.181, NaN, NaN), CurvePt({109.567, 1.903, 0.393}, 9.817, NaN, NaN), CurvePt({111.057, 2.578, 0.458}, 11.454, NaN, NaN), CurvePt({112.500, 3.349, 0.524}, 13.090, NaN, NaN), CurvePt({113.889, 4.213, 0.589}, 14.726, NaN, NaN)  …  CurvePt({120.787, 11.111, 0.982}, 24.544, NaN, NaN), CurvePt({121.651, 12.500, 1.047}, 26.180, NaN, NaN), CurvePt({122.422, 13.943, 1.113}, 27.816, NaN, NaN), CurvePt({123.097, 15.433, 1.178}, 29.452, NaN, NaN), CurvePt({123.673, 16.964, 1.244}, 31.089, NaN, NaN), CurvePt({124.148, 18.530, 1.309}, 32.725, NaN, NaN), CurvePt({124.520, 20.123, 1.374}, 34.361, NaN, NaN), CurvePt({124.786, 21.737, 1.440}, 35.997, NaN, NaN), CurvePt({124.946, 23.365, 1.505}, 37.634, NaN, NaN), CurvePt({125.000, 25.000, 1.571}, 39.270, NaN, NaN)], 3.0, AutomotiveDrivingModels.SpeedLimit(-Inf, Inf), AutomotiveDrivingModels.LaneBoundary(:solid, :white), AutomotiveDrivingModels.LaneBoundary(:broken, :white), AutomotiveDrivingModels.LaneConnection[LaneConnection(D, CurveIndex(24, 1.000), RoadIndex({1, 0.000000}, {2, 3})], AutomotiveDrivingModels.LaneConnection[LaneConnection(U, CurveIndex(1, 0.000), RoadIndex({24, 1.000000}, {4, 3})])          "
      ]
     },
     "execution_count": 193,
     "metadata": {},
     "output_type": "execute_result"
    }
   ],
   "source": [
    "(roadway.segments[1].lanes)"
   ]
  },
  {
   "cell_type": "code",
   "execution_count": 194,
   "metadata": {},
   "outputs": [
    {
     "data": {
      "text/plain": [
       "CurvePt({-0.000, -6.000, 6.283}, 48.695, NaN, NaN)"
      ]
     },
     "execution_count": 194,
     "metadata": {},
     "output_type": "execute_result"
    }
   ],
   "source": [
    "lane = roadway[LaneTag(4,1)]\n",
    "lane.curve[end]"
   ]
  },
  {
   "cell_type": "code",
   "execution_count": 133,
   "metadata": {},
   "outputs": [
    {
     "data": {
      "text/plain": [
       "2-element Array{Symbol,1}:\n",
       " :ind\n",
       " :tag"
      ]
     },
     "execution_count": 133,
     "metadata": {},
     "output_type": "execute_result"
    }
   ],
   "source": [
    "fieldnames(\n",
    "    state1.posF.roadind)\n",
    "#(state1.posF.roadind.tag.segment)"
   ]
  },
  {
   "cell_type": "code",
   "execution_count": 131,
   "metadata": {},
   "outputs": [
    {
     "name": "stdout",
     "output_type": "stream",
     "text": [
      "\"yomahesh\" = \"yomahesh\"\n"
     ]
    },
    {
     "data": {
      "text/plain": [
       "\"yomahesh\""
      ]
     },
     "execution_count": 131,
     "metadata": {},
     "output_type": "execute_result"
    }
   ],
   "source": [
    "if veh1.state.posF.roadind.tag.segment == veh2.state.posF.roadind.tag.segment\n",
    "    @show \"yo\"\n",
    "else\n",
    "    @show \"yomahesh\"\n",
    "end"
   ]
  },
  {
   "cell_type": "markdown",
   "metadata": {},
   "source": [
    "## Detective on roadway elements\n",
    "- Trying to find where the length of a segment is stored\n",
    "- Inspired by: why is there a gap between new end of segment 1 and start of segment 2"
   ]
  },
  {
   "cell_type": "code",
   "execution_count": 102,
   "metadata": {},
   "outputs": [
    {
     "data": {
      "text/plain": [
       "4"
      ]
     },
     "execution_count": 102,
     "metadata": {},
     "output_type": "execute_result"
    }
   ],
   "source": [
    "fieldnames(roadway.segments[1])\n",
    "length(roadway.segments)"
   ]
  },
  {
   "cell_type": "code",
   "execution_count": 111,
   "metadata": {},
   "outputs": [
    {
     "data": {
      "text/plain": [
       "2-element Array{Symbol,1}:\n",
       " :id   \n",
       " :lanes"
      ]
     },
     "execution_count": 111,
     "metadata": {},
     "output_type": "execute_result"
    }
   ],
   "source": [
    "typeof(roadway.segments[1])\n",
    "fieldnames(roadway.segments[1])"
   ]
  },
  {
   "cell_type": "code",
   "execution_count": 119,
   "metadata": {},
   "outputs": [
    {
     "name": "stdout",
     "output_type": "stream",
     "text": [
      "typeof(roadway.segments[1].lanes[1]) = AutomotiveDrivingModels.Lane\n"
     ]
    },
    {
     "data": {
      "text/plain": [
       "8-element Array{Symbol,1}:\n",
       " :tag           \n",
       " :curve         \n",
       " :width         \n",
       " :speed_limit   \n",
       " :boundary_left \n",
       " :boundary_right\n",
       " :exits         \n",
       " :entrances     "
      ]
     },
     "execution_count": 119,
     "metadata": {},
     "output_type": "execute_result"
    }
   ],
   "source": [
    "@show typeof(roadway.segments[1].lanes[1])\n",
    "fieldnames(roadway.segments[1].lanes[1])"
   ]
  },
  {
   "cell_type": "code",
   "execution_count": 116,
   "metadata": {},
   "outputs": [
    {
     "data": {
      "text/plain": [
       "2-element Array{Symbol,1}:\n",
       " :segment\n",
       " :lane   "
      ]
     },
     "execution_count": 116,
     "metadata": {},
     "output_type": "execute_result"
    }
   ],
   "source": [
    "typeof(roadway.segments[1].lanes[1].tag)\n",
    "fieldnames(roadway.segments[1].lanes[1].tag)"
   ]
  },
  {
   "cell_type": "code",
   "execution_count": 117,
   "metadata": {},
   "outputs": [
    {
     "data": {
      "text/plain": [
       "Int64"
      ]
     },
     "execution_count": 117,
     "metadata": {},
     "output_type": "execute_result"
    }
   ],
   "source": [
    "typeof(roadway.segments[1].lanes[1].tag.lane)"
   ]
  },
  {
   "cell_type": "code",
   "execution_count": 121,
   "metadata": {},
   "outputs": [
    {
     "name": "stdout",
     "output_type": "stream",
     "text": [
      "typeof(roadway.segments[1].lanes[1].curve) = Array{AutomotiveDrivingModels.CurvePt,1}\n"
     ]
    },
    {
     "data": {
      "text/plain": [
       "4-element Array{Symbol,1}:\n",
       " :pos\n",
       " :s  \n",
       " :k  \n",
       " :kd "
      ]
     },
     "execution_count": 121,
     "metadata": {},
     "output_type": "execute_result"
    }
   ],
   "source": [
    "@show typeof(roadway.segments[1].lanes[1].curve)\n",
    "fieldnames(roadway.segments[1].lanes[1].curve[1])"
   ]
  },
  {
   "cell_type": "code",
   "execution_count": 122,
   "metadata": {},
   "outputs": [
    {
     "name": "stdout",
     "output_type": "stream",
     "text": [
      "roadway.segments[1].lanes[1].curve[1].s = 0.0\n"
     ]
    },
    {
     "data": {
      "text/plain": [
       "0.0"
      ]
     },
     "execution_count": 122,
     "metadata": {},
     "output_type": "execute_result"
    }
   ],
   "source": [
    "@show (roadway.segments[1].lanes[1].curve[1].s)"
   ]
  },
  {
   "cell_type": "code",
   "execution_count": null,
   "metadata": {},
   "outputs": [],
   "source": [
    "get_frenet_relative_position(veh2.state.posG,veh1.state.posF.roadind,roadway)"
   ]
  },
  {
   "cell_type": "code",
   "execution_count": 123,
   "metadata": {},
   "outputs": [
    {
     "data": {
      "text/plain": [
       "533-element Array{Symbol,1}:\n",
       " :AABB                     \n",
       " :AABB_center_length_width \n",
       " :ACC                      \n",
       " :ACCFS                    \n",
       " :ACCFT                    \n",
       " :ANGULARRATEF             \n",
       " :ANGULARRATEG             \n",
       " :A_REQ_STAYINLANE         \n",
       " :AbstractCoordinate       \n",
       " :AbstractFeature          \n",
       " :AbstractFeatureExtractor \n",
       " :AbstractMixtureModel     \n",
       " :AbstractMvNormal         \n",
       " ⋮                         \n",
       " :symbol2feature           \n",
       " :test_distr               \n",
       " :test_samples             \n",
       " :tick!                    \n",
       " :to_oriented_bounding_box!\n",
       " :track_lane!              \n",
       " :track_longitudinal!      \n",
       " :update!                  \n",
       " :var                      \n",
       " :varlogx                  \n",
       " :wsample                  \n",
       " :wsample!                 "
      ]
     },
     "execution_count": 123,
     "metadata": {},
     "output_type": "execute_result"
    }
   ],
   "source": [
    "# Pretty useless thing called names that gives all the available\n",
    "# names with the module AutomotiveDrivingModels\n",
    "names(AutomotiveDrivingModels)"
   ]
  },
  {
   "cell_type": "markdown",
   "metadata": {},
   "source": [
    "# Overlays"
   ]
  },
  {
   "cell_type": "code",
   "execution_count": 169,
   "metadata": {},
   "outputs": [],
   "source": [
    "struct LaneOverlay <: SceneOverlay\n",
    "    lane::Lane\n",
    "    color::Colorant\n",
    "end\n",
    "\n",
    "function AutoViz.render!(rendermodel::RenderModel, overlay::LaneOverlay, scene::Scene, roadway::Roadway)\n",
    "    render!(rendermodel, overlay.lane, roadway, color_asphalt=overlay.color) # this display a lane with the specified color\n",
    "    return rendermodel\n",
    "end"
   ]
  },
  {
   "cell_type": "code",
   "execution_count": 171,
   "metadata": {},
   "outputs": [
    {
     "data": {
      "image/png": "[encoded data removed]",
      "text/plain": [
       "Cairo.CairoSurface{UInt32}(Ptr{Void} @0x000000000945d200, 1000.0, 600.0, #undef)"
      ]
     },
     "execution_count": 171,
     "metadata": {},
     "output_type": "execute_result"
    }
   ],
   "source": [
    "lane_overlay = LaneOverlay(roadway[LaneTag(2,1)], RGBA(0.0,0.0,1.0,0.5))\n",
    "render(scene, roadway, [lane_overlay], cam=FitToContentCamera(0.))"
   ]
  }
 ],
 "metadata": {
  "kernelspec": {
   "display_name": "Julia 0.6.2",
   "language": "julia",
   "name": "julia-0.6"
  },
  "language_info": {
   "file_extension": ".jl",
   "mimetype": "application/julia",
   "name": "julia",
   "version": "0.6.2"
  }
 },
 "nbformat": 4,
 "nbformat_minor": 2
}
