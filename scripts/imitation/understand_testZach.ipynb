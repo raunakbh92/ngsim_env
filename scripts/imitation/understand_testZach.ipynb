{
 "cells": [
  {
   "cell_type": "markdown",
   "metadata": {},
   "source": [
    "- Raunak trying to learn stuff before incorporating Zach stuff into ngsim\n",
    "- Purpose of this code is to find the types of things that Zach has used\n",
    "- So that we can initialize the correct types when calling Zach code from env file\n",
    "- Learning\n",
    "    - Have to do `include_visualization()` to be able to use `visualize` function\n",
    "    - Had to change `Multilane.jl/src/visualization.jl` to work with `CarPhysicalState`\n",
    "    instead of `CarState` (see Zach's pull request in Multilane.jl for more details)\n",
    "- Timeline\n",
    "    - 17 Dec 2018: Added planner states visualization"
   ]
  },
  {
   "cell_type": "code",
   "execution_count": 1,
   "metadata": {},
   "outputs": [
    {
     "data": {
      "text/html": [
       "    <script class='js-collapse-script'>\n",
       "        var curMatch =\n",
       "            window.location.href\n",
       "            .match(/(.*?)\\/notebooks\\/.*\\.ipynb/);\n",
       "\n",
       "        curMatch = curMatch ||\n",
       "            window.location.href\n",
       "            .match(/(.*?)\\/apps\\/.*\\.ipynb/);\n",
       "\n",
       "        if ( curMatch ) {\n",
       "            $('head').append('<base href=\"' + curMatch[1] + '/\">');\n",
       "        }\n",
       "    </script>\n"
      ],
      "text/plain": [
       "HTML{String}(\"    <script class='js-collapse-script'>\\n        var curMatch =\\n            window.location.href\\n            .match(/(.*?)\\\\/notebooks\\\\/.*\\\\.ipynb/);\\n\\n        curMatch = curMatch ||\\n            window.location.href\\n            .match(/(.*?)\\\\/apps\\\\/.*\\\\.ipynb/);\\n\\n        if ( curMatch ) {\\n            \\$('head').append('<base href=\\\"' + curMatch[1] + '/\\\">');\\n        }\\n    </script>\\n\")"
      ]
     },
     "metadata": {},
     "output_type": "display_data"
    },
    {
     "data": {
      "text/html": [
       "<script class='js-collapse-script' src='/assetserver/5dc1e185f8b2175037a0bb4bac5baa1c8ca39ea5-assets/webio/dist/bundle.js'></script>"
      ],
      "text/plain": [
       "HTML{String}(\"<script class='js-collapse-script' src='/assetserver/5dc1e185f8b2175037a0bb4bac5baa1c8ca39ea5-assets/webio/dist/bundle.js'></script>\")"
      ]
     },
     "metadata": {},
     "output_type": "display_data"
    },
    {
     "data": {
      "text/html": [
       "<script class='js-collapse-script' src='/assetserver/5dc1e185f8b2175037a0bb4bac5baa1c8ca39ea5-assets/providers/ijulia_setup.js'></script>"
      ],
      "text/plain": [
       "HTML{String}(\"<script class='js-collapse-script' src='/assetserver/5dc1e185f8b2175037a0bb4bac5baa1c8ca39ea5-assets/providers/ijulia_setup.js'></script>\")"
      ]
     },
     "metadata": {},
     "output_type": "display_data"
    },
    {
     "data": {
      "text/html": [
       "  <script class='js-collapse-script'>\n",
       "    $('.js-collapse-script').parent('.output_subarea').css('padding', '0');\n",
       "  </script>\n"
      ],
      "text/plain": [
       "HTML{String}(\"  <script class='js-collapse-script'>\\n    \\$('.js-collapse-script').parent('.output_subarea').css('padding', '0');\\n  </script>\\n\")"
      ]
     },
     "metadata": {},
     "output_type": "display_data"
    },
    {
     "name": "stderr",
     "output_type": "stream",
     "text": [
      "\u001b[1m\u001b[36mINFO: \u001b[39m\u001b[22m\u001b[36mLoading HttpServer methods...\n",
      "\u001b[39m\u001b[1m\u001b[36mINFO: \u001b[39m\u001b[22m\u001b[36mRecompiling stale cache file /home/raunak/.julia/lib/v0.6/Reel.ji for module Reel.\n",
      "\u001b[39m\u001b[1m\u001b[36mINFO: \u001b[39m\u001b[22m\u001b[36mRecompiling stale cache file /home/raunak/.julia/lib/v0.6/AutoViz.ji for module AutoViz.\n",
      "\u001b[39m"
     ]
    }
   ],
   "source": [
    "using POMDPToolbox\n",
    "using POMDPs\n",
    "using POMCPOW\n",
    "using Multilane\n",
    "using AutoViz\n",
    "using Reel\n",
    "using AutomotiveDrivingModels\n",
    "using JLD"
   ]
  },
  {
   "cell_type": "code",
   "execution_count": 2,
   "metadata": {},
   "outputs": [],
   "source": [
    "solver = SimpleSolver()\n",
    "cor = 0.75\n",
    "behaviors = standard_uniform(correlation=cor)\n",
    "pp = PhysicalParam(5, w_lane = 3.0, lane_length=100.0)\n",
    "dmodel = NoCrashIDMMOBILModel(10,pp,behaviors=behaviors,p_appear=1.0,\n",
    "                            lane_terminate=true,max_dist=1000.0,\n",
    "                            brake_terminate_thresh=4.0,\n",
    "                            speed_terminate_thresh=15.0)\n",
    "rmodel = SuccessReward(lambda=0)\n",
    "pomdp = NoCrashPOMDP{typeof(rmodel), typeof(behaviors)}(dmodel, rmodel, 0.95, false)\n",
    "mdp = NoCrashMDP{typeof(rmodel), typeof(behaviors)}(dmodel, rmodel, 0.95, false)\n",
    "policy = solve(solver,mdp);"
   ]
  },
  {
   "cell_type": "code",
   "execution_count": null,
   "metadata": {},
   "outputs": [],
   "source": [
    "AutomotiveDrivingModels.DEFAULT_LANE_WIDTH"
   ]
  },
  {
   "cell_type": "code",
   "execution_count": null,
   "metadata": {},
   "outputs": [],
   "source": [
    "pp.w_lane"
   ]
  },
  {
   "cell_type": "code",
   "execution_count": null,
   "metadata": {},
   "outputs": [],
   "source": [
    "seed = 12\n",
    "srand(seed)\n",
    "n = 5\n",
    "xs = rand(5).*100.0\n",
    "ys = rand(5).*4\n",
    "vels = 1.0*randn(5).+30.0\n",
    "x = 150.0\n",
    "t = x/30.0\n",
    "egostate = CarPhysicalState(50.0,0.0,30.0,0.0,1)\n",
    "state = MLPhysicalState(x,t,[egostate],nothing)\n",
    "for i in 1:n\n",
    "    cs = CarPhysicalState(xs[i],ys[i],vels[i],0.0,i+1)\n",
    "    push!(state.cars,cs)\n",
    "end\n",
    "a = action(policy,state)"
   ]
  },
  {
   "cell_type": "code",
   "execution_count": null,
   "metadata": {},
   "outputs": [],
   "source": [
    "@show state"
   ]
  },
  {
   "cell_type": "code",
   "execution_count": 3,
   "metadata": {},
   "outputs": [
    {
     "data": {
      "text/plain": [
       "make_rollouts (generic function with 1 method)"
      ]
     },
     "execution_count": 3,
     "metadata": {},
     "output_type": "execute_result"
    }
   ],
   "source": [
    "include_visualization()"
   ]
  },
  {
   "cell_type": "code",
   "execution_count": null,
   "metadata": {},
   "outputs": [],
   "source": [
    "? visualize"
   ]
  },
  {
   "cell_type": "code",
   "execution_count": null,
   "metadata": {},
   "outputs": [],
   "source": [
    "@show state.cars"
   ]
  },
  {
   "cell_type": "code",
   "execution_count": 4,
   "metadata": {},
   "outputs": [
    {
     "data": {
      "text/plain": [
       "Dict{String,Any} with 1 entry:\n",
       "  \"states_over_time\" => Multilane.MLPhysicalState[Multilane.MLPhysicalState(155…"
      ]
     },
     "execution_count": 4,
     "metadata": {},
     "output_type": "execute_result"
    }
   ],
   "source": [
    "h = load(\"zach_state_viz.jld\")"
   ]
  },
  {
   "cell_type": "code",
   "execution_count": 5,
   "metadata": {},
   "outputs": [
    {
     "data": {
      "text/plain": [
       "100"
      ]
     },
     "execution_count": 5,
     "metadata": {},
     "output_type": "execute_result"
    }
   ],
   "source": [
    "viz_states = (h[\"states_over_time\"])\n",
    "length(viz_states)"
   ]
  },
  {
   "cell_type": "code",
   "execution_count": null,
   "metadata": {},
   "outputs": [],
   "source": [
    "using Interact\n",
    "@manipulate for step in 1 : length(viz_states)\n",
    "    visualize(pomdp,viz_states[step],1)\n",
    "end"
   ]
  },
  {
   "cell_type": "code",
   "execution_count": null,
   "metadata": {},
   "outputs": [],
   "source": [
    "k = visualize(pomdp,viz_states[1],1)"
   ]
  },
  {
   "cell_type": "code",
   "execution_count": null,
   "metadata": {},
   "outputs": [],
   "source": [
    "write_to_png(k,\"test\")"
   ]
  },
  {
   "cell_type": "code",
   "execution_count": 42,
   "metadata": {},
   "outputs": [
    {
     "data": {
      "text/plain": [
       "visual_planner (generic function with 1 method)"
      ]
     },
     "execution_count": 42,
     "metadata": {},
     "output_type": "execute_result"
    }
   ],
   "source": [
    "function visual_planner(t,dt)\n",
    "    framenum = Int(floor(t/dt))+1\n",
    "    visualize(pomdp,viz_states[framenum],1)\n",
    "end"
   ]
  },
  {
   "cell_type": "code",
   "execution_count": 41,
   "metadata": {},
   "outputs": [
    {
     "name": "stdout",
     "output_type": "stream",
     "text": [
      "render = visual_planner\n",
      "framenum = 1\n",
      "framenum = 2\n",
      "framenum = 3\n",
      "framenum = 4\n",
      "framenum = 5\n",
      "framenum = 6\n",
      "framenum = 6\n",
      "framenum = 7\n",
      "framenum = 8\n",
      "framenum = 9\n",
      "framenum = 10\n",
      "framenum = 11\n",
      "framenum = 12\n",
      "framenum = 14\n",
      "framenum = 15\n",
      "framenum = 16\n",
      "framenum = 17\n",
      "framenum = 18\n",
      "framenum = 19\n",
      "framenum = 20\n",
      "framenum = 21\n",
      "framenum = 22\n",
      "framenum = 23\n",
      "framenum = 24\n",
      "framenum = 25\n",
      "framenum = 26\n",
      "framenum = 27\n",
      "framenum = 28\n",
      "framenum = 29\n",
      "framenum = 30\n",
      "framenum = 31\n",
      "framenum = 32\n",
      "framenum = 33\n",
      "framenum = 34\n",
      "framenum = 35\n",
      "framenum = 36\n",
      "framenum = 37\n",
      "framenum = 38\n",
      "framenum = 39\n",
      "framenum = 40\n",
      "framenum = 41\n",
      "framenum = 42\n",
      "framenum = 43\n",
      "framenum = 44\n",
      "framenum = 45\n",
      "framenum = 46\n",
      "framenum = 46\n",
      "framenum = 47\n",
      "framenum = 48\n",
      "framenum = 49\n",
      "framenum = 50\n",
      "framenum = 51\n",
      "framenum = 52\n",
      "framenum = 53\n",
      "framenum = 54\n",
      "framenum = 55\n",
      "framenum = 56\n",
      "framenum = 57\n",
      "framenum = 58\n",
      "framenum = 59\n",
      "framenum = 60\n",
      "framenum = 61\n",
      "framenum = 62\n",
      "framenum = 63\n",
      "framenum = 64\n",
      "framenum = 65\n",
      "framenum = 66\n",
      "framenum = 67\n",
      "framenum = 68\n",
      "framenum = 69\n",
      "framenum = 70\n",
      "framenum = 71\n",
      "framenum = 72\n",
      "framenum = 73\n",
      "framenum = 74\n",
      "framenum = 75\n",
      "framenum = 76\n",
      "framenum = 77\n",
      "framenum = 78\n",
      "framenum = 79\n",
      "framenum = 80\n",
      "framenum = 81\n",
      "framenum = 82\n",
      "framenum = 83\n",
      "framenum = 84\n",
      "framenum = 85\n",
      "framenum = 86\n",
      "framenum = 87\n",
      "framenum = 88\n",
      "framenum = 89\n",
      "framenum = 90\n",
      "framenum = 91\n",
      "framenum = 92\n",
      "framenum = 93\n",
      "framenum = 94\n",
      "framenum = 95\n",
      "framenum = 96\n",
      "framenum = 97\n",
      "framenum = 98\n",
      "framenum = 99\n"
     ]
    },
    {
     "data": {
      "text/html": [
       "<video autoplay controls><source src=\"files/reel-13316384665563443348.webm?5287258527513923903\" type=\"video/webm\"></video>"
      ],
      "text/plain": [
       "Reel.Frames{MIME{Symbol(\"image/png\")}}(\"/tmp/tmp9MHROL\", 0x0000000000000064, 10.0, nothing)"
      ]
     },
     "execution_count": 41,
     "metadata": {},
     "output_type": "execute_result"
    }
   ],
   "source": [
    "film = roll(visual_planner,fps=10,duration=10.0)"
   ]
  },
  {
   "cell_type": "markdown",
   "metadata": {},
   "source": [
    "# Types of things"
   ]
  },
  {
   "cell_type": "code",
   "execution_count": null,
   "metadata": {},
   "outputs": [],
   "source": [
    "typeof(policy)"
   ]
  },
  {
   "cell_type": "code",
   "execution_count": null,
   "metadata": {},
   "outputs": [],
   "source": [
    "typeof(mdp)"
   ]
  },
  {
   "cell_type": "code",
   "execution_count": null,
   "metadata": {},
   "outputs": [],
   "source": [
    "typeof(pomdp)"
   ]
  },
  {
   "cell_type": "code",
   "execution_count": null,
   "metadata": {},
   "outputs": [],
   "source": [
    "typeof(rmodel)"
   ]
  },
  {
   "cell_type": "code",
   "execution_count": null,
   "metadata": {},
   "outputs": [],
   "source": [
    "typeof(dmodel)"
   ]
  },
  {
   "cell_type": "code",
   "execution_count": null,
   "metadata": {},
   "outputs": [],
   "source": [
    "typeof(pp)"
   ]
  },
  {
   "cell_type": "code",
   "execution_count": null,
   "metadata": {},
   "outputs": [],
   "source": [
    "typeof(behaviors)"
   ]
  },
  {
   "cell_type": "code",
   "execution_count": null,
   "metadata": {},
   "outputs": [],
   "source": [
    "typeof(cor)"
   ]
  },
  {
   "cell_type": "code",
   "execution_count": null,
   "metadata": {},
   "outputs": [],
   "source": [
    "typeof(solver)"
   ]
  },
  {
   "cell_type": "code",
   "execution_count": null,
   "metadata": {},
   "outputs": [],
   "source": [
    "@fields(solver)"
   ]
  },
  {
   "cell_type": "code",
   "execution_count": null,
   "metadata": {},
   "outputs": [],
   "source": [
    "fields(solver)"
   ]
  },
  {
   "cell_type": "code",
   "execution_count": null,
   "metadata": {},
   "outputs": [],
   "source": [
    "fieldnames(solver)"
   ]
  },
  {
   "cell_type": "code",
   "execution_count": null,
   "metadata": {},
   "outputs": [],
   "source": [
    "@show action"
   ]
  },
  {
   "cell_type": "code",
   "execution_count": null,
   "metadata": {},
   "outputs": [],
   "source": []
  }
 ],
 "metadata": {
  "kernelspec": {
   "display_name": "Julia 0.6.2",
   "language": "julia",
   "name": "julia-0.6"
  },
  "language_info": {
   "file_extension": ".jl",
   "mimetype": "application/julia",
   "name": "julia",
   "version": "0.6.2"
  }
 },
 "nbformat": 4,
 "nbformat_minor": 2
}
