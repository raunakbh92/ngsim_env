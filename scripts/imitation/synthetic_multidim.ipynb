{
 "cells": [
  {
   "cell_type": "markdown",
   "metadata": {},
   "source": [
    "- Goal\n",
    "    - Create synthetic data using IDM\n",
    "    - Learn parameters of that data using particle filtering\n",
    "    - Aliter 7 Feb: Learn using CEM idea, fitness function and then distb and then sample\n",
    "- Learning\n",
    "    - Need at least 2 vehicles so that there is a neighbor in the front\n",
    "    - Otherwise src/1d/driver/lane_follower_driver errors\n",
    "    - That is why the `AutomotiveDrivingModels/doc/1DMobius` stuff does \n",
    "    not work with 1 car only (needs at least 2 cars)\n",
    "    - The tutorial does not work with `gen_straight_roadway` because that\n",
    "    generates a roadway of type AutomotiveDrivingModels.roadway as opposed to\n",
    "    AutomotiveDrivingModels.StraightRoadway\n",
    "- Open question\n",
    "    - IDM won't work unless there is a car in front (errors saynig nothing in sight)\n",
    "    - We are focusing on learning the params of the second car here. Is that sound sensible?\n",
    "- Flow of code\n",
    "    - Call the required `usings`\n",
    "    - Define functions required\n",
    "    - Actual running things\n",
    "        - Generate true trajectory\n",
    "        - Generate a set of particles uniformly between sensible range of values\n",
    "        - Compute fitness, sort and select numtop\n",
    "        - Fit a distribution over this\n",
    "        - Resample particles\n",
    "- Scenario\n",
    "    - Slower car in front (car 1)\n",
    "    - Faster car behind (car 2)\n",
    "    - We want to estimate params of car 2\n",
    "- Feb 10: Adding timegap_des as our 2nd param in the 2 car, 1D, IDM scenario\n",
    "    - Make code capable of handling 2d param. So far, had only scalar param\n",
    "    i.e v_des\n",
    "    - Fitting 2D distributions is required now\n",
    "- Feb 22\n",
    "    - the `rec` generated using `simulate` is a devious monster\n",
    "    - It stores the last timestep in the 1st entry and first timestep in last entry\n",
    "    - Be careful"
   ]
  },
  {
   "cell_type": "code",
   "execution_count": 2,
   "metadata": {},
   "outputs": [
    {
     "data": {
      "text/html": [
       "    <script class='js-collapse-script'>\n",
       "        var curMatch =\n",
       "            window.location.href\n",
       "            .match(/(.*?)\\/notebooks\\/.*\\.ipynb/);\n",
       "\n",
       "        curMatch = curMatch ||\n",
       "            window.location.href\n",
       "            .match(/(.*?)\\/apps\\/.*\\.ipynb/);\n",
       "\n",
       "        if ( curMatch ) {\n",
       "            $('head').append('<base href=\"' + curMatch[1] + '/\">');\n",
       "        }\n",
       "    </script>\n"
      ],
      "text/plain": [
       "HTML{String}(\"    <script class='js-collapse-script'>\\n        var curMatch =\\n            window.location.href\\n            .match(/(.*?)\\\\/notebooks\\\\/.*\\\\.ipynb/);\\n\\n        curMatch = curMatch ||\\n            window.location.href\\n            .match(/(.*?)\\\\/apps\\\\/.*\\\\.ipynb/);\\n\\n        if ( curMatch ) {\\n            \\$('head').append('<base href=\\\"' + curMatch[1] + '/\\\">');\\n        }\\n    </script>\\n\")"
      ]
     },
     "metadata": {},
     "output_type": "display_data"
    },
    {
     "data": {
      "text/html": [
       "<script class='js-collapse-script' src='/assetserver/5dc1e185f8b2175037a0bb4bac5baa1c8ca39ea5-assets/webio/dist/bundle.js'></script>"
      ],
      "text/plain": [
       "HTML{String}(\"<script class='js-collapse-script' src='/assetserver/5dc1e185f8b2175037a0bb4bac5baa1c8ca39ea5-assets/webio/dist/bundle.js'></script>\")"
      ]
     },
     "metadata": {},
     "output_type": "display_data"
    },
    {
     "data": {
      "text/html": [
       "<script class='js-collapse-script' src='/assetserver/5dc1e185f8b2175037a0bb4bac5baa1c8ca39ea5-assets/providers/ijulia_setup.js'></script>"
      ],
      "text/plain": [
       "HTML{String}(\"<script class='js-collapse-script' src='/assetserver/5dc1e185f8b2175037a0bb4bac5baa1c8ca39ea5-assets/providers/ijulia_setup.js'></script>\")"
      ]
     },
     "metadata": {},
     "output_type": "display_data"
    },
    {
     "data": {
      "text/html": [
       "  <script class='js-collapse-script'>\n",
       "    $('.js-collapse-script').parent('.output_subarea').css('padding', '0');\n",
       "  </script>\n"
      ],
      "text/plain": [
       "HTML{String}(\"  <script class='js-collapse-script'>\\n    \\$('.js-collapse-script').parent('.output_subarea').css('padding', '0');\\n  </script>\\n\")"
      ]
     },
     "metadata": {},
     "output_type": "display_data"
    }
   ],
   "source": [
    "using AutomotiveDrivingModels\n",
    "using AutoViz\n",
    "using Reel\n",
    "using Interact\n",
    "using StatsBase # For random particle generation\n",
    "using Base.Test"
   ]
  },
  {
   "cell_type": "code",
   "execution_count": 67,
   "metadata": {},
   "outputs": [],
   "source": [
    "# 1 lane, 1000 m roadway\n",
    "# roadway = gen_straight_roadway(1,1000.0) # Does not work with the below because AutomotiveDrivingModels.Roadway\n",
    "roadway = StraightRoadway(1000.0); # AutomotiveDrivingModels.StraightRoadway type"
   ]
  },
  {
   "cell_type": "code",
   "execution_count": 64,
   "metadata": {},
   "outputs": [
    {
     "data": {
      "text/plain": [
       "init_scene"
      ]
     },
     "execution_count": 64,
     "metadata": {},
     "output_type": "execute_result"
    }
   ],
   "source": [
    "\"\"\"\n",
    "init_scene: Initialize a scene given positions and velocities of 2 cars.\n",
    "\n",
    "Usage:\n",
    "`scene = init_scene(car1.s,car1.v,car2.s,car2.v)\n",
    "\n",
    "Returns:\n",
    "- `scene`\n",
    "\n",
    "BREAKING POSS:\n",
    "- Hard coded for 2 vehicles\n",
    "\"\"\"\n",
    "# Function: Initialize the scene\n",
    "    # Note: Vehicle def 1 (leader) is the one we learn params for\n",
    "    # This is hard-coded in the gen_traj method by accessing first elem of scene vector\n",
    "# The returned thing here is an array of entities i.e. cars and you can query those to get pos, vel\n",
    "function init_scene(pos1=50.0,vel1=12.0,pos2=10.0,vel2=10.0)\n",
    "    scene = Scene1D()\n",
    "    \n",
    "    # First arg to State1D is pos, 2nd arg is velocity\n",
    "    push!(scene, Entity(State1D(pos1, vel1), VehicleDef(), 1))\n",
    "    push!(scene, Entity(State1D(pos2, vel2), VehicleDef(), 2))\n",
    "    return scene\n",
    "end"
   ]
  },
  {
   "cell_type": "code",
   "execution_count": 150,
   "metadata": {},
   "outputs": [
    {
     "data": {
      "text/plain": [
       "gen_traj"
      ]
     },
     "execution_count": 150,
     "metadata": {},
     "output_type": "execute_result"
    }
   ],
   "source": [
    "\"\"\"\n",
    "-----------Usage:\n",
    "particle = Dict(:v_des=>25.0,:σ=>0.5)\n",
    "gen_traj(particle,nticks=1)\n",
    "\n",
    "Expected output\n",
    "([51.2076], QueueRecord(nframes=2))\n",
    "\n",
    "-----------Arguments:\n",
    "`particle` Dict with keys as parameter names of IDM and values as parameter values\n",
    "`nticks` Duration of simulation\n",
    "\n",
    "-----------Other functions called:\n",
    "`init_scene`\n",
    "\"\"\"\n",
    "function gen_traj(particle;nticks=100,timestep=0.1)\n",
    "    scene = init_scene()\n",
    "    models = Dict{Int, LaneFollowingDriver}()\n",
    "    models[1] = IntelligentDriverModel(;particle...)\n",
    "    models[2] = IntelligentDriverModel(v_des=12.0)\n",
    "\n",
    "    # Simulate for nticks (default 100) time steps\n",
    "    timestep = 0.1\n",
    "    rec = QueueRecord(Vehicle1D, nticks+1, timestep)\n",
    "    simulate!(LaneFollowingAccel, rec, scene, roadway, models, nticks)\n",
    "\n",
    "    # Extract the position and velocity of nticks timesteps\n",
    "    # X stores this as 2d array. Timestep is the row, col 1 is pos,vel is pos2\n",
    "    n_cars = scene.n\n",
    "    n_ticks = nticks\n",
    "    X = Array{Float64}(n_ticks, 1)\n",
    "\n",
    "    for t in 1:n_ticks\n",
    "        f = rec.frames[n_ticks - t + 1]\n",
    "        \n",
    "        # BAD: 2 cars in scene therefore loop has only 1 elem\n",
    "        for c in 1:1 #Was 2:sc\n",
    "            s = f.entities[c].state\n",
    "            X[t, 1] = s.s #position\n",
    "        end\n",
    "    end\n",
    "    return X, rec\n",
    "end"
   ]
  },
  {
   "cell_type": "code",
   "execution_count": 174,
   "metadata": {},
   "outputs": [
    {
     "data": {
      "text/plain": [
       "([51.2155], QueueRecord(nframes=2))"
      ]
     },
     "execution_count": 174,
     "metadata": {},
     "output_type": "execute_result"
    }
   ],
   "source": [
    "particle = Dict(:v_des=>25.0,:σ=>0.5,:T=>1.0)\n",
    "gen_traj(particle,nticks=1)"
   ]
  },
  {
   "cell_type": "code",
   "execution_count": 143,
   "metadata": {},
   "outputs": [
    {
     "data": {
      "text/plain": [
       "hallucinate_a_step"
      ]
     },
     "execution_count": 143,
     "metadata": {},
     "output_type": "execute_result"
    }
   ],
   "source": [
    "\"\"\"\n",
    "Usage:\n",
    "ptest = Dict(:v_des=>25.0,:σ=>0.5)\n",
    "pos_ground_truth,rec_ground_truth = gen_traj_dict(ptest)\n",
    "frame_of_interest = rec_ground_truth.frames[101]\n",
    "test = hallucinate_a_step(frame_of_interest.entities[1].state,frame_of_interest.entities[2].state,ptest)\n",
    "\n",
    "Should output 51.something\n",
    "\n",
    "-----------Arguments:\n",
    "`car1` Has type entity which can be obtained from queuerecord\n",
    "`particle` Dict with key and IDM parameter name and value as param val\n",
    "\n",
    "-----------Other functions called:\n",
    "`init_scene`\n",
    "\"\"\"\n",
    "function hallucinate_a_step(car1,car2,particle)\n",
    "    scene = init_scene(car1.s,car1.v,car2.s,car2.v)\n",
    "    models = Dict{Int, LaneFollowingDriver}()\n",
    "    models[1] = IntelligentDriverModel(;particle...)\n",
    "    models[2] = IntelligentDriverModel(v_des=12.0)\n",
    "\n",
    "    # Simulate for nticks time steps\n",
    "    nticks = 1\n",
    "    timestep = 0.1\n",
    "    rec = QueueRecord(Vehicle1D, nticks+1, timestep)\n",
    "    simulate!(LaneFollowingAccel, rec, scene, roadway, models, nticks)\n",
    "\n",
    "    # Extract the position and velocity of nticks timesteps\n",
    "    # X stores this as 2d array. Timestep is the row, col 1 is pos,vel is pos2\n",
    "    n_cars = scene.n\n",
    "    n_ticks = nticks\n",
    "    X = Array{Float64}(n_ticks, 1)\n",
    "\n",
    "    for t in 1:n_ticks\n",
    "        f = rec.frames[n_ticks - t + 1]\n",
    "        \n",
    "        # BAD: 2 cars in scene therefore loop has only 1 elem\n",
    "        for c in 1:1 #Was 2:sc\n",
    "            s = f.entities[c].state\n",
    "            X[t, 1] = s.s #position\n",
    "        end\n",
    "    end\n",
    "    return X\n",
    "end"
   ]
  },
  {
   "cell_type": "code",
   "execution_count": 170,
   "metadata": {},
   "outputs": [
    {
     "data": {
      "text/plain": [
       "update_p_one_step"
      ]
     },
     "execution_count": 170,
     "metadata": {},
     "output_type": "execute_result"
    }
   ],
   "source": [
    "\"\"\"\n",
    "update_p_one_step: Update particles given one step of true data\n",
    "\n",
    "------------Usage:\n",
    "```julia REPL\n",
    "num_p = 5\n",
    "# start:step:end and number of particles are the inputs to sample\n",
    "v_particles = sample(10.0:1.0:30.0,num_p)\n",
    "sig_particles = sample(0.1:0.1:1.0,num_p)\n",
    "p_set_dict = Dict(:v_des=>v_particles,:σ=>sig_particles)\n",
    "@show p_set_dict\n",
    "# Generate ground truth trajectory\n",
    "pos_ground_truth,rec_ground_truth = gen_traj(Dict(:v_des=>25.0,:σ=>0.2))\n",
    "@show rec_ground_truth.frames[101].entities[1].state,pos_ground_truth[1]\n",
    "\n",
    "update_p_one_step(p_set_dict,rec_ground_truth.frames[101],pos_ground_truth[1],\n",
    "    approach=\"cem\",elite_fraction_percent=60)\n",
    "\n",
    "Expected output\n",
    "p_set_dict = Dict(:v_des=>[11.0, 29.0, 27.0, 25.0, 30.0],:σ=>[1.0, 0.7, 0.4, 0.2, 0.7])\n",
    "(rec_ground_truth.frames[101].entities[1].state, pos_ground_truth[1]) = \n",
    "(AutomotiveDrivingModels.State1D(50.0, 12.0), 51.2124675051445)\n",
    "best_particles = [25.0 27.0 30.0; 0.2 0.4 0.7]\n",
    "p_mat = [11.0 29.0 27.0 25.0 30.0; 1.0 0.7 0.4 0.2 0.7]\n",
    "new_p_mat = [25.0191 27.8877 26.6066 26.3389 26.8579; 0.201913 0.488768 0.360664 0.333894 0.385794]\n",
    "new_p_set_dict = Dict{Any,Any}(Pair{Any,Any}(:v_des, [25.0191, 27.8877, 26.6066, 26.3389, 26.8579]),\n",
    "Pair{Any,Any}(:σ, [0.201913, 0.488768, 0.360664, 0.333894, 0.385794]))\n",
    "\n",
    "```\n",
    "------------Data structures that need explanation:\n",
    "p_set_dict: Keys are param names. Corresponding value is array each element for different particle\n",
    "vec_val_vec: Vector of value_vectors: Array with each element being array of values\n",
    "\n",
    "------------Arguments:\n",
    "`p_set_dict` Dictionary with parameters of IDM as keys and associated value as array of particles\n",
    "`f` Frame to start hallucination from\n",
    "`trupos` Resulting true position starting from frame f\n",
    "`approach` Select \"pf\" or \"cem\"\n",
    "`elite_fraction_percent` Required for the cem method to fit a distribution\n",
    "\n",
    "------------Other functions called:\n",
    "`hallucinate_a_step`\n",
    "\n",
    "------------Returns:\n",
    "`new_p_set_dict` Dictionary with keys as IDM parameters and values as array of particles\n",
    "\"\"\"\n",
    "function update_p_one_step(p_set_dict,f,trupos;approach=\"pf\",elite_fraction_percent=20)\n",
    "    # Get the number of particles\n",
    "    num_p = -100\n",
    "    num_params = length(keys(p_set_dict))\n",
    "    timestep = 0.1 #TODO: Hardcoding remove\n",
    "    \n",
    "    # Extract keys (i.e. params) and corresponding array of values\n",
    "    params = Array{Symbol}(num_params)\n",
    "    vec_val_vec = Array{Array}(num_params) #Array containing associated values for each key\n",
    "    for (kk,kv) in enumerate(p_set_dict)\n",
    "        num_p = length(kv[2])\n",
    "        params[kk] = kv[1]\n",
    "        vec_val_vec[kk] = kv[2]\n",
    "    end\n",
    "    \n",
    "    # Concatenate the value arrays into matrix to be able to select the best and fit distb\n",
    "    p_mat = vcat(vec_val_vec'...) #TODO: Understand how this works\n",
    "    \n",
    "    #Loop over the particles and score each of them\n",
    "    lkhd_vec = Array{Float64}(num_p)\n",
    "    for i in 1:num_p\n",
    "        p_dict = Dict()\n",
    "        for j in 1:num_params\n",
    "            p_dict[params[j]]=vec_val_vec[j][i]\n",
    "        end\n",
    "#         @show p_dict\n",
    "        \n",
    "        std_dev_acc = p_dict[:σ]\n",
    "        \n",
    "        # hack to avoid the std_dev_pos become negative and error Normal distb\n",
    "        if std_dev_acc <= 0 std_dev_acc = 0.1 end\n",
    "\n",
    "        std_dev_pos = timestep*timestep*std_dev_acc\n",
    "            \n",
    "        hpos = hallucinate_a_step(f.entities[1].state,f.entities[2].state,p_dict)\n",
    "        \n",
    "        lkhd_vec[i] = pdf(Normal(hpos[1],std_dev_pos),trupos[1])\n",
    "    end\n",
    "#     @show vcat(p_mat,lkhd_vec') # Show likelihood along with particle matrix\n",
    "    \n",
    "    if approach==\"pf\"\n",
    "        p_weight_vec = weights(lkhd_vec./sum(lkhd_vec)) # Convert to weights form to use julia sampling\n",
    "        idx = sample(1:num_p,p_weight_vec,num_p)\n",
    "        new_p_mat = p_mat[:,idx] #Careful that idx is (size,1) and not (size,2)\n",
    "    end\n",
    "    \n",
    "    if approach==\"cem\"\n",
    "        sortedidx = sortperm(lkhd_vec,rev=true)\n",
    "        numtop = convert(Int64,ceil(num_p*elite_fraction_percent/100.0))\n",
    "        best_particles = p_mat[:,sortedidx[1:numtop]] # elite selection\n",
    "#         @show best_particles\n",
    "        p_distribution = fit(MvNormal,best_particles) # fit distb using elites\n",
    "        new_p_mat = rand(p_distribution,num_p) # sample num_p new particles from dist\n",
    "    end\n",
    "    \n",
    "    # Create a new dictionary with param and associated particle value array\n",
    "#     @show p_mat\n",
    "#     @show new_p_mat\n",
    "    new_p_set_dict = Dict()\n",
    "    for k in 1:num_params\n",
    "        new_p_set_dict[params[k]] = new_p_mat[k,:]\n",
    "    end\n",
    "#     @show new_p_set_dict\n",
    "    return new_p_set_dict\n",
    "    \n",
    "end"
   ]
  },
  {
   "cell_type": "code",
   "execution_count": 173,
   "metadata": {},
   "outputs": [
    {
     "name": "stdout",
     "output_type": "stream",
     "text": [
      "old_p_set_dict = Dict{Any,Any}(Pair{Any,Any}(:v_des, [19.5376, 19.537, 19.5374, 19.5374, 19.5373, 19.5373, 19.5373, 19.5375, 19.5373, 19.537, 19.5372, 19.5373, 19.5371, 19.5374, 19.5365, 19.5374, 19.5373, 19.5371, 19.5373, 19.537, 19.5374, 19.5372, 19.5374, 19.5372, 19.5373, 19.5372, 19.5375, 19.5372, 19.5369, 19.5375, 19.5369, 19.5369, 19.5369, 19.5375, 19.5374, 19.5375, 19.5377, 19.5374, 19.5373, 19.5373, 19.5372, 19.5373, 19.5367, 19.537, 19.5375, 19.5369, 19.5371, 19.5371, 19.5374, 19.5371, 19.5373, 19.5377, 19.5373, 19.537, 19.5375, 19.5375, 19.5376, 19.5374, 19.5374, 19.5372, 19.5372, 19.5369, 19.537, 19.5372, 19.5367, 19.5372, 19.5373, 19.5374, 19.5372, 19.5372, 19.5362, 19.5373, 19.5376, 19.5374, 19.5373, 19.5371, 19.5369, 19.5377, 19.5375, 19.537, 19.5375, 19.5377, 19.5367, 19.5371, 19.5372, 19.5366, 19.5375, 19.5368, 19.5372, 19.5373, 19.5369, 19.5373, 19.5375, 19.5375, 19.5372, 19.5374, 19.537, 19.5373, 19.5377, 19.5377]),Pair{Any,Any}(:σ, [0.0381042, 0.0381033, 0.038104, 0.0381037, 0.0381038, 0.0381037, 0.0381036, 0.038104, 0.0381039, 0.0381032, 0.0381036, 0.0381038, 0.0381036, 0.0381041, 0.0381024, 0.0381038, 0.0381037, 0.0381034, 0.0381037, 0.0381032, 0.0381038, 0.0381035, 0.038104, 0.0381036, 0.0381037, 0.0381037, 0.038104, 0.0381037, 0.0381032, 0.038104, 0.038103, 0.038103, 0.0381031, 0.0381042, 0.0381039, 0.038104, 0.0381043, 0.038104, 0.0381035, 0.0381037, 0.0381036, 0.0381038, 0.038103, 0.0381032, 0.038104, 0.038103, 0.0381035, 0.0381033, 0.038104, 0.0381033, 0.0381039, 0.0381043, 0.0381037, 0.0381032, 0.0381039, 0.038104, 0.0381042, 0.0381041, 0.038104, 0.0381036, 0.0381034, 0.0381031, 0.0381034, 0.0381036, 0.038103, 0.0381035, 0.0381035, 0.0381037, 0.0381037, 0.0381034, 0.0381019, 0.0381038, 0.0381041, 0.038104, 0.0381039, 0.0381035, 0.038103, 0.0381043, 0.038104, 0.0381032, 0.038104, 0.0381044, 0.0381025, 0.0381036, 0.0381035, 0.0381028, 0.038104, 0.0381028, 0.0381037, 0.0381037, 0.0381032, 0.0381036, 0.038104, 0.0381039, 0.0381036, 0.0381039, 0.0381032, 0.0381036, 0.0381043, 0.0381044]))\n"
     ]
    },
    {
     "data": {
      "text/plain": [
       "Dict{Any,Any} with 2 entries:\n",
       "  :v_des => [19.5376, 19.537, 19.5374, 19.5374, 19.5373, 19.5373, 19.5373, 19.5…\n",
       "  :σ     => [0.0381042, 0.0381033, 0.038104, 0.0381037, 0.0381038, 0.0381037, 0…"
      ]
     },
     "execution_count": 173,
     "metadata": {},
     "output_type": "execute_result"
    }
   ],
   "source": [
    "# TESTING CEM AND PF\n",
    "num_p = 100\n",
    "# start:step:end and number of particles are the inputs to sample\n",
    "v_particles = sample(10.0:1.0:30.0,num_p)\n",
    "sig_particles = sample(0.1:0.1:1.0,num_p)\n",
    "old_p_set_dict = Dict(:v_des=>v_particles,:σ=>sig_particles)\n",
    "\n",
    "# Generate ground truth trajectory\n",
    "pos_ground_truth,rec_ground_truth = gen_traj(Dict(:v_des=>19.0,:σ=>0.2))\n",
    "\n",
    "# loop over the trajectory step by step\n",
    "f_end_num = length(rec_ground_truth.frames)\n",
    "    \n",
    "for t in 1:f_end_num-1\n",
    "#     @show t\n",
    "    f = rec_ground_truth.frames[f_end_num - t + 1]\n",
    "    trupos = pos_ground_truth[t]\n",
    "    \n",
    "    # Select approach either \"cem\" or \"pf\"\n",
    "    new_p_set_dict = update_p_one_step(old_p_set_dict,f,trupos,approach=\"cem\")\n",
    "    old_p_set_dict = new_p_set_dict\n",
    "end\n",
    "    \n",
    "#@show fit(MvNormal,old_p_mat) # Don't work because all elements identical\n",
    "@show old_p_set_dict"
   ]
  },
  {
   "cell_type": "markdown",
   "metadata": {},
   "source": [
    "# Visualize"
   ]
  },
  {
   "cell_type": "code",
   "execution_count": null,
   "metadata": {},
   "outputs": [],
   "source": [
    "# Function: Return rec corresponding to generated traj\n",
    "    # Will help visualizatoin\n",
    "    # Calls init_scene\n",
    "# Might be useful later\n",
    "    # models[2] = IntelligentDriverModel(v_des=particle[1],s_min=particle[2],T=particle[3])\n",
    "function gen_rec4vid(particle;nticks=100,timestep=0.1)\n",
    "    scene = init_scene()\n",
    "    models = Dict{Int, LaneFollowingDriver}()\n",
    "    models[1] = IntelligentDriverModel(v_des=particle[1],σ = particle[2])\n",
    "    models[2] = IntelligentDriverModel(v_des=12.0)\n",
    "\n",
    "    # Simulate for nticks (default 100) time steps\n",
    "    timestep = 0.1\n",
    "    rec = QueueRecord(Vehicle1D, nticks+1, timestep)\n",
    "    simulate!(LaneFollowingAccel, rec, scene, roadway, models, nticks)\n",
    "\n",
    "    return rec\n",
    "end"
   ]
  },
  {
   "cell_type": "code",
   "execution_count": null,
   "metadata": {},
   "outputs": [],
   "source": [
    "# overlays = [TextOverlay(text=[\"$(veh.id)\"], incameraframe=true,\n",
    "#         pos=VecE2(veh.state.s-0.7, 3)) for veh in scene];\n",
    "# render(scene, roadway, overlays, cam=cam, canvas_height=100)\n",
    "\n",
    "cam = StaticCamera(VecE2(100.0,0.0), 4.75)\n",
    "true_rec = gen_rec4vid([20.0 0.1],nticks=100)\n",
    "rec = true_rec\n",
    "@manipulate for frame_index in 1 : nframes(rec)\n",
    "    render(rec[frame_index-nframes(rec)], roadway, cam=cam, canvas_height=100)\n",
    "end"
   ]
  },
  {
   "cell_type": "markdown",
   "metadata": {},
   "source": [
    "# LEARNING AND EXPERIMENTATION"
   ]
  },
  {
   "cell_type": "code",
   "execution_count": null,
   "metadata": {},
   "outputs": [],
   "source": [
    "# LEARNING ABOUT MULTIDIM DISTB\n",
    "# Test: Generate samples for a 2d distb\n",
    "d2 = MvNormal(2,2.0) # first arg shows dimension, second shows std dev\n",
    "qw = rand(d2,6) # Will generate 6 samples i.e. 6 columns\n",
    "\n",
    "# Test: Fit 2d distribution\n",
    "dx = Normal()\n",
    "dy = Normal(2,1.0)\n",
    "x = rand(dx,100)\n",
    "y = rand(dy,100)\n",
    "\n",
    "# Matrix with each column being a sample\n",
    "# Total columns is total number of samples\n",
    "# Total rows is number of parameters\n",
    "# All entries in a row contain value from same param eg:v_des\n",
    "data_matrix = vcat(x',y')\n",
    "fit(MvNormal,data_matrix)"
   ]
  },
  {
   "cell_type": "code",
   "execution_count": null,
   "metadata": {},
   "outputs": [],
   "source": [
    "using PyPlot"
   ]
  },
  {
   "cell_type": "code",
   "execution_count": null,
   "metadata": {},
   "outputs": [],
   "source": [
    "num_samples = 2000\n",
    "y1 = rand(Normal(10.0,5.0),num_samples)\n",
    "y2 = rand(Normal(2.0,1.0),num_samples)\n",
    "plot(1:num_samples,y1)\n",
    "plot(1:num_samples,y2)"
   ]
  },
  {
   "cell_type": "code",
   "execution_count": null,
   "metadata": {},
   "outputs": [],
   "source": [
    "using StatPlots"
   ]
  },
  {
   "cell_type": "code",
   "execution_count": null,
   "metadata": {},
   "outputs": [],
   "source": [
    "StatPlots.plot(Normal(3,5),linewidth=4,size=(2500,2500))"
   ]
  },
  {
   "cell_type": "code",
   "execution_count": 66,
   "metadata": {},
   "outputs": [],
   "source": [
    "roadway = gen_straight_roadway(2,1000.0);"
   ]
  },
  {
   "cell_type": "code",
   "execution_count": null,
   "metadata": {},
   "outputs": [],
   "source": [
    "scene = Scene1D()\n",
    "push!(scene, Entity(State1D(10.0,  8.0), VehicleDef(), 1))\n",
    "push!(scene, Entity(State1D(50.0, 12.5), VehicleDef(), 2))\n",
    "\n",
    "cam = StaticCamera(VecE2(100.0,0.0), 4.75)\n",
    "overlays = [TextOverlay(text=[\"$(veh.id)\"], incameraframe=true, pos=VecE2(veh.state.s-0.7, 3)) for veh in scene]\n",
    "render(scene, roadway, overlays, cam=cam, canvas_height=100)"
   ]
  },
  {
   "cell_type": "code",
   "execution_count": null,
   "metadata": {},
   "outputs": [],
   "source": [
    "models = Dict{Int64, DriverModel}()\n",
    "models[1] = Tim2DDriver(0.1) # always produce zero acceleration\n",
    "models[2] = Tim2DDriver(0.1) # default IDM with a desired speed of 12 m/s\n",
    "\n",
    "nticks = 100\n",
    "timestep = 0.1\n",
    "rec = QueueRecord(Vehicle1D, nticks+1, timestep)\n",
    "simulate!(rec, scene, roadway, models, nticks)"
   ]
  },
  {
   "cell_type": "code",
   "execution_count": null,
   "metadata": {},
   "outputs": [],
   "source": [
    "using Base.Test\n",
    "@test 1==1\n",
    "@test 1==0"
   ]
  }
 ],
 "metadata": {
  "kernelspec": {
   "display_name": "Julia 0.6.2",
   "language": "julia",
   "name": "julia-0.6"
  },
  "language_info": {
   "file_extension": ".jl",
   "mimetype": "application/julia",
   "name": "julia",
   "version": "0.6.2"
  }
 },
 "nbformat": 4,
 "nbformat_minor": 2
}
