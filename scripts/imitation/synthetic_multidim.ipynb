{
 "cells": [
  {
   "cell_type": "markdown",
   "metadata": {},
   "source": [
    "- Goal\n",
    "    - Create synthetic data using IDM\n",
    "    - Learn parameters of that data using particle filtering\n",
    "    - Aliter 7 Feb: Learn using CEM idea, fitness function and then distb and then sample\n",
    "- Learning\n",
    "    - Need at least 2 vehicles so that there is a neighbor in the front\n",
    "    - Otherwise src/1d/driver/lane_follower_driver errors\n",
    "    - That is why the `AutomotiveDrivingModels/doc/1DMobius` stuff does \n",
    "    not work with 1 car only (needs at least 2 cars)\n",
    "    - The tutorial does not work with `gen_straight_roadway` because that\n",
    "    generates a roadway of type AutomotiveDrivingModels.roadway as opposed to\n",
    "    AutomotiveDrivingModels.StraightRoadway\n",
    "- Open question\n",
    "    - IDM won't work unless there is a car in front (errors saynig nothing in sight)\n",
    "    - We are focusing on learning the params of the second car here. Is that sound sensible?\n",
    "- Flow of code\n",
    "    - Call the required `usings`\n",
    "    - Define functions required\n",
    "    - Actual running things\n",
    "        - Generate true trajectory\n",
    "        - Generate a set of particles uniformly between sensible range of values\n",
    "        - Compute fitness, sort and select numtop\n",
    "        - Fit a distribution over this\n",
    "        - Resample particles\n",
    "- Scenario\n",
    "    - Slower car in front (car 1)\n",
    "    - Faster car behind (car 2)\n",
    "    - We want to estimate params of car 2\n",
    "- Feb 10: Adding timegap_des as our 2nd param in the 2 car, 1D, IDM scenario\n",
    "    - Make code capable of handling 2d param. So far, had only scalar param\n",
    "    i.e v_des\n",
    "    - Fitting 2D distributions is required now\n",
    "- Feb 22\n",
    "    - the `rec` generated using `simulate` is a devious monster\n",
    "    - It stores the last timestep in the 1st entry and first timestep in last entry\n",
    "    - Be careful"
   ]
  },
  {
   "cell_type": "code",
   "execution_count": 1,
   "metadata": {},
   "outputs": [
    {
     "data": {
      "text/html": [
       "    <script class='js-collapse-script'>\n",
       "        var curMatch =\n",
       "            window.location.href\n",
       "            .match(/(.*?)\\/notebooks\\/.*\\.ipynb/);\n",
       "\n",
       "        curMatch = curMatch ||\n",
       "            window.location.href\n",
       "            .match(/(.*?)\\/apps\\/.*\\.ipynb/);\n",
       "\n",
       "        if ( curMatch ) {\n",
       "            $('head').append('<base href=\"' + curMatch[1] + '/\">');\n",
       "        }\n",
       "    </script>\n"
      ],
      "text/plain": [
       "HTML{String}(\"    <script class='js-collapse-script'>\\n        var curMatch =\\n            window.location.href\\n            .match(/(.*?)\\\\/notebooks\\\\/.*\\\\.ipynb/);\\n\\n        curMatch = curMatch ||\\n            window.location.href\\n            .match(/(.*?)\\\\/apps\\\\/.*\\\\.ipynb/);\\n\\n        if ( curMatch ) {\\n            \\$('head').append('<base href=\\\"' + curMatch[1] + '/\\\">');\\n        }\\n    </script>\\n\")"
      ]
     },
     "metadata": {},
     "output_type": "display_data"
    },
    {
     "data": {
      "text/html": [
       "<script class='js-collapse-script' src='/assetserver/5dc1e185f8b2175037a0bb4bac5baa1c8ca39ea5-assets/webio/dist/bundle.js'></script>"
      ],
      "text/plain": [
       "HTML{String}(\"<script class='js-collapse-script' src='/assetserver/5dc1e185f8b2175037a0bb4bac5baa1c8ca39ea5-assets/webio/dist/bundle.js'></script>\")"
      ]
     },
     "metadata": {},
     "output_type": "display_data"
    },
    {
     "data": {
      "text/html": [
       "<script class='js-collapse-script' src='/assetserver/5dc1e185f8b2175037a0bb4bac5baa1c8ca39ea5-assets/providers/ijulia_setup.js'></script>"
      ],
      "text/plain": [
       "HTML{String}(\"<script class='js-collapse-script' src='/assetserver/5dc1e185f8b2175037a0bb4bac5baa1c8ca39ea5-assets/providers/ijulia_setup.js'></script>\")"
      ]
     },
     "metadata": {},
     "output_type": "display_data"
    },
    {
     "data": {
      "text/html": [
       "  <script class='js-collapse-script'>\n",
       "    $('.js-collapse-script').parent('.output_subarea').css('padding', '0');\n",
       "  </script>\n"
      ],
      "text/plain": [
       "HTML{String}(\"  <script class='js-collapse-script'>\\n    \\$('.js-collapse-script').parent('.output_subarea').css('padding', '0');\\n  </script>\\n\")"
      ]
     },
     "metadata": {},
     "output_type": "display_data"
    }
   ],
   "source": [
    "using AutomotiveDrivingModels\n",
    "using AutoViz\n",
    "using Reel\n",
    "using Interact\n",
    "using StatsBase # For random particle generation"
   ]
  },
  {
   "cell_type": "code",
   "execution_count": 2,
   "metadata": {},
   "outputs": [],
   "source": [
    "# 1 lane, 1000 m roadway\n",
    "# roadway = gen_straight_roadway(1,1000.0) # Does not work with the below because AutomotiveDrivingModels.Roadway\n",
    "roadway = StraightRoadway(1000.0); # AutomotiveDrivingModels.StraightRoadway type"
   ]
  },
  {
   "cell_type": "code",
   "execution_count": 3,
   "metadata": {},
   "outputs": [
    {
     "data": {
      "text/plain": [
       "init_scene"
      ]
     },
     "execution_count": 3,
     "metadata": {},
     "output_type": "execute_result"
    }
   ],
   "source": [
    "\"\"\"\n",
    "Initialize a scene given positions and velocities of 2 cars.\n",
    "\n",
    "Usage:\n",
    "`scene = init_scene(car1.s,car1.v,car2.s,car2.v)\n",
    "\n",
    "Returns:\n",
    "- `scene`\n",
    "\n",
    "BREAKING POSS:\n",
    "- Hard coded for 2 vehicles\n",
    "\"\"\"\n",
    "# Function: Initialize the scene\n",
    "    # Note: Vehicle def 1 (leader) is the one we learn params for\n",
    "    # This is hard-coded in the gen_traj method by accessing first elem of scene vector\n",
    "# The returned thing here is an array of entities i.e. cars and you can query those to get pos, vel\n",
    "function init_scene(pos1=50.0,vel1=12.0,pos2=10.0,vel2=10.0)\n",
    "    scene = Scene1D()\n",
    "    \n",
    "    # First arg to State1D is pos, 2nd arg is velocity\n",
    "    push!(scene, Entity(State1D(pos1, vel1), VehicleDef(), 1))\n",
    "    push!(scene, Entity(State1D(pos2, vel2), VehicleDef(), 2))\n",
    "    return scene\n",
    "end"
   ]
  },
  {
   "cell_type": "code",
   "execution_count": 49,
   "metadata": {},
   "outputs": [
    {
     "data": {
      "text/plain": [
       "gen_traj"
      ]
     },
     "execution_count": 49,
     "metadata": {},
     "output_type": "execute_result"
    }
   ],
   "source": [
    "\"\"\"\n",
    "Generate a ground truth trajectory.\n",
    "\n",
    "Usage:\n",
    "pos_ground_truth, rec_ground_truth = gen_traj([20.0 0.1])\n",
    "\n",
    "Arguments:\n",
    "- `particle` Ground truth IDM parameter values\n",
    "- `nticks` Number of timesteps simulated default 100\n",
    "- `timestep` Duration of a step default 0.1\n",
    "\n",
    "Returns:\n",
    "- `X` Array of length `nticks` containing position of car1 with X[1] being \n",
    "position after 1 timestep from initialization\n",
    "- `rec` Queuerecord of scenes which can be accessed by `rec.frames` which is\n",
    "of length `nticks+1`. Note that `rec.frames[nticks+1] contains the initialization scene\n",
    "and rec.frames[1] contains the final scene. Thus info is contained in backward indexing.\n",
    "\n",
    "Breaking possibilities:\n",
    "- Hard coded to work with 2 cars by calling only 2 models\n",
    "- Only returns position of car1 in return value `X`\n",
    "\"\"\"\n",
    "function gen_traj(particle;nticks=100,timestep=0.1)\n",
    "    scene = init_scene()\n",
    "    models = Dict{Int, LaneFollowingDriver}()\n",
    "    models[1] = IntelligentDriverModel(v_des=particle[1],σ = particle[2])\n",
    "    models[2] = IntelligentDriverModel(v_des=12.0)\n",
    "\n",
    "    # Simulate for nticks (default 100) time steps\n",
    "    timestep = 0.1\n",
    "    rec = QueueRecord(Vehicle1D, nticks+1, timestep)\n",
    "    simulate!(LaneFollowingAccel, rec, scene, roadway, models, nticks)\n",
    "\n",
    "    # Extract the position and velocity of nticks timesteps\n",
    "    # X stores this as 2d array. Timestep is the row, col 1 is pos,vel is pos2\n",
    "    n_cars = scene.n\n",
    "    n_ticks = nticks\n",
    "    X = Array{Float64}(n_ticks, 1)\n",
    "\n",
    "    for t in 1:n_ticks\n",
    "        f = rec.frames[n_ticks - t + 1]\n",
    "        \n",
    "        # BAD: 2 cars in scene therefore loop has only 1 elem\n",
    "        for c in 1:1 #Was 2:sc\n",
    "            s = f.entities[c].state\n",
    "            X[t, 1] = s.s #position\n",
    "        end\n",
    "    end\n",
    "    return X, rec\n",
    "end"
   ]
  },
  {
   "cell_type": "code",
   "execution_count": 4,
   "metadata": {},
   "outputs": [
    {
     "data": {
      "text/plain": [
       "hallucinate_a_step"
      ]
     },
     "execution_count": 4,
     "metadata": {},
     "output_type": "execute_result"
    }
   ],
   "source": [
    "\"\"\"\n",
    "Hallucinate a step given positions and velocities of 2 cars and a candidate particle.\n",
    "\n",
    "Usage:\n",
    "`pos_ground_truth,rec_ground_truth = gen_traj([20.0 0.1])`\n",
    "`frame_of_interest = rec_ground_truth.frames[101]`\n",
    "`test = hallucinate_a_step(frame_of_interest.entities[1].state,\n",
    "                            frame_of_interest.entities[2].state,[20.0 0.1])`\n",
    "\n",
    "Arguments:\n",
    "- `car1` The leader car whose parameters we are trying to learn\n",
    "- `car2` The follower car\n",
    "- `particle` The candidate IDM params eg: [20.0 0.1]\n",
    "\n",
    "Returns:\n",
    "- `X` Position of the leader car after hallucinating one step under the candidate particle\n",
    "\n",
    "BREAKING POSSIBILITIES\n",
    "- If Number of cars in scene and number of models are ever different\n",
    "- Timestep and nticks are hardcoded within the function\n",
    "- Artificial creation of scene in the beginning is scalability issue\n",
    "- Only returns position of leader car\n",
    "\"\"\"\n",
    "function hallucinate_a_step(car1,car2,particle)\n",
    "    scene = init_scene(car1.s,car1.v,car2.s,car2.v)\n",
    "    models = Dict{Int, LaneFollowingDriver}()\n",
    "    models[1] = IntelligentDriverModel(v_des=particle[1],σ = particle[2])\n",
    "    models[2] = IntelligentDriverModel(v_des=12.0)\n",
    "\n",
    "    # Simulate for nticks time steps\n",
    "    nticks = 1\n",
    "    timestep = 0.1\n",
    "    rec = QueueRecord(Vehicle1D, nticks+1, timestep)\n",
    "    simulate!(LaneFollowingAccel, rec, scene, roadway, models, nticks)\n",
    "\n",
    "    # Extract the position and velocity of nticks timesteps\n",
    "    # X stores this as 2d array. Timestep is the row, col 1 is pos,vel is pos2\n",
    "    n_cars = scene.n\n",
    "    n_ticks = nticks\n",
    "    X = Array{Float64}(n_ticks, 1)\n",
    "\n",
    "    for t in 1:n_ticks\n",
    "        f = rec.frames[n_ticks - t + 1]\n",
    "        \n",
    "        # BAD: 2 cars in scene therefore loop has only 1 elem\n",
    "        for c in 1:1 #Was 2:sc\n",
    "            s = f.entities[c].state\n",
    "            X[t, 1] = s.s #position\n",
    "        end\n",
    "    end\n",
    "    return X\n",
    "end"
   ]
  },
  {
   "cell_type": "code",
   "execution_count": 104,
   "metadata": {},
   "outputs": [
    {
     "data": {
      "text/plain": [
       "calc_traj_log_likelihood"
      ]
     },
     "execution_count": 104,
     "metadata": {},
     "output_type": "execute_result"
    }
   ],
   "source": [
    "\"\"\"\n",
    "Calculate log likelihood of a candidate particle over a trajectory by running hallucination\n",
    "over given ground truth queuerecord and ground truth true position array.\n",
    "\n",
    "Usage:\n",
    "`pos_ground_truth,rec_ground_truth = gen_traj([20.0 0.1])`\n",
    "`calc_traj_log_likelihood([20.0 0.01],rec_ground_truth,pos_ground_truth)`\n",
    "\n",
    "Arguments:\n",
    "- `particle` Candidate particle eg [20.0 0.1]\n",
    "- `rec_ground_truth` Queuerecord with ground truth scenes\n",
    "- `pos_ground_truth` Ground truth with position array\n",
    "\n",
    "Returns:\n",
    "- `log_lkhd` log likelihood of truth given candidate particle \n",
    "\n",
    "This function calls:\n",
    "- `hallucinate_a_step`\n",
    "\n",
    "BREAKING POSSIBILITIES\n",
    "- particle[2] has been hardcoded as the variance\n",
    "- Hardcoded to work with 2 cars in the scene\n",
    "- Timestep harcoded as 0.1 for std dev calculation\n",
    "- https://stattrek.com/random-variable/transformation.aspx\n",
    "WHAT SHOULD THE LOG LKHD BE INITIALIZED TO? CURRENTLY INITIALIZED TO 0\n",
    "\"\"\"\n",
    "function calc_traj_log_likelihood(particle,rec_ground_truth,pos_ground_truth)\n",
    "    std_dev_acc = particle[2]\n",
    "    \n",
    "    # hack to avoid the std_dev_pos become negative and error Normal distb\n",
    "    if std_dev_acc < 0\n",
    "        std_dev_acc = 0.1\n",
    "    end\n",
    "#     @show std_dev_acc\n",
    "    log_lkhd = 0\n",
    "    f_end_num = length(rec_ground_truth.frames)\n",
    "    for t in 1:f_end_num-1\n",
    "        f = rec_ground_truth.frames[f_end_num - t + 1]\n",
    "\n",
    "        hpos = hallucinate_a_step(f.entities[1].state,f.entities[2].state,particle)\n",
    "        # Ground truth pos\n",
    "        trupos = pos_ground_truth[t]\n",
    "\n",
    "        timestep = 0.1\n",
    "        std_dev_pos = timestep*timestep*std_dev_acc\n",
    "        \n",
    "        log_lkhd+=logpdf(Normal(hpos[1],std_dev_pos),trupos[1])\n",
    "    end\n",
    "    return log_lkhd\n",
    "end"
   ]
  },
  {
   "cell_type": "code",
   "execution_count": 74,
   "metadata": {},
   "outputs": [
    {
     "data": {
      "text/plain": [
       "0.006000000000000001"
      ]
     },
     "execution_count": 74,
     "metadata": {},
     "output_type": "execute_result"
    }
   ],
   "source": [
    "0.1*0.1*0.6"
   ]
  },
  {
   "cell_type": "code",
   "execution_count": 67,
   "metadata": {},
   "outputs": [
    {
     "data": {
      "text/plain": [
       "572.6082131232016"
      ]
     },
     "execution_count": 67,
     "metadata": {},
     "output_type": "execute_result"
    }
   ],
   "source": [
    "pos_ground_truth,rec_ground_truth = gen_traj([20.0 0.1])\n",
    "calc_traj_log_likelihood([20.0 0.1],rec_ground_truth,pos_ground_truth)"
   ]
  },
  {
   "cell_type": "markdown",
   "metadata": {},
   "source": [
    "$\\sum_{t=1}^{t=end}\\mid truePos_t - hallucinatedPos_t \\mid$"
   ]
  },
  {
   "cell_type": "code",
   "execution_count": 76,
   "metadata": {},
   "outputs": [
    {
     "data": {
      "text/plain": [
       "new_p_from_old"
      ]
     },
     "execution_count": 76,
     "metadata": {},
     "output_type": "execute_result"
    }
   ],
   "source": [
    "\"\"\"\n",
    "Generate a new sample set of particles from old\n",
    "\n",
    "Usage:\n",
    "```julia REPL\n",
    "# Generate particles\n",
    "num_p = 5000\n",
    "# start:step:end and number of particles are the inputs to sample\n",
    "v_particles = sample(10.0:1.0:70.0,num_p)\n",
    "sig_particles = sample(0.1:0.1:1.0,num_p)\n",
    "\n",
    "# Arrange the particles as follows\n",
    "    # Every column is a different particle\n",
    "    # Row 1 has v_des and row 2 has sigma\n",
    "# init_particles = Array{Float64}(2,num_p)\n",
    "# init_particles[1,:] = v_particles\n",
    "# init_particles[2,:] = sig_particles\n",
    "init_particles = vcat(v_particles',sig_particles')\n",
    "# @show init_particles\n",
    "distb = fit(MvNormal,init_particles)\n",
    "@show distb\n",
    "\n",
    "# Generate ground truth trajectory\n",
    "pos_ground_truth,rec_ground_truth = gen_traj([20.0 0.5])\n",
    "\n",
    "# Generate new particles\n",
    "p_old = init_particles\n",
    "# @show p_old\n",
    "for i in 1:10\n",
    "    @show i\n",
    "    p_new = new_p_from_old(p_old,num_p,rec_ground_truth,pos_ground_truth,elite_fraction_percent=10)\n",
    "    p_old = p_new\n",
    "end\n",
    "```\n",
    "\n",
    "Arguments:\n",
    "- `particle_matrix` Matrix with each column containing a candidate particle and row containing param value\n",
    "- `num_p` Number of particles i.e. number of columns of `particle_matrix`\n",
    "- `rec_ground_truth` Queuerecord containing array of ground truth scenes generated using `gen_traj`\n",
    "- `pos_ground_truth` Array of ground truth positions generated using `gen_traj`\n",
    "- `elite_fraction_percent` Percentage of particles to be selected as elite for fitting new distribution\n",
    "\n",
    "Returns:\n",
    "- `new_p_matrix` Matrix containing `num_p` particles sampled from distribution fitted from elite particles\n",
    "\n",
    "Improvements needed:\n",
    "- TODO: MAYBE DOING THIS IN PLACE WILL BE MORE EFFICIENT RATHER THAN RETURN WHOLE MATRIX\n",
    "\"\"\"\n",
    "function new_p_from_old(particle_matrix,num_p,rec_ground_truth,pos_ground_truth;elite_fraction_percent=20)\n",
    "    # Check that number of columns is same as number of particles\n",
    "    assert(size(particle_matrix)[2]==num_p)\n",
    "    \n",
    "    # Loop over the particles (i.e. columns) and calculate traj_error\n",
    "    p_traj_lkhd = Array{Float64}(num_p)\n",
    "    \n",
    "    for i in 1:num_p\n",
    "        candidate_particle = particle_matrix[:,i]\n",
    "        p_traj_lkhd[i] = calc_traj_log_likelihood(candidate_particle,rec_ground_truth,pos_ground_truth)\n",
    "    end\n",
    "#     @show p_traj_lkhd\n",
    "\n",
    "    # We don't care about the actual error values\n",
    "    # We just care about the numtop of them\n",
    "\n",
    "    # Sort the traj such that highest likelihood is at the top\n",
    "        # rev=true does this for us i.e sort in decreasing order\n",
    "    sortedidx = sortperm(p_traj_lkhd,rev=true)\n",
    "    \n",
    "    # Select the numtop from the original particles\n",
    "    numtop = convert(Int64,ceil(num_p*elite_fraction_percent/100.0))\n",
    "    best_particles = particle_matrix[:,sortedidx[1:numtop]]\n",
    "#     @show \"sortedNselectedtop\"\n",
    "    # Use the numtop particles to fit a Gaussian\n",
    "#     @show best_particles\n",
    "    p_distribution = fit(MvNormal,best_particles)\n",
    "    @show p_distribution\n",
    "\n",
    "    # Sample num_p new particles from this fitted distb\n",
    "    new_p_matrix = rand(p_distribution,num_p)\n",
    "#     @show new_p_matrix\n",
    "    return new_p_matrix\n",
    "end"
   ]
  },
  {
   "cell_type": "code",
   "execution_count": 106,
   "metadata": {},
   "outputs": [
    {
     "name": "stdout",
     "output_type": "stream",
     "text": [
      "distb = FullNormal(\n",
      "dim: 2\n",
      "μ: [20.62, 0.555]\n",
      "Σ: [37.6156 0.0499; 0.0499 0.092475]\n",
      ")\n",
      "\n",
      "i = 1\n",
      "p_distribution = FullNormal(\n",
      "dim: 2\n",
      "μ: [20.95, 0.525]\n",
      "Σ: [1.5475 0.04625; 0.04625 0.037875]\n",
      ")\n",
      "\n",
      "i = 2\n",
      "p_distribution = FullNormal(\n",
      "dim: 2\n",
      "μ: [20.4882, 0.301985]\n",
      "Σ: [0.350267 0.0153014; 0.0153014 0.0114943]\n",
      ")\n",
      "\n",
      "i = 3\n",
      "p_distribution = FullNormal(\n",
      "dim: 2\n",
      "μ: [20.1379, 0.182542]\n",
      "Σ: [0.0537592 -0.00622469; -0.00622469 0.0035472]\n",
      ")\n",
      "\n",
      "i = 4\n",
      "p_distribution = FullNormal(\n",
      "dim: 2\n",
      "μ: [20.1474, 0.111757]\n",
      "Σ: [0.0302144 -0.000269039; -0.000269039 0.000795222]\n",
      ")\n",
      "\n",
      "i = 5\n",
      "p_distribution = FullNormal(\n",
      "dim: 2\n",
      "μ: [20.0237, 0.0910009]\n",
      "Σ: [0.00687783 -0.000559618; -0.000559618 0.000205846]\n",
      ")\n",
      "\n",
      "i = 6\n",
      "p_distribution = FullNormal(\n",
      "dim: 2\n",
      "μ: [20.0322, 0.0786201]\n",
      "Σ: [0.00405089 -8.82014e-5; -8.82014e-5 6.44721e-5]\n",
      ")\n",
      "\n",
      "i = 7\n",
      "p_distribution = FullNormal(\n",
      "dim: 2\n",
      "μ: [20.022, 0.0732723]\n",
      "Σ: [0.00276484 -1.60646e-5; -1.60646e-5 3.3163e-5]\n",
      ")\n",
      "\n",
      "i = 8\n",
      "p_distribution = FullNormal(\n",
      "dim: 2\n",
      "μ: [20.0088, 0.0709029]\n",
      "Σ: [0.000856114 -3.09994e-5; -3.09994e-5 2.50603e-5]\n",
      ")\n",
      "\n",
      "i = 9\n",
      "p_distribution = FullNormal(\n",
      "dim: 2\n",
      "μ: [20.0062, 0.0678565]\n",
      "Σ: [0.000452894 -8.63871e-6; -8.63871e-6 8.54561e-6]\n",
      ")\n",
      "\n",
      "i = 10\n",
      "p_distribution = FullNormal(\n",
      "dim: 2\n",
      "μ: [20.003, 0.0666755]\n",
      "Σ: [0.000393913 -1.95968e-5; -1.95968e-5 7.1776e-6]\n",
      ")\n",
      "\n",
      "i = 11\n",
      "p_distribution = FullNormal(\n",
      "dim: 2\n",
      "μ: [20.0115, 0.0645909]\n",
      "Σ: [0.000476278 -1.9869e-5; -1.9869e-5 8.44763e-6]\n",
      ")\n",
      "\n",
      "i = 12\n",
      "p_distribution = FullNormal(\n",
      "dim: 2\n",
      "μ: [20.0125, 0.0641284]\n",
      "Σ: [0.000208775 -2.23357e-5; -2.23357e-5 9.44092e-6]\n",
      ")\n",
      "\n",
      "i = 13\n",
      "p_distribution = FullNormal(\n",
      "dim: 2\n",
      "μ: [20.01, 0.0640805]\n",
      "Σ: [0.000138755 -4.72035e-6; -4.72035e-6 3.85261e-6]\n",
      ")\n",
      "\n",
      "i = 14\n",
      "p_distribution = FullNormal(\n",
      "dim: 2\n",
      "μ: [20.0079, 0.0629109]\n",
      "Σ: [0.000137257 -4.99937e-6; -4.99937e-6 2.04536e-6]\n",
      ")\n",
      "\n",
      "i = 15\n",
      "p_distribution = FullNormal(\n",
      "dim: 2\n",
      "μ: [20.008, 0.0627213]\n",
      "Σ: [0.000167862 -9.79588e-6; -9.79588e-6 3.72934e-6]\n",
      ")\n",
      "\n",
      "i = 16\n",
      "p_distribution = FullNormal(\n",
      "dim: 2\n",
      "μ: [20.0076, 0.062027]\n",
      "Σ: [0.000118039 -4.33488e-6; -4.33488e-6 1.73563e-6]\n",
      ")\n",
      "\n",
      "i = 17\n",
      "p_distribution = FullNormal(\n",
      "dim: 2\n",
      "μ: [20.0099, 0.0621815]\n",
      "Σ: [5.63635e-5 -3.6062e-6; -3.6062e-6 1.42335e-6]\n",
      ")\n",
      "\n",
      "i = 18\n",
      "p_distribution = FullNormal(\n",
      "dim: 2\n",
      "μ: [20.0099, 0.0618299]\n",
      "Σ: [3.58584e-5 -2.3263e-6; -2.3263e-6 1.25368e-6]\n",
      ")\n",
      "\n",
      "i = 19\n",
      "p_distribution = FullNormal(\n",
      "dim: 2\n",
      "μ: [20.0113, 0.0620304]\n",
      "Σ: [4.56662e-5 -4.1745e-6; -4.1745e-6 1.86985e-6]\n",
      ")\n",
      "\n",
      "i = 20\n",
      "p_distribution = FullNormal(\n",
      "dim: 2\n",
      "μ: [20.0106, 0.0614451]\n",
      "Σ: [5.61119e-5 -7.98961e-6; -7.98961e-6 2.22892e-6]\n",
      ")\n",
      "\n"
     ]
    }
   ],
   "source": [
    "# Generate particles\n",
    "num_p = 100\n",
    "# start:step:end and number of particles are the inputs to sample\n",
    "v_particles = sample(10.0:1.0:30.0,num_p)\n",
    "sig_particles = sample(0.1:0.1:1.0,num_p)\n",
    "\n",
    "# Arrange the particles as follows\n",
    "    # Every column is a different particle\n",
    "    # Row 1 has v_des and row 2 has sigma\n",
    "# init_particles = Array{Float64}(2,num_p)\n",
    "# init_particles[1,:] = v_particles\n",
    "# init_particles[2,:] = sig_particles\n",
    "init_particles = vcat(v_particles',sig_particles')\n",
    "# @show init_particles\n",
    "distb = fit(MvNormal,init_particles)\n",
    "@show distb\n",
    "\n",
    "# Generate ground truth trajectory\n",
    "pos_ground_truth,rec_ground_truth = gen_traj([20.0 0.1])\n",
    "\n",
    "# Generate new particles\n",
    "p_old = init_particles\n",
    "# @show p_old\n",
    "for i in 1:20\n",
    "    @show i\n",
    "    p_new = new_p_from_old(p_old,num_p,rec_ground_truth,pos_ground_truth,elite_fraction_percent=20)\n",
    "    p_old = p_new\n",
    "end"
   ]
  },
  {
   "cell_type": "markdown",
   "metadata": {},
   "source": [
    "# Visualize"
   ]
  },
  {
   "cell_type": "code",
   "execution_count": null,
   "metadata": {},
   "outputs": [],
   "source": [
    "# Function: Return rec corresponding to generated traj\n",
    "    # Will help visualizatoin\n",
    "    # Calls init_scene\n",
    "# Might be useful later\n",
    "    # models[2] = IntelligentDriverModel(v_des=particle[1],s_min=particle[2],T=particle[3])\n",
    "function gen_rec4vid(particle;nticks=100,timestep=0.1)\n",
    "    scene = init_scene()\n",
    "    models = Dict{Int, LaneFollowingDriver}()\n",
    "    models[1] = IntelligentDriverModel(v_des=particle[1],σ = particle[2])\n",
    "    models[2] = IntelligentDriverModel(v_des=12.0)\n",
    "\n",
    "    # Simulate for nticks (default 100) time steps\n",
    "    timestep = 0.1\n",
    "    rec = QueueRecord(Vehicle1D, nticks+1, timestep)\n",
    "    simulate!(LaneFollowingAccel, rec, scene, roadway, models, nticks)\n",
    "\n",
    "    return rec\n",
    "end"
   ]
  },
  {
   "cell_type": "code",
   "execution_count": null,
   "metadata": {},
   "outputs": [],
   "source": [
    "# overlays = [TextOverlay(text=[\"$(veh.id)\"], incameraframe=true,\n",
    "#         pos=VecE2(veh.state.s-0.7, 3)) for veh in scene];\n",
    "# render(scene, roadway, overlays, cam=cam, canvas_height=100)\n",
    "\n",
    "cam = StaticCamera(VecE2(100.0,0.0), 4.75)\n",
    "true_rec = gen_rec4vid([20.0 0.1],nticks=100)\n",
    "rec = true_rec\n",
    "@manipulate for frame_index in 1 : nframes(rec)\n",
    "    render(rec[frame_index-nframes(rec)], roadway, cam=cam, canvas_height=100)\n",
    "end"
   ]
  },
  {
   "cell_type": "markdown",
   "metadata": {},
   "source": [
    "# LEARNING AND EXPERIMENTATION"
   ]
  },
  {
   "cell_type": "code",
   "execution_count": null,
   "metadata": {},
   "outputs": [],
   "source": [
    "# LEARNING ABOUT MULTIDIM DISTB\n",
    "# Test: Generate samples for a 2d distb\n",
    "d2 = MvNormal(2,2.0) # first arg shows dimension, second shows std dev\n",
    "qw = rand(d2,6) # Will generate 6 samples i.e. 6 columns\n",
    "\n",
    "# Test: Fit 2d distribution\n",
    "dx = Normal()\n",
    "dy = Normal(2,1.0)\n",
    "x = rand(dx,100)\n",
    "y = rand(dy,100)\n",
    "\n",
    "# Matrix with each column being a sample\n",
    "# Total columns is total number of samples\n",
    "# Total rows is number of parameters\n",
    "# All entries in a row contain value from same param eg:v_des\n",
    "data_matrix = vcat(x',y')\n",
    "fit(MvNormal,data_matrix)"
   ]
  },
  {
   "cell_type": "code",
   "execution_count": null,
   "metadata": {},
   "outputs": [],
   "source": [
    "using PyPlot"
   ]
  },
  {
   "cell_type": "code",
   "execution_count": null,
   "metadata": {},
   "outputs": [],
   "source": [
    "num_samples = 2000\n",
    "y1 = rand(Normal(10.0,5.0),num_samples)\n",
    "y2 = rand(Normal(2.0,1.0),num_samples)\n",
    "plot(1:num_samples,y1)\n",
    "plot(1:num_samples,y2)"
   ]
  },
  {
   "cell_type": "code",
   "execution_count": null,
   "metadata": {},
   "outputs": [],
   "source": [
    "using StatPlots"
   ]
  },
  {
   "cell_type": "code",
   "execution_count": null,
   "metadata": {},
   "outputs": [],
   "source": [
    "StatPlots.plot(Normal(3,5),linewidth=4,size=(2500,2500))"
   ]
  },
  {
   "cell_type": "code",
   "execution_count": null,
   "metadata": {},
   "outputs": [],
   "source": [
    "roadway = gen_straight_roadway(2,1000.0);"
   ]
  },
  {
   "cell_type": "code",
   "execution_count": null,
   "metadata": {},
   "outputs": [],
   "source": [
    "scene = Scene1D()\n",
    "push!(scene, Entity(State1D(10.0,  8.0), VehicleDef(), 1))\n",
    "push!(scene, Entity(State1D(50.0, 12.5), VehicleDef(), 2))\n",
    "\n",
    "cam = StaticCamera(VecE2(100.0,0.0), 4.75)\n",
    "overlays = [TextOverlay(text=[\"$(veh.id)\"], incameraframe=true, pos=VecE2(veh.state.s-0.7, 3)) for veh in scene]\n",
    "render(scene, roadway, overlays, cam=cam, canvas_height=100)"
   ]
  },
  {
   "cell_type": "code",
   "execution_count": null,
   "metadata": {},
   "outputs": [],
   "source": [
    "models = Dict{Int64, DriverModel}()\n",
    "models[1] = Tim2DDriver(0.1) # always produce zero acceleration\n",
    "models[2] = Tim2DDriver(0.1) # default IDM with a desired speed of 12 m/s\n",
    "\n",
    "nticks = 100\n",
    "timestep = 0.1\n",
    "rec = QueueRecord(Vehicle1D, nticks+1, timestep)\n",
    "simulate!(rec, scene, roadway, models, nticks)"
   ]
  }
 ],
 "metadata": {
  "kernelspec": {
   "display_name": "Julia 0.6.2",
   "language": "julia",
   "name": "julia-0.6"
  },
  "language_info": {
   "file_extension": ".jl",
   "mimetype": "application/julia",
   "name": "julia",
   "version": "0.6.2"
  }
 },
 "nbformat": 4,
 "nbformat_minor": 2
}
