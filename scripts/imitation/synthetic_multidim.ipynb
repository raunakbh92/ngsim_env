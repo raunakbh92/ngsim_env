{
 "cells": [
  {
   "cell_type": "markdown",
   "metadata": {},
   "source": [
    "- Goal\n",
    "    - Create synthetic data using IDM\n",
    "    - Learn parameters of that data using particle filtering\n",
    "    - Aliter 7 Feb: Learn using CEM idea, fitness function and then distb and then sample\n",
    "- Learning\n",
    "    - Need at least 2 vehicles so that there is a neighbor in the front\n",
    "    - Otherwise src/1d/driver/lane_follower_driver errors\n",
    "    - That is why the `AutomotiveDrivingModels/doc/1DMobius` stuff does \n",
    "    not work with 1 car only (needs at least 2 cars)\n",
    "    - The tutorial does not work with `gen_straight_roadway` because that\n",
    "    generates a roadway of type AutomotiveDrivingModels.roadway as opposed to\n",
    "    AutomotiveDrivingModels.StraightRoadway\n",
    "- Open question\n",
    "    - IDM won't work unless there is a car in front (errors saynig nothing in sight)\n",
    "    - We are focusing on learning the params of the second car here. Is that sound sensible?\n",
    "- Flow of code\n",
    "    - Call the required `usings`\n",
    "    - Define functions required\n",
    "    - Actual running things\n",
    "        - Generate true trajectory\n",
    "        - Generate a set of particles uniformly between sensible range of values\n",
    "        - Compute fitness, sort and select numtop\n",
    "        - Fit a distribution over this\n",
    "        - Resample particles\n",
    "- Scenario\n",
    "    - Slower car in front (car 1)\n",
    "    - Faster car behind (car 2)\n",
    "    - We want to estimate params of car 2\n",
    "- Feb 10: Adding timegap_des as our 2nd param in the 2 car, 1D, IDM scenario\n",
    "    - Make code capable of handling 2d param. So far, had only scalar param\n",
    "    i.e v_des\n",
    "    - Fitting 2D distributions is required now\n",
    "- Feb 22\n",
    "    - the `rec` generated using `simulate` is a devious monster\n",
    "    - It stores the last timestep in the 1st entry and first timestep in last entry\n",
    "    - Be careful"
   ]
  },
  {
   "cell_type": "code",
   "execution_count": 124,
   "metadata": {},
   "outputs": [],
   "source": [
    "using AutomotiveDrivingModels\n",
    "using AutoViz\n",
    "using Reel\n",
    "using Interact\n",
    "using StatsBase # For random particle generation\n",
    "using Base.Test"
   ]
  },
  {
   "cell_type": "code",
   "execution_count": 2,
   "metadata": {},
   "outputs": [],
   "source": [
    "# 1 lane, 1000 m roadway\n",
    "# roadway = gen_straight_roadway(1,1000.0) # Does not work with the below because AutomotiveDrivingModels.Roadway\n",
    "roadway = StraightRoadway(1000.0); # AutomotiveDrivingModels.StraightRoadway type"
   ]
  },
  {
   "cell_type": "code",
   "execution_count": 3,
   "metadata": {},
   "outputs": [
    {
     "data": {
      "text/plain": [
       "init_scene"
      ]
     },
     "execution_count": 3,
     "metadata": {},
     "output_type": "execute_result"
    }
   ],
   "source": [
    "\"\"\"\n",
    "init_scene: Initialize a scene given positions and velocities of 2 cars.\n",
    "\n",
    "Usage:\n",
    "`scene = init_scene(car1.s,car1.v,car2.s,car2.v)\n",
    "\n",
    "Returns:\n",
    "- `scene`\n",
    "\n",
    "BREAKING POSS:\n",
    "- Hard coded for 2 vehicles\n",
    "\"\"\"\n",
    "# Function: Initialize the scene\n",
    "    # Note: Vehicle def 1 (leader) is the one we learn params for\n",
    "    # This is hard-coded in the gen_traj method by accessing first elem of scene vector\n",
    "# The returned thing here is an array of entities i.e. cars and you can query those to get pos, vel\n",
    "function init_scene(pos1=50.0,vel1=12.0,pos2=10.0,vel2=10.0)\n",
    "    scene = Scene1D()\n",
    "    \n",
    "    # First arg to State1D is pos, 2nd arg is velocity\n",
    "    push!(scene, Entity(State1D(pos1, vel1), VehicleDef(), 1))\n",
    "    push!(scene, Entity(State1D(pos2, vel2), VehicleDef(), 2))\n",
    "    return scene\n",
    "end"
   ]
  },
  {
   "cell_type": "code",
   "execution_count": 79,
   "metadata": {},
   "outputs": [
    {
     "data": {
      "text/plain": [
       "gen_traj"
      ]
     },
     "execution_count": 79,
     "metadata": {},
     "output_type": "execute_result"
    }
   ],
   "source": [
    "\"\"\"\n",
    "gen_traj: Generate a ground truth trajectory.\n",
    "\n",
    "Usage:\n",
    "pos_ground_truth, rec_ground_truth = gen_traj([20.0 0.1])\n",
    "\n",
    "Arguments:\n",
    "- `particle` Ground truth IDM parameter values\n",
    "- `nticks` Number of timesteps simulated default 100\n",
    "- `timestep` Duration of a step default 0.1\n",
    "\n",
    "Returns:\n",
    "- `X` Array of length `nticks` containing position of car1 with X[1] being \n",
    "position after 1 timestep from initialization\n",
    "- `rec` Queuerecord of scenes which can be accessed by `rec.frames` which is\n",
    "of length `nticks+1`. Note that `rec.frames[nticks+1] contains the initialization scene\n",
    "and rec.frames[1] contains the final scene. Thus info is contained in backward indexing.\n",
    "\n",
    "Breaking possibilities:\n",
    "- Hard coded to work with 2 cars by calling only 2 models\n",
    "- Only returns position of car1 in return value `X`\n",
    "\"\"\"\n",
    "function gen_traj(particle;nticks=100,timestep=0.1)\n",
    "    scene = init_scene()\n",
    "    models = Dict{Int, LaneFollowingDriver}()\n",
    "    models[1] = IntelligentDriverModel(v_des=particle[1],σ = particle[2])\n",
    "    models[2] = IntelligentDriverModel(v_des=12.0)\n",
    "\n",
    "    # Simulate for nticks (default 100) time steps\n",
    "    timestep = 0.1\n",
    "    rec = QueueRecord(Vehicle1D, nticks+1, timestep)\n",
    "    simulate!(LaneFollowingAccel, rec, scene, roadway, models, nticks)\n",
    "\n",
    "    # Extract the position and velocity of nticks timesteps\n",
    "    # X stores this as 2d array. Timestep is the row, col 1 is pos,vel is pos2\n",
    "    n_cars = scene.n\n",
    "    n_ticks = nticks\n",
    "    X = Array{Float64}(n_ticks, 1)\n",
    "\n",
    "    for t in 1:n_ticks\n",
    "        f = rec.frames[n_ticks - t + 1]\n",
    "        \n",
    "        # BAD: 2 cars in scene therefore loop has only 1 elem\n",
    "        for c in 1:1 #Was 2:sc\n",
    "            s = f.entities[c].state\n",
    "            X[t, 1] = s.s #position\n",
    "        end\n",
    "    end\n",
    "    return X, rec\n",
    "end"
   ]
  },
  {
   "cell_type": "code",
   "execution_count": 157,
   "metadata": {},
   "outputs": [
    {
     "data": {
      "text/plain": [
       "gen_traj_dict"
      ]
     },
     "execution_count": 157,
     "metadata": {},
     "output_type": "execute_result"
    }
   ],
   "source": [
    "\"\"\"\n",
    "Usage:\n",
    "particle = Dict(:v_des=25.0,:σ=0.5)\n",
    "gen_traj_dict(ptest,nticks=1)\n",
    "\n",
    "Expected output\n",
    "([51.2076], QueueRecord(nframes=2))\n",
    "\"\"\"\n",
    "function gen_traj_dict(particle;nticks=100,timestep=0.1)\n",
    "    scene = init_scene()\n",
    "    models = Dict{Int, LaneFollowingDriver}()\n",
    "    models[1] = IntelligentDriverModel(;particle...)\n",
    "    models[2] = IntelligentDriverModel(v_des=12.0)\n",
    "\n",
    "    # Simulate for nticks (default 100) time steps\n",
    "    timestep = 0.1\n",
    "    rec = QueueRecord(Vehicle1D, nticks+1, timestep)\n",
    "    simulate!(LaneFollowingAccel, rec, scene, roadway, models, nticks)\n",
    "\n",
    "    # Extract the position and velocity of nticks timesteps\n",
    "    # X stores this as 2d array. Timestep is the row, col 1 is pos,vel is pos2\n",
    "    n_cars = scene.n\n",
    "    n_ticks = nticks\n",
    "    X = Array{Float64}(n_ticks, 1)\n",
    "\n",
    "    for t in 1:n_ticks\n",
    "        f = rec.frames[n_ticks - t + 1]\n",
    "        \n",
    "        # BAD: 2 cars in scene therefore loop has only 1 elem\n",
    "        for c in 1:1 #Was 2:sc\n",
    "            s = f.entities[c].state\n",
    "            X[t, 1] = s.s #position\n",
    "        end\n",
    "    end\n",
    "    return X, rec\n",
    "end"
   ]
  },
  {
   "cell_type": "code",
   "execution_count": 5,
   "metadata": {},
   "outputs": [
    {
     "data": {
      "text/plain": [
       "hallucinate_a_step"
      ]
     },
     "execution_count": 5,
     "metadata": {},
     "output_type": "execute_result"
    }
   ],
   "source": [
    "\"\"\"\n",
    "hallucinate_a_step: Hallucinate a step given positions and velocities of 2 cars and a candidate particle.\n",
    "\n",
    "Usage:\n",
    "pos_ground_truth,rec_ground_truth = gen_traj([20.0 0.1])\n",
    "frame_of_interest = rec_ground_truth.frames[101]\n",
    "test = hallucinate_a_step(frame_of_interest.entities[1].state,frame_of_interest.entities[2].state,[20.0 0.1])\n",
    "\n",
    "Arguments:\n",
    "- `car1` The leader car whose parameters we are trying to learn\n",
    "- `car2` The follower car\n",
    "- `particle` The candidate IDM params eg: [20.0 0.1]\n",
    "\n",
    "Returns:\n",
    "- `X` Position of the leader car after hallucinating one step under the candidate particle\n",
    "\n",
    "BREAKING POSSIBILITIES\n",
    "- If Number of cars in scene and number of models are ever different\n",
    "- Timestep and nticks are hardcoded within the function\n",
    "- Artificial creation of scene in the beginning is scalability issue\n",
    "- Only returns position of leader car\n",
    "\"\"\"\n",
    "function hallucinate_a_step(car1,car2,particle)\n",
    "    scene = init_scene(car1.s,car1.v,car2.s,car2.v)\n",
    "    models = Dict{Int, LaneFollowingDriver}()\n",
    "    models[1] = IntelligentDriverModel(v_des=particle[1],σ = particle[2])\n",
    "    models[2] = IntelligentDriverModel(v_des=12.0)\n",
    "\n",
    "    # Simulate for nticks time steps\n",
    "    nticks = 1\n",
    "    timestep = 0.1\n",
    "    rec = QueueRecord(Vehicle1D, nticks+1, timestep)\n",
    "    simulate!(LaneFollowingAccel, rec, scene, roadway, models, nticks)\n",
    "\n",
    "    # Extract the position and velocity of nticks timesteps\n",
    "    # X stores this as 2d array. Timestep is the row, col 1 is pos,vel is pos2\n",
    "    n_cars = scene.n\n",
    "    n_ticks = nticks\n",
    "    X = Array{Float64}(n_ticks, 1)\n",
    "\n",
    "    for t in 1:n_ticks\n",
    "        f = rec.frames[n_ticks - t + 1]\n",
    "        \n",
    "        # BAD: 2 cars in scene therefore loop has only 1 elem\n",
    "        for c in 1:1 #Was 2:sc\n",
    "            s = f.entities[c].state\n",
    "            X[t, 1] = s.s #position\n",
    "        end\n",
    "    end\n",
    "    return X\n",
    "end"
   ]
  },
  {
   "cell_type": "code",
   "execution_count": 120,
   "metadata": {},
   "outputs": [
    {
     "data": {
      "text/plain": [
       "hallucinate_a_step_dict"
      ]
     },
     "execution_count": 120,
     "metadata": {},
     "output_type": "execute_result"
    }
   ],
   "source": [
    "\"\"\"\n",
    "Usage:\n",
    "ptest = Dict(:v_des=>25.0,:σ=>0.5)\n",
    "pos_ground_truth,rec_ground_truth = gen_traj_dict(ptest)\n",
    "frame_of_interest = rec_ground_truth.frames[101]\n",
    "test = hallucinate_a_step_dict(frame_of_interest.entities[1].state,frame_of_interest.entities[2].state,ptest)\n",
    "\n",
    "Should output 51.something\n",
    "\"\"\"\n",
    "function hallucinate_a_step_dict(car1,car2,particle)\n",
    "    scene = init_scene(car1.s,car1.v,car2.s,car2.v)\n",
    "    models = Dict{Int, LaneFollowingDriver}()\n",
    "    models[1] = IntelligentDriverModel(;particle...)\n",
    "    models[2] = IntelligentDriverModel(v_des=12.0)\n",
    "\n",
    "    # Simulate for nticks time steps\n",
    "    nticks = 1\n",
    "    timestep = 0.1\n",
    "    rec = QueueRecord(Vehicle1D, nticks+1, timestep)\n",
    "    simulate!(LaneFollowingAccel, rec, scene, roadway, models, nticks)\n",
    "\n",
    "    # Extract the position and velocity of nticks timesteps\n",
    "    # X stores this as 2d array. Timestep is the row, col 1 is pos,vel is pos2\n",
    "    n_cars = scene.n\n",
    "    n_ticks = nticks\n",
    "    X = Array{Float64}(n_ticks, 1)\n",
    "\n",
    "    for t in 1:n_ticks\n",
    "        f = rec.frames[n_ticks - t + 1]\n",
    "        \n",
    "        # BAD: 2 cars in scene therefore loop has only 1 elem\n",
    "        for c in 1:1 #Was 2:sc\n",
    "            s = f.entities[c].state\n",
    "            X[t, 1] = s.s #position\n",
    "        end\n",
    "    end\n",
    "    return X\n",
    "end"
   ]
  },
  {
   "cell_type": "code",
   "execution_count": 180,
   "metadata": {},
   "outputs": [
    {
     "data": {
      "text/plain": [
       "calc_traj_log_likelihood"
      ]
     },
     "execution_count": 180,
     "metadata": {},
     "output_type": "execute_result"
    }
   ],
   "source": [
    "\"\"\"\n",
    "calc_traj_log_likelihood: Calculate log likelihood of a candidate particle over a \n",
    "trajectory by running hallucination over given ground truth queuerecord and \n",
    "ground truth true position array.\n",
    "\n",
    "Usage:\n",
    "pos_ground_truth,rec_ground_truth = gen_traj([20.0 0.1])\n",
    "calc_traj_log_likelihood([20.0 0.01],rec_ground_truth,pos_ground_truth)\n",
    "\n",
    "Arguments:\n",
    "- `particle` Candidate particle eg [20.0 0.1]\n",
    "- `rec_ground_truth` Queuerecord with ground truth scenes\n",
    "- `pos_ground_truth` Ground truth with position array\n",
    "\n",
    "Returns:\n",
    "- `log_lkhd` log likelihood of truth given candidate particle \n",
    "\n",
    "This function calls:\n",
    "- `hallucinate_a_step`\n",
    "\n",
    "BREAKING POSSIBILITIES\n",
    "- particle[2] has been hardcoded as the variance\n",
    "- Hardcoded to work with 2 cars in the scene\n",
    "- Timestep harcoded as 0.1 for std dev calculation\n",
    "- https://stattrek.com/random-variable/transformation.aspx\n",
    "WHAT SHOULD THE LOG LKHD BE INITIALIZED TO? CURRENTLY INITIALIZED TO 0\n",
    "\"\"\"\n",
    "function calc_traj_log_likelihood(particle,rec_ground_truth,pos_ground_truth)\n",
    "    std_dev_acc = particle[2]\n",
    "    \n",
    "    # hack to avoid the std_dev_pos become negative and error Normal distb\n",
    "    if std_dev_acc <= 0 std_dev_acc = 0.1 end\n",
    "\n",
    "    log_lkhd = 0\n",
    "    f_end_num = length(rec_ground_truth.frames)\n",
    "    for t in 1:f_end_num-1\n",
    "        f = rec_ground_truth.frames[f_end_num - t + 1]\n",
    "\n",
    "        hpos = hallucinate_a_step(f.entities[1].state,f.entities[2].state,particle)\n",
    "        # Ground truth pos\n",
    "        trupos = pos_ground_truth[t]\n",
    "\n",
    "        timestep = 0.1\n",
    "        std_dev_pos = timestep*timestep*std_dev_acc\n",
    "        \n",
    "        log_lkhd+=logpdf(Normal(hpos[1],std_dev_pos),trupos[1])\n",
    "    end\n",
    "    return log_lkhd\n",
    "end"
   ]
  },
  {
   "cell_type": "code",
   "execution_count": 140,
   "metadata": {},
   "outputs": [
    {
     "data": {
      "text/plain": [
       "407.7649428882207"
      ]
     },
     "execution_count": 140,
     "metadata": {},
     "output_type": "execute_result"
    }
   ],
   "source": [
    "pos_ground_truth,rec_ground_truth = gen_traj([25.0 0.5])\n",
    "calc_traj_log_likelihood([25.0 0.5],rec_ground_truth,pos_ground_truth)"
   ]
  },
  {
   "cell_type": "code",
   "execution_count": 179,
   "metadata": {},
   "outputs": [
    {
     "data": {
      "text/plain": [
       "calc_traj_log_likelihood_dict"
      ]
     },
     "execution_count": 179,
     "metadata": {},
     "output_type": "execute_result"
    }
   ],
   "source": [
    "\"\"\"\n",
    "ptest = Dict(:v_des=>25.0,:σ=>0.5)\n",
    "pos_ground_truth,rec_ground_truth = gen_traj_dict(ptest)\n",
    "calc_traj_log_likelihood_dict(ptest,rec_ground_truth,pos_ground_truth)\n",
    "\n",
    "Should be around 410\n",
    "\"\"\"\n",
    "function calc_traj_log_likelihood_dict(particle,rec_ground_truth,pos_ground_truth)\n",
    "    std_dev_acc = particle[:σ]\n",
    "    \n",
    "    # hack to avoid the std_dev_pos become negative and error Normal distb\n",
    "    if std_dev_acc <=0 std_dev_acc = 0.1 end\n",
    "\n",
    "    log_lkhd = 0\n",
    "    f_end_num = length(rec_ground_truth.frames)\n",
    "    for t in 1:f_end_num-1\n",
    "        f = rec_ground_truth.frames[f_end_num - t + 1]\n",
    "\n",
    "        hpos = hallucinate_a_step_dict(f.entities[1].state,f.entities[2].state,particle)\n",
    "        # Ground truth pos\n",
    "        trupos = pos_ground_truth[t]\n",
    "\n",
    "        timestep = 0.1\n",
    "        std_dev_pos = timestep*timestep*std_dev_acc\n",
    "        \n",
    "        log_lkhd+=logpdf(Normal(hpos[1],std_dev_pos),trupos[1])\n",
    "    end\n",
    "    return log_lkhd\n",
    "end"
   ]
  },
  {
   "cell_type": "code",
   "execution_count": 177,
   "metadata": {},
   "outputs": [
    {
     "data": {
      "text/plain": [
       "update_particles_one_step"
      ]
     },
     "execution_count": 177,
     "metadata": {},
     "output_type": "execute_result"
    }
   ],
   "source": [
    "\"\"\"\n",
    "update_particles_one_step: Update particles over one step of ground truth\n",
    "\n",
    "Usage:\n",
    "```julia REPL\n",
    "# Sanity check update_particles_one_step\n",
    "# Generate particles\n",
    "num_p = 5\n",
    "# start:step:end and number of particles are the inputs to sample\n",
    "v_particles = sample(10.0:1.0:50.0,num_p)\n",
    "sig_particles = sample(0.1:0.1:1.0,num_p)\n",
    "\n",
    "# Arrange the particles as follows\n",
    "    # Every column is a different particle\n",
    "    # Row 1 has v_des and row 2 has sigma\n",
    "init_particles = vcat(v_particles',sig_particles')\n",
    "@show init_particles\n",
    "\n",
    "# Generate ground truth trajectory\n",
    "pos_ground_truth,rec_ground_truth = gen_traj([25.0 0.6])\n",
    "\n",
    "new_p_mat = update_particles_one_step(init_particles,rec_ground_truth.frames[101],pos_ground_truth[1])\n",
    "```\n",
    "\n",
    "Arguments:\n",
    "-`particle_matrix`\n",
    "-`f` A scene\n",
    "-`trupos` Single element array containing ground truth position one timestep after scene f\n",
    "\n",
    "Issues:\n",
    "-Assumes that element in 2nd row is going to be std_dev\n",
    "- Timestep hardcoded to be 0.1\n",
    "\"\"\"\n",
    "function update_particles_one_step(particle_matrix,f,trupos)\n",
    "    num_p = size(particle_matrix)[2]\n",
    "    timestep = 0.1\n",
    "    \n",
    "    lkhd_vec = Array{Float64}(num_p)\n",
    "    for i in 1:num_p\n",
    "        candidate_particle = particle_matrix[:,i]\n",
    "        std_dev_acc = candidate_particle[2]\n",
    "            \n",
    "        # hack to avoid the std_dev_pos become negative and error Normal distb\n",
    "        if std_dev_acc <= 0 std_dev_acc = 0.1 end\n",
    "\n",
    "        std_dev_pos = timestep*timestep*std_dev_acc\n",
    "            \n",
    "        hpos = hallucinate_a_step(f.entities[1].state,f.entities[2].state,candidate_particle)\n",
    "        \n",
    "        lkhd_vec[i] = pdf(Normal(hpos[1],std_dev_pos),trupos[1])\n",
    "        \n",
    "    end\n",
    "\n",
    "    p_weight_vec = weights(lkhd_vec./sum(lkhd_vec))\n",
    "\n",
    "    # Sample num_p new particles according to weights\n",
    "    idx = sample(1:num_p,p_weight_vec,num_p)\n",
    "    new_particle_matrix = particle_matrix[:,idx] #Careful that idx is (size,1) and not (size,2)\n",
    "    \n",
    "    return new_particle_matrix\n",
    "end"
   ]
  },
  {
   "cell_type": "code",
   "execution_count": 196,
   "metadata": {},
   "outputs": [
    {
     "data": {
      "text/plain": [
       "update_particles_one_step_dict"
      ]
     },
     "execution_count": 196,
     "metadata": {},
     "output_type": "execute_result"
    }
   ],
   "source": [
    "\"\"\"\n",
    "Usage:\n",
    "p1 = Dict(:v_des=>25.0,:σ=>0)\n",
    "p2 = Dict(:v_des=>23.0,:σ=>0)\n",
    "p3 = Dict(:v_des=>22.0,:σ=>0)\n",
    "p4 = Dict(:v_des=>27.0,:σ=>0)\n",
    "particle_vector = [p1;p2;p3;p4]\n",
    "@show particle_vector\n",
    "# Generate ground truth trajectory\n",
    "pos_ground_truth,rec_ground_truth = gen_traj_dict(Dict(:v_des=>25.0,:σ=>0))\n",
    "@show rec_ground_truth\n",
    "\n",
    "new_p_set = update_particles_one_step_dict(particle_vector,rec_ground_truth.frames[101],pos_ground_truth[1])\n",
    "\n",
    "Expected output\n",
    "4-element Array{Dict{Symbol,Any},1}:\n",
    " Dict{Symbol,Any}(Pair{Symbol,Any}(:v_des, 25.0),Pair{Symbol,Any}(:σ, 0))\n",
    " Dict{Symbol,Any}(Pair{Symbol,Any}(:v_des, 22.0),Pair{Symbol,Any}(:σ, 0))\n",
    " Dict{Symbol,Any}(Pair{Symbol,Any}(:v_des, 22.0),Pair{Symbol,Any}(:σ, 0))\n",
    " Dict{Symbol,Any}(Pair{Symbol,Any}(:v_des, 22.0),Pair{Symbol,Any}(:σ, 0))\n",
    "\n",
    "Arguments:\n",
    "-`particle_vector` Vector of dictionaries i.e. Array{Dict{Symbol,Any},1} Each elem of vector is a particle\n",
    "\"\"\"\n",
    "function update_particles_one_step_dict(particle_vector,f,trupos)\n",
    "    num_p = length(particle_vector)\n",
    "    timestep = 0.1\n",
    "    \n",
    "    lkhd_vec = Array{Float64}(num_p)\n",
    "    for i in 1:num_p\n",
    "        candidate_particle = particle_vector[i]\n",
    "        \n",
    "        std_dev_acc = candidate_particle[:σ]\n",
    "        \n",
    "        # hack to avoid the std_dev_pos become negative and error Normal distb\n",
    "        if std_dev_acc <= 0 std_dev_acc = 0.1 end\n",
    "\n",
    "        std_dev_pos = timestep*timestep*std_dev_acc\n",
    "            \n",
    "        hpos = hallucinate_a_step_dict(f.entities[1].state,f.entities[2].state,candidate_particle)\n",
    "        \n",
    "        lkhd_vec[i] = pdf(Normal(hpos[1],std_dev_pos),trupos[1])\n",
    "        \n",
    "    end\n",
    "\n",
    "    p_weight_vec = weights(lkhd_vec./sum(lkhd_vec))\n",
    "\n",
    "    # Sample num_p new particles according to weights\n",
    "    idx = sample(1:num_p,p_weight_vec,num_p)\n",
    "    new_particle_vector = particle_vector[idx]\n",
    "    \n",
    "    return new_particle_vector\n",
    "end"
   ]
  },
  {
   "cell_type": "code",
   "execution_count": 58,
   "metadata": {},
   "outputs": [
    {
     "data": {
      "text/plain": [
       "pf_traj"
      ]
     },
     "execution_count": 58,
     "metadata": {},
     "output_type": "execute_result"
    }
   ],
   "source": [
    "\"\"\"\n",
    "pf_traj: Run particle filter over a trajectory\n",
    "\n",
    "Usage:\n",
    "```julia REPL\n",
    "# Generate particles\n",
    "num_p = 1000\n",
    "# start:step:end and number of particles are the inputs to sample\n",
    "v_particles = sample(10.0:1.0:30.0,num_p)\n",
    "sig_particles = sample(0.1:0.1:1.0,num_p)\n",
    "\n",
    "# Arrange the particles as follows\n",
    "    # Every column is a different particle\n",
    "    # Row 1 has v_des and row 2 has sigma\n",
    "init_particles = vcat(v_particles',sig_particles')\n",
    "# @show init_particles\n",
    "\n",
    "# Generate ground truth trajectory\n",
    "pos_ground_truth,rec_ground_truth = gen_traj([25.0 0.6])\n",
    "\n",
    "pf_traj(init_particles,rec_ground_truth,pos_ground_truth)\n",
    "```\n",
    "\n",
    "Arguments:\n",
    "-`particle_matrix` Initial set of particles\n",
    "-`rec_ground_truth` Queuerecord containing ground truth scenes\n",
    "-`pos_ground_truth` Array of ground truth positions\n",
    "\n",
    "Returns:\n",
    "- Nothing as yet as prints out the resulting particles on screen\n",
    "\n",
    "Issues:\n",
    "-`timestep` hardcoded\n",
    "- If all the particles are exactly identical, fitting will not work\n",
    "\"\"\"\n",
    "function pf_traj(particle_matrix,rec_ground_truth,pos_ground_truth)\n",
    "    num_p = size(particle_matrix)[2]\n",
    "    \n",
    "    f_end_num = length(rec_ground_truth.frames)\n",
    "    \n",
    "    # loop over the trajectory step by step\n",
    "    \n",
    "        # loop over the set of particles\n",
    "            # assign likelihood to a particle\n",
    "        \n",
    "        # Make weight vector\n",
    "        # Resample from weight vector\n",
    "    timestep = 0.1 # TODO REMOVE HARDCODING\n",
    "    \n",
    "    old_p_mat = particle_matrix\n",
    "    \n",
    "    for t in 1:f_end_num-1\n",
    "#         @show t\n",
    "        f = rec_ground_truth.frames[f_end_num - t + 1]\n",
    "        trupos = pos_ground_truth[t]\n",
    "        \n",
    "        new_p_mat = update_particles_one_step(old_p_mat,f,trupos)\n",
    "#         @show new_p_mat\n",
    "        old_p_mat = new_p_mat\n",
    "    end\n",
    "    \n",
    "#     @show old_p_mat\n",
    "\n",
    "    #@show fit(MvNormal,old_p_mat) # Don't work because all elements identical\n",
    "    @show old_p_mat[:,1:5]\n",
    "end"
   ]
  },
  {
   "cell_type": "code",
   "execution_count": 195,
   "metadata": {},
   "outputs": [
    {
     "data": {
      "text/plain": [
       "pf_traj_dict"
      ]
     },
     "execution_count": 195,
     "metadata": {},
     "output_type": "execute_result"
    }
   ],
   "source": [
    "\"\"\"\n",
    "Usage\n",
    "p1 = Dict(:v_des=>25.0,:σ=>0)\n",
    "p2 = Dict(:v_des=>23.0,:σ=>0)\n",
    "p3 = Dict(:v_des=>22.0,:σ=>0)\n",
    "p4 = Dict(:v_des=>27.0,:σ=>0)\n",
    "p5 = Dict(:v_des=>27.0,:σ=>0)\n",
    "p6 = Dict(:v_des=>19.0,:σ=>0)\n",
    "p7 = Dict(:v_des=>17.0,:σ=>0)\n",
    "p8 = Dict(:v_des=>28.0,:σ=>0)\n",
    "p9 = Dict(:v_des=>31.0,:σ=>0)\n",
    "p10 = Dict(:v_des=>33.0,:σ=>0)\n",
    "\n",
    "particle_vector = [p1;p2;p3;p4;p5;p6;p7;p8;p9;p10]\n",
    "@show particle_vector\n",
    "\n",
    "# Generate ground truth trajectory\n",
    "pos_ground_truth,rec_ground_truth = gen_traj_dict(Dict(:v_des=>25.0,:σ=>0))\n",
    "\n",
    "pf_traj_dict(particle_vector,rec_ground_truth,pos_ground_truth)\n",
    "\n",
    "Output should be all particles 25.0,0\n",
    "\"\"\"\n",
    "function pf_traj_dict(particle_vector,rec_ground_truth,pos_ground_truth)\n",
    "    num_p = length(particle_vector)\n",
    "    \n",
    "    f_end_num = length(rec_ground_truth.frames)\n",
    "    \n",
    "    # loop over the trajectory step by step\n",
    "    \n",
    "        # loop over the set of particles\n",
    "            # assign likelihood to a particle\n",
    "        \n",
    "        # Make weight vector\n",
    "        # Resample from weight vector\n",
    "    timestep = 0.1 # TODO REMOVE HARDCODING\n",
    "    \n",
    "    old_p_vec = particle_vector\n",
    "    \n",
    "    for t in 1:f_end_num-1\n",
    "#         @show t\n",
    "        f = rec_ground_truth.frames[f_end_num - t + 1]\n",
    "        trupos = pos_ground_truth[t]\n",
    "        \n",
    "        new_p_vec = update_particles_one_step_dict(old_p_vec,f,trupos)\n",
    "#         @show new_p_mat\n",
    "        old_p_vec = new_p_vec\n",
    "    end\n",
    "    \n",
    "#     @show old_p_mat\n",
    "\n",
    "    #@show fit(MvNormal,old_p_mat) # Don't work because all elements identical\n",
    "    @show old_p_vec[1:5]\n",
    "end"
   ]
  },
  {
   "cell_type": "code",
   "execution_count": 9,
   "metadata": {},
   "outputs": [
    {
     "data": {
      "text/plain": [
       "new_p_from_old"
      ]
     },
     "execution_count": 9,
     "metadata": {},
     "output_type": "execute_result"
    }
   ],
   "source": [
    "\"\"\"\n",
    "Generate a new sample set of particles from old set for CEM\n",
    "\n",
    "Usage:\n",
    "```julia REPL\n",
    "# Generate particles\n",
    "num_p = 100\n",
    "# start:step:end and number of particles are the inputs to sample\n",
    "v_particles = sample(10.0:1.0:50.0,num_p)\n",
    "sig_particles = sample(0.1:0.1:1.0,num_p)\n",
    "\n",
    "# Arrange the particles as follows\n",
    "    # Every column is a different particle\n",
    "    # Row 1 has v_des and row 2 has sigma\n",
    "init_particles = vcat(v_particles',sig_particles')\n",
    "# @show init_particles\n",
    "distb = fit(MvNormal,init_particles)\n",
    "@show distb\n",
    "\n",
    "# Generate ground truth trajectory\n",
    "pos_ground_truth,rec_ground_truth = gen_traj([25.0 0.6])\n",
    "\n",
    "# Generate new particles\n",
    "p_old = init_particles\n",
    "p_dist = []  # TODO: Is this empty init fine for a distribution\n",
    "# @show p_old\n",
    "for i in 1:20\n",
    "    if i%10==0 @show i end\n",
    "    p_new, p_dist = new_p_from_old(p_old,num_p,rec_ground_truth,pos_ground_truth,elite_fraction_percent=20)\n",
    "    p_old = p_new\n",
    "end\n",
    "@show p_dist\n",
    "```\n",
    "\n",
    "Arguments:\n",
    "- `particle_matrix` Matrix with each column containing a candidate particle and row containing param value\n",
    "- `num_p` Number of particles i.e. number of columns of `particle_matrix`\n",
    "- `rec_ground_truth` Queuerecord containing array of ground truth scenes generated using `gen_traj`\n",
    "- `pos_ground_truth` Array of ground truth positions generated using `gen_traj`\n",
    "- `elite_fraction_percent` Percentage of particles to be selected as elite for fitting new distribution\n",
    "\n",
    "Returns:\n",
    "- `new_p_matrix` Matrix containing `num_p` particles sampled from distribution fitted from elite particles\n",
    "- 'p_distribution` Distribution obtained from final set of particles\n",
    "\n",
    "Improvements needed:\n",
    "- TODO: MAYBE DOING THIS IN PLACE WILL BE MORE EFFICIENT RATHER THAN RETURN WHOLE MATRIX\n",
    "\"\"\"\n",
    "function new_p_from_old(particle_matrix,num_p,rec_ground_truth,pos_ground_truth;elite_fraction_percent=20)\n",
    "    assert(size(particle_matrix)[2]==num_p) #check numcols same as num particles\n",
    "    \n",
    "    p_traj_lkhd = Array{Float64}(num_p) # for storing loglikhd for each particle\n",
    "    \n",
    "    for i in 1:num_p\n",
    "        candidate_particle = particle_matrix[:,i]\n",
    "        p_traj_lkhd[i] = calc_traj_log_likelihood(candidate_particle,rec_ground_truth,pos_ground_truth)\n",
    "    end\n",
    "\n",
    "    # We don't care about the actual error values\n",
    "    # We just care about the numtop of them\n",
    "\n",
    "    # Sort the traj such that highest likelihood is at the top\n",
    "        # rev=true does this for us i.e sort in decreasing order\n",
    "    sortedidx = sortperm(p_traj_lkhd,rev=true)\n",
    "    \n",
    "    numtop = convert(Int64,ceil(num_p*elite_fraction_percent/100.0))\n",
    "    best_particles = particle_matrix[:,sortedidx[1:numtop]] # elite selection\n",
    "    p_distribution = fit(MvNormal,best_particles) # fit distb using elites\n",
    "    new_p_matrix = rand(p_distribution,num_p) # sample num_p new particles from distb\n",
    "\n",
    "    return new_p_matrix, p_distribution\n",
    "end"
   ]
  },
  {
   "cell_type": "code",
   "execution_count": 213,
   "metadata": {},
   "outputs": [
    {
     "data": {
      "text/plain": [
       "new_p_from_old_dict (generic function with 1 method)"
      ]
     },
     "execution_count": 213,
     "metadata": {},
     "output_type": "execute_result"
    }
   ],
   "source": [
    "function new_p_from_old_dict(particle_vector,rec_ground_truth,pos_ground_truth;elite_fraction_percent=20)\n",
    "    num_p = length(particle_vector)\n",
    "    \n",
    "    p_traj_lkhd = Array{Float64}(num_p) # for storing loglikhd for each particle\n",
    "    \n",
    "    for i in 1:num_p\n",
    "        candidate_particle = particle_vector[i]\n",
    "        p_traj_lkhd[i] = calc_traj_log_likelihood_dict(candidate_particle,rec_ground_truth,pos_ground_truth)\n",
    "    end\n",
    "\n",
    "    # We don't care about the actual error values\n",
    "    # We just care about the numtop of them\n",
    "\n",
    "    # Sort the traj such that highest likelihood is at the top\n",
    "        # rev=true does this for us i.e sort in decreasing order\n",
    "    sortedidx = sortperm(p_traj_lkhd,rev=true)\n",
    "    \n",
    "    numtop = convert(Int64,ceil(num_p*elite_fraction_percent/100.0))\n",
    "    best_particles = particle_vector[sortedidx[1:numtop]] # elite selection\n",
    "    @show best_particles\n",
    "    \n",
    "    best_p_mat = pvec_to_pmat(best_particles)\n",
    "    @show best_p_mat\n",
    "    p_distribution = fit(MvNormal,best_p_mat) # fit distb using elites\n",
    "    new_p_matrix = rand(p_distribution,num_p) # sample num_p new particles from distb\n",
    "\n",
    "    return new_p_matrix, p_distribution\n",
    "end"
   ]
  },
  {
   "cell_type": "code",
   "execution_count": 216,
   "metadata": {},
   "outputs": [
    {
     "name": "stdout",
     "output_type": "stream",
     "text": [
      "particle_vector = Dict{Symbol,Float64}[Dict(:v_des=>25.0,:σ=>0.2), Dict(:v_des=>23.0,:σ=>0.1), Dict(:v_des=>22.0,:σ=>0.5), Dict(:v_des=>27.0,:σ=>0.7), Dict(:v_des=>27.0,:σ=>0.2), Dict(:v_des=>19.0,:σ=>0.3), Dict(:v_des=>17.0,:σ=>0.8), Dict(:v_des=>28.0,:σ=>0.9), Dict(:v_des=>31.0,:σ=>0.5), Dict(:v_des=>33.0,:σ=>0.8)]\n",
      "p_init_mat = [25.0 23.0 22.0 27.0 27.0 19.0 17.0 28.0 31.0 33.0; 0.2 0.1 0.5 0.7 0.2 0.3 0.8 0.9 0.5 0.8]\n",
      "distb = FullNormal(\n",
      "dim: 2\n",
      "μ: [25.2, 0.5]\n",
      "Σ: [22.96 0.3; 0.3 0.076]\n",
      ")\n",
      "\n",
      "best_particles = Dict{Symbol,Float64}[Dict(:v_des=>25.0,:σ=>0.2), Dict(:v_des=>27.0,:σ=>0.2), Dict(:v_des=>27.0,:σ=>0.7), Dict(:v_des=>28.0,:σ=>0.9), Dict(:v_des=>31.0,:σ=>0.5)]\n",
      "best_p_mat = [25.0 27.0 27.0 28.0 31.0; 0.2 0.2 0.7 0.9 0.5]\n",
      "p_dist = FullNormal(\n",
      "dim: 2\n",
      "μ: [27.6, 0.5]\n",
      "Σ: [3.84 0.2; 0.2 0.076]\n",
      ")\n",
      "\n"
     ]
    },
    {
     "data": {
      "text/plain": [
       "FullNormal(\n",
       "dim: 2\n",
       "μ: [27.6, 0.5]\n",
       "Σ: [3.84 0.2; 0.2 0.076]\n",
       ")\n"
      ]
     },
     "execution_count": 216,
     "metadata": {},
     "output_type": "execute_result"
    }
   ],
   "source": [
    "p1 = Dict(:v_des=>25.0,:σ=>0.2)\n",
    "p2 = Dict(:v_des=>23.0,:σ=>0.1)\n",
    "p3 = Dict(:v_des=>22.0,:σ=>0.5)\n",
    "p4 = Dict(:v_des=>27.0,:σ=>0.7)\n",
    "p5 = Dict(:v_des=>27.0,:σ=>0.2)\n",
    "p6 = Dict(:v_des=>19.0,:σ=>0.3)\n",
    "p7 = Dict(:v_des=>17.0,:σ=>0.8)\n",
    "p8 = Dict(:v_des=>28.0,:σ=>0.9)\n",
    "p9 = Dict(:v_des=>31.0,:σ=>0.5)\n",
    "p10 = Dict(:v_des=>33.0,:σ=>0.8)\n",
    "\n",
    "particle_vector = [p1;p2;p3;p4;p5;p6;p7;p8;p9;p10]\n",
    "@show particle_vector\n",
    "\n",
    "# Generate ground truth trajectory\n",
    "pos_ground_truth,rec_ground_truth = gen_traj_dict(Dict(:v_des=>25.0,:σ=>0))\n",
    "\n",
    "p_init_mat = pvec_to_pmat(particle_vector)\n",
    "@show p_init_mat\n",
    "distb = fit(MvNormal,pvec_to_pmat(particle_vector))\n",
    "@show distb\n",
    "\n",
    "# Generate new particles\n",
    "p_old = particle_vector\n",
    "p_dist = []  # TODO: Is this empty init fine for a distribution\n",
    "# @show p_old\n",
    "for i in 1:1\n",
    "    if i%10==0 @show i end\n",
    "    p_new, p_dist = new_p_from_old_dict(p_old,rec_ground_truth,pos_ground_truth,elite_fraction_percent=50)\n",
    "    p_old = p_new\n",
    "end\n",
    "@show p_dist"
   ]
  },
  {
   "cell_type": "code",
   "execution_count": 234,
   "metadata": {},
   "outputs": [
    {
     "data": {
      "text/plain": [
       "pvec_to_pmat"
      ]
     },
     "execution_count": 234,
     "metadata": {},
     "output_type": "execute_result"
    }
   ],
   "source": [
    "\"\"\"\n",
    "pvec_to_pmat: Convert array of dictionaries into matrix form to be able to fit distb\n",
    "\n",
    "Is helper for:\n",
    "cem method using particles\n",
    "\n",
    "Arguments:\n",
    "-`particle_vector` Array with num_particle elements. Each element is a dict with keys as param names and associated val\n",
    "\n",
    "Returns:\n",
    "-`p_mat` Matrix with num_particle columns and num_params rows\n",
    "\n",
    "Usage:\n",
    "p1 = Dict(:v_des=>25.0,:σ=>0.4)\n",
    "p2 = Dict(:v_des=>23.0,:σ=>0.7)\n",
    "p3 = Dict(:v_des=>22.0,:σ=>0)\n",
    "p4 = Dict(:v_des=>27.0,:σ=>0)\n",
    "p5 = Dict(:v_des=>27.0,:σ=>0)\n",
    "p6 = Dict(:v_des=>19.0,:σ=>0)\n",
    "p7 = Dict(:v_des=>17.0,:σ=>0)\n",
    "p8 = Dict(:v_des=>28.0,:σ=>0.1)\n",
    "p9 = Dict(:v_des=>31.0,:σ=>0)\n",
    "p10 = Dict(:v_des=>33.0,:σ=>0.8)\n",
    "\n",
    "particle_vector = [p1;p2;p3;p4;p5;p6;p7;p8;p9;p10]\n",
    "\n",
    "p_mat,params = pvec_to_pmat(particle_vector)\n",
    "\n",
    "Expected output\n",
    "2×10 Array{Float64,2}:\n",
    " 25.0  23.0  22.0  27.0  27.0  19.0  17.0  28.0  31.0  33.0\n",
    "  0.4   0.7   0.0   0.0   0.0   0.0   0.0   0.1   0.0   0.8\n",
    "\"\"\"\n",
    "function pvec_to_pmat(particle_vector)\n",
    "    p1 = particle_vector[1]\n",
    "    num_params=0\n",
    "    params = []\n",
    "    for i in keys(p1)\n",
    "        num_params+=1\n",
    "        @show i\n",
    "        append(params,i)\n",
    "    end\n",
    "    @show params\n",
    "    p_mat = zeros(num_params,length(particle_vector))\n",
    "\n",
    "    for i in 1:length(particle_vector)\n",
    "        p_dict = particle_vector[i]\n",
    "    #     for (jj,kv) in enumerate(p_dict)\n",
    "    #         @show jj,kv\n",
    "    #     end\n",
    "        for (jj,v) in enumerate(values(p_dict))\n",
    "            p_mat[jj,i] = v\n",
    "        end\n",
    "    end\n",
    "    return p_mat, params\n",
    "end"
   ]
  },
  {
   "cell_type": "code",
   "execution_count": 235,
   "metadata": {},
   "outputs": [
    {
     "name": "stdout",
     "output_type": "stream",
     "text": [
      "particle_vector = Dict{Symbol,V} where V[Dict(:v_des=>25.0,:σ=>0.4), Dict(:v_des=>23.0,:σ=>0.7), Dict{Symbol,Any}(Pair{Symbol,Any}(:v_des, 22.0),Pair{Symbol,Any}(:σ, 0)), Dict{Symbol,Any}(Pair{Symbol,Any}(:v_des, 27.0),Pair{Symbol,Any}(:σ, 0)), Dict{Symbol,Any}(Pair{Symbol,Any}(:v_des, 27.0),Pair{Symbol,Any}(:σ, 0)), Dict{Symbol,Any}(Pair{Symbol,Any}(:v_des, 19.0),Pair{Symbol,Any}(:σ, 0)), Dict{Symbol,Any}(Pair{Symbol,Any}(:v_des, 17.0),Pair{Symbol,Any}(:σ, 0)), Dict(:v_des=>28.0,:σ=>0.1), Dict{Symbol,Any}(Pair{Symbol,Any}(:v_des, 31.0),Pair{Symbol,Any}(:σ, 0)), Dict(:v_des=>33.0,:σ=>0.8)]\n"
     ]
    },
    {
     "ename": "LoadError",
     "evalue": "\u001b[91mMethodError: objects of type Base.KeyIterator{Dict{Symbol,Float64}} are not callable\u001b[39m",
     "output_type": "error",
     "traceback": [
      "\u001b[91mMethodError: objects of type Base.KeyIterator{Dict{Symbol,Float64}} are not callable\u001b[39m",
      "",
      "Stacktrace:",
      " [1] \u001b[1mpvec_to_pmat\u001b[22m\u001b[22m\u001b[1m(\u001b[22m\u001b[22m::Array{Dict{Symbol,V} where V,1}\u001b[1m)\u001b[22m\u001b[22m at \u001b[1m./In[234]:38\u001b[22m\u001b[22m",
      " [2] \u001b[1minclude_string\u001b[22m\u001b[22m\u001b[1m(\u001b[22m\u001b[22m::String, ::String\u001b[1m)\u001b[22m\u001b[22m at \u001b[1m./loading.jl:522\u001b[22m\u001b[22m",
      " [3] \u001b[1mexecute_request\u001b[22m\u001b[22m\u001b[1m(\u001b[22m\u001b[22m::ZMQ.Socket, ::IJulia.Msg\u001b[1m)\u001b[22m\u001b[22m at \u001b[1m/home/raunak/.julia/v0.6/IJulia/src/execute_request.jl:193\u001b[22m\u001b[22m",
      " [4] \u001b[1m(::Compat.#inner#6{Array{Any,1},IJulia.#execute_request,Tuple{ZMQ.Socket,IJulia.Msg}})\u001b[22m\u001b[22m\u001b[1m(\u001b[22m\u001b[22m\u001b[1m)\u001b[22m\u001b[22m at \u001b[1m/home/raunak/.julia/v0.6/Compat/src/Compat.jl:189\u001b[22m\u001b[22m",
      " [5] \u001b[1meventloop\u001b[22m\u001b[22m\u001b[1m(\u001b[22m\u001b[22m::ZMQ.Socket\u001b[1m)\u001b[22m\u001b[22m at \u001b[1m/home/raunak/.julia/v0.6/IJulia/src/eventloop.jl:8\u001b[22m\u001b[22m",
      " [6] \u001b[1m(::IJulia.##13#16)\u001b[22m\u001b[22m\u001b[1m(\u001b[22m\u001b[22m\u001b[1m)\u001b[22m\u001b[22m at \u001b[1m./task.jl:335\u001b[22m\u001b[22m"
     ]
    }
   ],
   "source": [
    "p1 = Dict(:v_des=>25.0,:σ=>0.4)\n",
    "p2 = Dict(:v_des=>23.0,:σ=>0.7)\n",
    "p3 = Dict(:v_des=>22.0,:σ=>0)\n",
    "p4 = Dict(:v_des=>27.0,:σ=>0)\n",
    "p5 = Dict(:v_des=>27.0,:σ=>0)\n",
    "p6 = Dict(:v_des=>19.0,:σ=>0)\n",
    "p7 = Dict(:v_des=>17.0,:σ=>0)\n",
    "p8 = Dict(:v_des=>28.0,:σ=>0.1)\n",
    "p9 = Dict(:v_des=>31.0,:σ=>0)\n",
    "p10 = Dict(:v_des=>33.0,:σ=>0.8)\n",
    "\n",
    "particle_vector = [p1;p2;p3;p4;p5;p6;p7;p8;p9;p10]\n",
    "@show particle_vector\n",
    "p_mat,params = pvec_to_pmat(particle_vector)"
   ]
  },
  {
   "cell_type": "code",
   "execution_count": 11,
   "metadata": {},
   "outputs": [
    {
     "name": "stdout",
     "output_type": "stream",
     "text": [
      "distb = FullNormal(\n",
      "dim: 2\n",
      "μ: [29.871, 0.5454]\n",
      "Σ: [134.24 0.158657; 0.158657 0.0871188]\n",
      ")\n",
      "\n",
      "i = 10\n",
      "i = 20\n",
      "p_dist = FullNormal(\n",
      "dim: 2\n",
      "μ: [24.6889, 0.32181]\n",
      "Σ: [0.00923274 0.000123551; 0.000123551 0.00011606]\n",
      ")\n",
      "\n"
     ]
    },
    {
     "data": {
      "text/plain": [
       "FullNormal(\n",
       "dim: 2\n",
       "μ: [24.6889, 0.32181]\n",
       "Σ: [0.00923274 0.000123551; 0.000123551 0.00011606]\n",
       ")\n"
      ]
     },
     "execution_count": 11,
     "metadata": {},
     "output_type": "execute_result"
    }
   ],
   "source": [
    "# TEST THE CEM PF APPROACH\n",
    "# Generate particles\n",
    "num_p = 1000\n",
    "# start:step:end and number of particles are the inputs to sample\n",
    "v_particles = sample(10.0:1.0:50.0,num_p)\n",
    "sig_particles = sample(0.1:0.1:1.0,num_p)\n",
    "\n",
    "# Arrange the particles as follows\n",
    "    # Every column is a different particle\n",
    "    # Row 1 has v_des and row 2 has sigma\n",
    "init_particles = vcat(v_particles',sig_particles')\n",
    "# @show init_particles\n",
    "distb = fit(MvNormal,init_particles)\n",
    "@show distb\n",
    "\n",
    "# Generate ground truth trajectory\n",
    "pos_ground_truth,rec_ground_truth = gen_traj([25.0 0.6])\n",
    "\n",
    "# Generate new particles\n",
    "p_old = init_particles\n",
    "p_dist = []  # TODO: Is this empty init fine for a distribution\n",
    "# @show p_old\n",
    "for i in 1:20\n",
    "    if i%10==0 @show i end\n",
    "    p_new, p_dist = new_p_from_old(p_old,num_p,rec_ground_truth,pos_ground_truth,elite_fraction_percent=20)\n",
    "    p_old = p_new\n",
    "end\n",
    "@show p_dist"
   ]
  },
  {
   "cell_type": "code",
   "execution_count": 64,
   "metadata": {},
   "outputs": [
    {
     "name": "stdout",
     "output_type": "stream",
     "text": [
      "old_p_mat[:, 1:5] = [25.0 25.0 25.0 25.0 25.0; 0.1 0.1 0.1 0.1 0.1]\n"
     ]
    },
    {
     "data": {
      "text/plain": [
       "2×5 Array{Float64,2}:\n",
       " 25.0  25.0  25.0  25.0  25.0\n",
       "  0.1   0.1   0.1   0.1   0.1"
      ]
     },
     "execution_count": 64,
     "metadata": {},
     "output_type": "execute_result"
    }
   ],
   "source": [
    "# TEST THE PARTICLE FILTER APPROACH\n",
    "# Generate particles\n",
    "num_p = 1000\n",
    "# start:step:end and number of particles are the inputs to sample\n",
    "v_particles = sample(10.0:1.0:30.0,num_p)\n",
    "sig_particles = sample(0.1:0.1:1.0,num_p)\n",
    "\n",
    "# Arrange the particles as follows\n",
    "    # Every column is a different particle\n",
    "    # Row 1 has v_des and row 2 has sigma\n",
    "init_particles = vcat(v_particles',sig_particles')\n",
    "# @show init_particles\n",
    "\n",
    "# Generate ground truth trajectory\n",
    "pos_ground_truth,rec_ground_truth = gen_traj([25.0 0.2])\n",
    "\n",
    "pf_traj(init_particles,rec_ground_truth,pos_ground_truth)"
   ]
  },
  {
   "cell_type": "markdown",
   "metadata": {},
   "source": [
    "# Visualize"
   ]
  },
  {
   "cell_type": "code",
   "execution_count": null,
   "metadata": {},
   "outputs": [],
   "source": [
    "# Function: Return rec corresponding to generated traj\n",
    "    # Will help visualizatoin\n",
    "    # Calls init_scene\n",
    "# Might be useful later\n",
    "    # models[2] = IntelligentDriverModel(v_des=particle[1],s_min=particle[2],T=particle[3])\n",
    "function gen_rec4vid(particle;nticks=100,timestep=0.1)\n",
    "    scene = init_scene()\n",
    "    models = Dict{Int, LaneFollowingDriver}()\n",
    "    models[1] = IntelligentDriverModel(v_des=particle[1],σ = particle[2])\n",
    "    models[2] = IntelligentDriverModel(v_des=12.0)\n",
    "\n",
    "    # Simulate for nticks (default 100) time steps\n",
    "    timestep = 0.1\n",
    "    rec = QueueRecord(Vehicle1D, nticks+1, timestep)\n",
    "    simulate!(LaneFollowingAccel, rec, scene, roadway, models, nticks)\n",
    "\n",
    "    return rec\n",
    "end"
   ]
  },
  {
   "cell_type": "code",
   "execution_count": null,
   "metadata": {},
   "outputs": [],
   "source": [
    "# overlays = [TextOverlay(text=[\"$(veh.id)\"], incameraframe=true,\n",
    "#         pos=VecE2(veh.state.s-0.7, 3)) for veh in scene];\n",
    "# render(scene, roadway, overlays, cam=cam, canvas_height=100)\n",
    "\n",
    "cam = StaticCamera(VecE2(100.0,0.0), 4.75)\n",
    "true_rec = gen_rec4vid([20.0 0.1],nticks=100)\n",
    "rec = true_rec\n",
    "@manipulate for frame_index in 1 : nframes(rec)\n",
    "    render(rec[frame_index-nframes(rec)], roadway, cam=cam, canvas_height=100)\n",
    "end"
   ]
  },
  {
   "cell_type": "markdown",
   "metadata": {},
   "source": [
    "# LEARNING AND EXPERIMENTATION"
   ]
  },
  {
   "cell_type": "code",
   "execution_count": null,
   "metadata": {},
   "outputs": [],
   "source": [
    "# LEARNING ABOUT MULTIDIM DISTB\n",
    "# Test: Generate samples for a 2d distb\n",
    "d2 = MvNormal(2,2.0) # first arg shows dimension, second shows std dev\n",
    "qw = rand(d2,6) # Will generate 6 samples i.e. 6 columns\n",
    "\n",
    "# Test: Fit 2d distribution\n",
    "dx = Normal()\n",
    "dy = Normal(2,1.0)\n",
    "x = rand(dx,100)\n",
    "y = rand(dy,100)\n",
    "\n",
    "# Matrix with each column being a sample\n",
    "# Total columns is total number of samples\n",
    "# Total rows is number of parameters\n",
    "# All entries in a row contain value from same param eg:v_des\n",
    "data_matrix = vcat(x',y')\n",
    "fit(MvNormal,data_matrix)"
   ]
  },
  {
   "cell_type": "code",
   "execution_count": null,
   "metadata": {},
   "outputs": [],
   "source": [
    "using PyPlot"
   ]
  },
  {
   "cell_type": "code",
   "execution_count": null,
   "metadata": {},
   "outputs": [],
   "source": [
    "num_samples = 2000\n",
    "y1 = rand(Normal(10.0,5.0),num_samples)\n",
    "y2 = rand(Normal(2.0,1.0),num_samples)\n",
    "plot(1:num_samples,y1)\n",
    "plot(1:num_samples,y2)"
   ]
  },
  {
   "cell_type": "code",
   "execution_count": null,
   "metadata": {},
   "outputs": [],
   "source": [
    "using StatPlots"
   ]
  },
  {
   "cell_type": "code",
   "execution_count": null,
   "metadata": {},
   "outputs": [],
   "source": [
    "StatPlots.plot(Normal(3,5),linewidth=4,size=(2500,2500))"
   ]
  },
  {
   "cell_type": "code",
   "execution_count": null,
   "metadata": {},
   "outputs": [],
   "source": [
    "roadway = gen_straight_roadway(2,1000.0);"
   ]
  },
  {
   "cell_type": "code",
   "execution_count": null,
   "metadata": {},
   "outputs": [],
   "source": [
    "scene = Scene1D()\n",
    "push!(scene, Entity(State1D(10.0,  8.0), VehicleDef(), 1))\n",
    "push!(scene, Entity(State1D(50.0, 12.5), VehicleDef(), 2))\n",
    "\n",
    "cam = StaticCamera(VecE2(100.0,0.0), 4.75)\n",
    "overlays = [TextOverlay(text=[\"$(veh.id)\"], incameraframe=true, pos=VecE2(veh.state.s-0.7, 3)) for veh in scene]\n",
    "render(scene, roadway, overlays, cam=cam, canvas_height=100)"
   ]
  },
  {
   "cell_type": "code",
   "execution_count": null,
   "metadata": {},
   "outputs": [],
   "source": [
    "models = Dict{Int64, DriverModel}()\n",
    "models[1] = Tim2DDriver(0.1) # always produce zero acceleration\n",
    "models[2] = Tim2DDriver(0.1) # default IDM with a desired speed of 12 m/s\n",
    "\n",
    "nticks = 100\n",
    "timestep = 0.1\n",
    "rec = QueueRecord(Vehicle1D, nticks+1, timestep)\n",
    "simulate!(rec, scene, roadway, models, nticks)"
   ]
  },
  {
   "cell_type": "code",
   "execution_count": null,
   "metadata": {},
   "outputs": [],
   "source": [
    "using Base.Test\n",
    "@test 1==1\n",
    "@test 1==0"
   ]
  }
 ],
 "metadata": {
  "kernelspec": {
   "display_name": "Julia 0.6.2",
   "language": "julia",
   "name": "julia-0.6"
  },
  "language_info": {
   "file_extension": ".jl",
   "mimetype": "application/julia",
   "name": "julia",
   "version": "0.6.2"
  }
 },
 "nbformat": 4,
 "nbformat_minor": 2
}
