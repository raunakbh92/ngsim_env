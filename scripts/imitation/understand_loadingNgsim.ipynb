{
 "cells": [
  {
   "cell_type": "markdown",
   "metadata": {},
   "source": [
    "- Written by Raunak on Sept 12 2018 to understand the role of `load_x_feature_names` and `load_data` in `ngsim_env/scripts/imitation/utils.py` especially in connection with the trajectories extracted using `ngsim_env/scripts/extract_ngsim_demonstrations.jl`\n",
    "- A separate notebook called `understand_extractingNgsimFeatures.ipynb` exists in `ngsim_env/scripts` which goes over how the extraction happens"
   ]
  },
  {
   "cell_type": "code",
   "execution_count": 3,
   "metadata": {},
   "outputs": [],
   "source": [
    "%matplotlib inline\n",
    "\n",
    "import collections\n",
    "import matplotlib.pyplot as plt\n",
    "import numpy as np \n",
    "import os\n",
    "from scipy.stats import gaussian_kde\n",
    "from scipy.stats import entropy\n",
    "\n",
    "import hgail.misc.utils\n",
    "\n",
    "import utils\n",
    "import visualize_utils\n",
    "\n",
    "from copy import deepcopy"
   ]
  },
  {
   "cell_type": "code",
   "execution_count": 6,
   "metadata": {},
   "outputs": [
    {
     "name": "stdout",
     "output_type": "stream",
     "text": [
      "i =  1\n",
      "type(xs) =  <class 'list'>\n",
      "len(xs) =  1\n",
      "type(xs[0] =  <class 'h5py._hl.dataset.Dataset'>\n",
      "xs[0].shape =  (2150, 2286, 67)\n"
     ]
    }
   ],
   "source": [
    "expert_filepath = '../../data/trajectories/ngsim_addLaneID.h5'\n",
    "\n",
    "expert = utils.load_data(\n",
    "        expert_filepath, \n",
    "        min_length=250, \n",
    "        normalize_data=False, \n",
    "        clip_std_multiple=10.\n",
    "    )"
   ]
  },
  {
   "cell_type": "code",
   "execution_count": null,
   "metadata": {},
   "outputs": [],
   "source": []
  }
 ],
 "metadata": {
  "kernelspec": {
   "display_name": "Python 2",
   "language": "python",
   "name": "python2"
  },
  "language_info": {
   "codemirror_mode": {
    "name": "ipython",
    "version": 3
   },
   "file_extension": ".py",
   "mimetype": "text/x-python",
   "name": "python",
   "nbconvert_exporter": "python",
   "pygments_lexer": "ipython3",
   "version": "3.5.2"
  }
 },
 "nbformat": 4,
 "nbformat_minor": 2
}
