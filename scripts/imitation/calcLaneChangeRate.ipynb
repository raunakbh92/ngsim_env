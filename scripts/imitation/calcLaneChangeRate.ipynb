{
 "cells": [
  {
   "cell_type": "markdown",
   "metadata": {},
   "source": [
    "- Written on 7 September 2018 by Raunak\n",
    "- The input trajectories to this file need to have `laneNum` as one of the attributes of the dictionary containing the actual data in the traj_lab_dict data structure"
   ]
  },
  {
   "cell_type": "code",
   "execution_count": 1,
   "metadata": {},
   "outputs": [],
   "source": [
    "%matplotlib inline\n",
    "\n",
    "import collections\n",
    "import matplotlib.pyplot as plt\n",
    "import numpy as np\n",
    "import os\n",
    "from scipy.stats import gaussian_kde\n",
    "from scipy.stats import entropy\n",
    "\n",
    "import hgail.misc.utils\n",
    "\n",
    "import utils\n",
    "import visualize_utils\n",
    "\n",
    "from copy import deepcopy"
   ]
  },
  {
   "cell_type": "code",
   "execution_count": 2,
   "metadata": {},
   "outputs": [],
   "source": [
    "def filename2label(fn):\n",
    "    s = fn.find('-') + 1\n",
    "    e = fn.find('.')\n",
    "    return fn[s:e]"
   ]
  },
  {
   "cell_type": "code",
   "execution_count": 3,
   "metadata": {},
   "outputs": [],
   "source": [
    "filenames = [i for i in utils.NGSIM_FILENAME_TO_ID.keys() if '101' in i]"
   ]
  },
  {
   "cell_type": "code",
   "execution_count": 4,
   "metadata": {},
   "outputs": [
    {
     "name": "stdout",
     "output_type": "stream",
     "text": [
      "fn: trajdata_i101_trajectories-0820am-0835am.txt t: 0820am-0835am\n",
      "fn: trajdata_i101_trajectories-0805am-0820am.txt t: 0805am-0820am\n",
      "fn: trajdata_i101_trajectories-0750am-0805am.txt t: 0750am-0805am\n"
     ]
    }
   ],
   "source": [
    "expert_filepath = '../../data/trajectories/ngsim_addLaneID.h5'\n",
    "\n",
    "expert = dict()\n",
    "for fn in filenames:\n",
    "    t = filename2label(fn)\n",
    "    print(\"fn:\", fn, \"t:\", t)\n",
    "    expert[t] = utils.load_data(\n",
    "        expert_filepath, \n",
    "        min_length=250, \n",
    "        normalize_data=False, \n",
    "        clip_std_multiple=10.,\n",
    "        ngsim_filename=fn\n",
    "    )"
   ]
  },
  {
   "cell_type": "code",
   "execution_count": 15,
   "metadata": {},
   "outputs": [
    {
     "name": "stdout",
     "output_type": "stream",
     "text": [
      "dict_keys(['0820am-0835am', '0805am-0820am', '0750am-0805am'])\n",
      "<class 'dict'>\n",
      "dict_keys(['obs_mean', 'obs_std', 'observations', 'actions'])\n",
      "<class 'numpy.ndarray'>\n",
      "(1109861, 67)\n",
      "2.0\n"
     ]
    }
   ],
   "source": [
    "# Detective work on the expert stuff loaded in using utils.load_data\n",
    "print(expert.keys())\n",
    "print(type(expert['0750am-0805am']))\n",
    "print(expert['0750am-0805am'].keys())\n",
    "print(type(expert['0750am-0805am']['observations']))\n",
    "print(expert['0750am-0805am']['observations'].shape)\n",
    "print(expert['0750am-0805am']['observations'][124556][0])"
   ]
  },
  {
   "cell_type": "code",
   "execution_count": 5,
   "metadata": {},
   "outputs": [],
   "source": [
    "x, names = utils.load_x_feature_names(\n",
    "    expert_filepath, 'trajdata_i101_trajectories-0750am-0805am.txt')"
   ]
  },
  {
   "cell_type": "code",
   "execution_count": 7,
   "metadata": {},
   "outputs": [],
   "source": [
    "observation_indexes = dict([(names[i], i) for i in range(len(names))])"
   ]
  },
  {
   "cell_type": "code",
   "execution_count": 9,
   "metadata": {},
   "outputs": [
    {
     "name": "stdout",
     "output_type": "stream",
     "text": [
      "<class 'numpy.ndarray'>\n",
      "(2150, 2286, 67)\n",
      "0.0\n",
      "['laneid' 'relative_offset' 'relative_heading' 'velocity' 'length' 'width'\n",
      " 'lane_curvature' 'markerdist_left' 'markerdist_right' 'accel' 'jerk'\n",
      " 'turn_rate_global' 'angular_rate_global' 'turn_rate_frenet'\n",
      " 'angular_rate_frenet' 'timegap' 'timegap_is_avail' 'time_to_collision'\n",
      " 'time_to_collision_is_avail' 'is_colliding' 'out_of_lane'\n",
      " 'negative_velocity' 'distance_road_edge_left' 'distance_road_edge_right'\n",
      " 'lidar_1' 'lidar_2' 'lidar_3' 'lidar_4' 'lidar_5' 'lidar_6' 'lidar_7'\n",
      " 'lidar_8' 'lidar_9' 'lidar_10' 'lidar_11' 'lidar_12' 'lidar_13' 'lidar_14'\n",
      " 'lidar_15' 'lidar_16' 'lidar_17' 'lidar_18' 'lidar_19' 'lidar_20'\n",
      " 'rangerate_lidar_1' 'rangerate_lidar_2' 'rangerate_lidar_3'\n",
      " 'rangerate_lidar_4' 'rangerate_lidar_5' 'rangerate_lidar_6'\n",
      " 'rangerate_lidar_7' 'rangerate_lidar_8' 'rangerate_lidar_9'\n",
      " 'rangerate_lidar_10' 'rangerate_lidar_11' 'rangerate_lidar_12'\n",
      " 'rangerate_lidar_13' 'rangerate_lidar_14' 'rangerate_lidar_15'\n",
      " 'rangerate_lidar_16' 'rangerate_lidar_17' 'rangerate_lidar_18'\n",
      " 'rangerate_lidar_19' 'rangerate_lidar_20' 'fore_fore_dist'\n",
      " 'fore_fore_relative_vel' 'fore_fore_accel']\n",
      "19\n"
     ]
    }
   ],
   "source": [
    "# Detective work on the expert stuff loaded in through \n",
    "# load_x_feature_names\n",
    "#print(names)\n",
    "print(type(x))\n",
    "print(x.shape) # The shape obtained from utils.load_x_feature_names\n",
    "print(x[0][2200][0])\n",
    "print(names)\n",
    "print(observation_indexes['is_colliding'])"
   ]
  },
  {
   "cell_type": "code",
   "execution_count": 78,
   "metadata": {},
   "outputs": [
    {
     "name": "stdout",
     "output_type": "stream",
     "text": [
      "(2150, 2286)\n"
     ]
    }
   ],
   "source": [
    "# Suppress scientific painful notation in printing\n",
    "np.set_printoptions(suppress=True)\n",
    "#print(names)\n",
    "#print(x[2000,271,:])\n",
    "print(x[:,:,0].shape)"
   ]
  },
  {
   "cell_type": "code",
   "execution_count": 15,
   "metadata": {},
   "outputs": [],
   "source": [
    "# Copied over from emergent metrics code. The function to calculate emergent stuff\n",
    "def calc_offroad(traj):\n",
    "    return float(len(traj['observations'][:,observation_indexes['out_of_lane']][\n",
    "        np.where(np.isclose(traj['observations'][:,observation_indexes['out_of_lane']],1))\n",
    "    ]))/ float(len(traj['observations']))\n",
    "\n",
    "# in case we want to use a different threshold for whatever reason\n",
    "def calc_offroad_manual(traj, thresh = -1.0): \n",
    "    num_offroad = float(len(traj['observations'][:,0][\n",
    "        np.where(np.minimum(\n",
    "            traj['observations'][:,observation_indexes['distance_road_edge_left']], \\\n",
    "            traj['observations'][:,observation_indexes['distance_road_edge_right']]) <= thresh)\n",
    "        ]))\n",
    "    return num_offroad / float(len(traj['observations']))\n",
    "\n",
    "def calc_hard_brake(traj, thresh = -3.0):\n",
    "    #traj should be unnormalized\n",
    "    return float(len(traj['observations'][:,observation_indexes['accel']][np.where(\\\n",
    "                traj['observations'][:,observation_indexes['accel']] <= thresh)])) \\\n",
    "                / float(len(traj['actions']))\n",
    "\n",
    "def calc_collisions(traj, expert=True, H=200, nveh=100, verbose = True):\n",
    "    if expert:\n",
    "        if verbose:\n",
    "            print(\"shape = \",traj['observations'].shape)\n",
    "            print(\"shape of is_colliding column = \",\\\n",
    "                  traj['observations'][:,observation_indexes['is_colliding']].shape)\n",
    "            print(\"len(traj[obs]) = \",len(traj['observations']))\n",
    "        return float(len(traj['observations'][:,observation_indexes['is_colliding']][\n",
    "            np.where(np.isclose(traj['observations'][:,observation_indexes['is_colliding']],1))\n",
    "        ]))/ float(len(traj['observations']))\n",
    "    else:\n",
    "        a = np.reshape(\n",
    "            traj['observations'][:,observation_indexes['is_colliding']], (H, nveh))[:50,:]\n",
    "        return np.mean(np.any(np.isclose(a, 1.0), axis=1))"
   ]
  },
  {
   "cell_type": "code",
   "execution_count": 16,
   "metadata": {},
   "outputs": [
    {
     "name": "stdout",
     "output_type": "stream",
     "text": [
      "shape =  (1109861, 67)\n",
      "shape of is_colliding column =  (1109861,)\n",
      "len(traj[obs]) =  1109861\n"
     ]
    },
    {
     "data": {
      "text/plain": [
       "0.0021444126787048107"
      ]
     },
     "execution_count": 16,
     "metadata": {},
     "output_type": "execute_result"
    }
   ],
   "source": [
    "calc_collisions(expert['0750am-0805am'])"
   ]
  },
  {
   "cell_type": "code",
   "execution_count": 20,
   "metadata": {},
   "outputs": [
    {
     "name": "stdout",
     "output_type": "stream",
     "text": [
      "dict_keys(['observations', 'obs_std', 'actions', 'obs_mean'])\n",
      "(1109861,)\n",
      "[ 1.  1.  1.  1.  1.  1.  1.  1.  1.  1.  1.  1.  1.  1.  1.  1.  1.  1.\n",
      "  1.  1.  1.  1.  1.  1.  1.  1.  1.  1.  1.  1.  1.  1.  1.  1.  1.  1.\n",
      "  1.  1.  1.  1.  1.  1.  1.  1.  1.  1.  1.  1.  1.  1.  1.  1.  1.  1.\n",
      "  1.  1.  1.  1.  1.  1.  1.  1.  1.  1.  1.  1.  1.  1.  1.  1.  1.  1.\n",
      "  1.  1.  1.  1.  1.  1.  1.  1.  1.  1.  1.  1.  1.  1.  1.  1.  1.  1.\n",
      "  1.  1.  1.  1.  1.  1.  1.  1.  1.  1.  1.  1.  1.  1.  1.  1.  1.  1.\n",
      "  1.  1.  1.  1.  1.  2.  2.  2.  2.  2.  2.  2.  2.  2.  2.  2.  2.  2.\n",
      "  2.  2.  2.  2.  2.  2.  2.  2.  2.  2.  2.  2.  1.  1.  1.  1.  1.  1.\n",
      "  1.  1.  1.  1.  1.  1.  1.  1.  1.  1.  1.  1.  1.  1.  1.  1.  1.  1.\n",
      "  1.  1.  1.  1.  1.  1.  1.  1.  1.  1.  1.  1.  1.  1.  1.  1.  1.  1.\n",
      "  1.  1.  1.  1.  1.  1.  1.  1.  1.  1.  1.  1.  1.  1.  1.  1.  1.  1.\n",
      "  1.  1.  1.  1.  1.  1.  1.  1.  1.  1.  1.  1.  2.  2.  2.  2.  2.  2.\n",
      "  2.  2.  2.  2.  2.  2.  2.  2.  2.  2.  2.  2.  2.  2.  2.  2.  2.  2.\n",
      "  2.  2.  2.  2.  2.  2.  2.  2.  2.  2.  2.  2.  2.  2.  2.  2.  2.  2.\n",
      "  2.  2.  2.  2.  2.  2.  2.  2.  2.  2.  2.  2.  2.  2.  2.  2.  2.  2.\n",
      "  2.  1.  1.  1.  1.  1.  1.  1.  1.  1.  1.  1.  1.  1.  1.  1.  1.  1.\n",
      "  1.  1.  1.  1.  1.  1.  1.  1.  1.  1.  1.  1.]\n"
     ]
    }
   ],
   "source": [
    "# Let's experiment with the 'expert' gotten using load_data as opposed to that \n",
    "# gotten from load_x_feature_names\n",
    "myTraj = expert['0750am-0805am']\n",
    "print(myTraj.keys())\n",
    "print(myTraj['observations'][:,observation_indexes['laneid']].shape)\n",
    "explaneids = myTraj['observations'][:,observation_indexes['laneid']]\n",
    "print(explaneids[:300])"
   ]
  },
  {
   "cell_type": "markdown",
   "metadata": {},
   "source": [
    "## Here begins lane change stuff"
   ]
  },
  {
   "cell_type": "code",
   "execution_count": 91,
   "metadata": {},
   "outputs": [
    {
     "name": "stdout",
     "output_type": "stream",
     "text": [
      "[ 0.  0.  0.  0.  0.  0.  0.  0.  0.  0.  0.  0.  0.  0.  0.  0.  0.  0.\n",
      "  0.  0.  0.  0.  0.  0.  0.  0.  0.  0.  0.  0.  0.  0.  0.  0.  0.  0.\n",
      "  0.  0.  0.  0.  0.  0.  0.  0.  0.  0.  0.  0.  0.  0.  0.  0.  0.  0.\n",
      "  0.  0.  0.  0.  0.  0.  0.  0.  0.  0.  0.  0.  0.  0.  0.  0.  0.  0.\n",
      "  0.  0.  0.  0.  0.  0.  0.  0.  0.  0.  0.  0.  0.  0.  0.  0.  0.  0.\n",
      "  0.  0.  0.  0.  0.  0.  0.  0.  0.  0.  0.  0.  0.  0.  0.  0.  0.  0.\n",
      "  0.  0.  0.  0.  0.  0.  0.  0.  0.  0.  0.  0.  0.  0.  0.  0.  0.  0.\n",
      "  0.  0.  0.  0.  0.  0.  0.  0.  0.  0.  0.  0.  0.  0.  0.  0.  0.  0.\n",
      "  0.  0.  0.  0.  0.  0.  0.  0.  0.  0.  0.  0.  0.  0.  0.  0.  0.  0.\n",
      "  0.  0.  0.  0.  0.  0.  0.  0.  0.  0.  0.  0.  0.  0.  0.  0.  0.  0.\n",
      "  0.  0.  0.  0.  0.  0.  0.  0.  0.  0.  0.  0.  0.  0.  0.  0.  0.  0.\n",
      "  0.  0.  0.  0.  0.  0.  0.  0.  0.  0.  0.  0.  0.  0.  0.  0.  0.  0.\n",
      "  0.  0.  0.  0.  0.  0.  0.  0.  0.  0.  0.  0.  0.  0.  0.  0.  0.  0.\n",
      "  0.  0.  0.  0.  0.  0.  0.  0.  0.  0.  0.  0.  0.  0.  0.  0.  0.  0.\n",
      "  0.  0.  0.  0.  0.  0.  0.  0.  0.  0.  0.  0.  0.  0.  0.  0.  0.  0.\n",
      "  0.  0.  0.  0.  0.  0.  0.  0.  0.  0.  0.  0.  0.  0.  0.  0.]\n"
     ]
    }
   ],
   "source": [
    "# Extracting lane change rate for the ngsim data\n",
    "laneChangeNgsimData = x[:,:,0]\n",
    "print(laneChangeNgsimData[0,2000:2290])"
   ]
  },
  {
   "cell_type": "code",
   "execution_count": 92,
   "metadata": {},
   "outputs": [
    {
     "name": "stdout",
     "output_type": "stream",
     "text": [
      "4.193023255813953\n",
      "0.0018342183971189648\n"
     ]
    }
   ],
   "source": [
    "# Notice the transpose here. Looks like rows store the agent number and columns store the time\n",
    "ngsimLaneChangeRate = calcLaneChangeRateFor1Simulation(\n",
    "np.transpose(laneChangeNgsimData),n_agents = laneChangeNgsimData.shape[0],\\\n",
    "    max_steps = laneChangeNgsimData.shape[1], verbose=False)\n",
    "print(ngsimLaneChangeRate)\n",
    "\n",
    "# Dividing by number of timesteps\n",
    "print(ngsimLaneChangeRate/laneChangeNgsimData.shape[1])"
   ]
  },
  {
   "cell_type": "markdown",
   "metadata": {},
   "source": [
    "## Here begins anaysis of our trained policies"
   ]
  },
  {
   "cell_type": "code",
   "execution_count": 4,
   "metadata": {},
   "outputs": [],
   "source": [
    "# Name the policy to be analyzed\n",
    "\n",
    "model_labels = [\n",
    "    #'rails_smoothed_off_brake_1000_2_fine'\n",
    "    'multiagent_curr_1_fine'\n",
    "]\n",
    "\n",
    "n_itrs = dict([(i, 1000) for i in model_labels])\n",
    "for i in model_labels:\n",
    "    if 'fine' in i:\n",
    "        n_itrs[i] = 200"
   ]
  },
  {
   "cell_type": "code",
   "execution_count": 5,
   "metadata": {},
   "outputs": [],
   "source": [
    "# Load the policy to be analyzed\n",
    "traj_lab_dict = \\\n",
    "visualize_utils.get_trajs_dict(\n",
    "model_labels, files_to_use = \\\n",
    "[utils.NGSIM_FILENAME_TO_ID[i] - 1 for i in filenames])\n",
    "\n",
    "valdirs, params_filepaths = \\\n",
    "visualize_utils.get_val_dirs_and_params_paths_d(\n",
    "model_labels,n_itrs)"
   ]
  },
  {
   "cell_type": "code",
   "execution_count": 35,
   "metadata": {},
   "outputs": [
    {
     "name": "stdout",
     "output_type": "stream",
     "text": [
      "keys of the dictionary \n",
      " dict_keys(['is_colliding', 'rmse_vel', 'observations', 'rewards', 'is_offroad', 'rmse_pos', 'log_std', 'laneNum', 'hard_brake', 'mean', 'prev_action', 'rmse_t', 'actions'])\n"
     ]
    }
   ],
   "source": [
    "print(\"keys of the dictionary \\n\",\\\n",
    "      traj_lab_dict[model_labels[0]][0][0][0].keys())"
   ]
  },
  {
   "cell_type": "code",
   "execution_count": 6,
   "metadata": {},
   "outputs": [
    {
     "name": "stdout",
     "output_type": "stream",
     "text": [
      "lane array shape =  (200, 100)\n"
     ]
    }
   ],
   "source": [
    "meriDict = traj_lab_dict[model_labels[0]][0][0][0]\n",
    "laneInfoArray = meriDict['laneNum']\n",
    "print(\"lane array shape = \",laneInfoArray.shape)"
   ]
  },
  {
   "cell_type": "code",
   "execution_count": 9,
   "metadata": {},
   "outputs": [
    {
     "name": "stdout",
     "output_type": "stream",
     "text": [
      "3\n"
     ]
    }
   ],
   "source": [
    "# This should be 3, corresponding to the 3 time windows\n",
    "# aka 750-805, 805-810 and 810-825\n",
    "print(len(traj_lab_dict[model_labels[0]][0]))"
   ]
  },
  {
   "cell_type": "code",
   "execution_count": 10,
   "metadata": {},
   "outputs": [
    {
     "name": "stdout",
     "output_type": "stream",
     "text": [
      "100\n"
     ]
    }
   ],
   "source": [
    "# This should be 100, corresponding to the 100 sims that we run\n",
    "# within the 1st time window i.e 750-805\n",
    "print(len(traj_lab_dict[model_labels[0]][0][0]))"
   ]
  },
  {
   "cell_type": "code",
   "execution_count": 6,
   "metadata": {},
   "outputs": [],
   "source": [
    "# Let's give this list a name as it is useful\n",
    "listOfSims4TimeWindow1 = traj_lab_dict[model_labels[0]][0][0]"
   ]
  },
  {
   "cell_type": "markdown",
   "metadata": {},
   "source": [
    "## All lane changes are counted in the incrementation"
   ]
  },
  {
   "cell_type": "code",
   "execution_count": 7,
   "metadata": {},
   "outputs": [],
   "source": [
    "# Comparing two timesteps all cars in one go\n",
    "def calcLaneChangeRateFor1Simulation(dataArray,\\\n",
    "                                     n_agents = 100, max_steps = 200,\\\n",
    "                                    verbose = False):\n",
    "    prevLaneNumsVector = np.zeros(n_agents)\n",
    "    numLaneChanges = 0\n",
    "    \n",
    "    for step in range(max_steps):\n",
    "        currentLaneNumsVector = dataArray[step,:]\n",
    "        if verbose:\n",
    "            # This should be (n_agents,100)\n",
    "            print(currentLaneNumsVector.shape)\n",
    "            \n",
    "        laneChangesVector = currentLaneNumsVector - prevLaneNumsVector\n",
    "        numLaneChanges += np.count_nonzero(laneChangesVector)\n",
    "        \n",
    "        prevLaneNumsVector = currentLaneNumsVector\n",
    "    \n",
    "    # Plot the lanes at the end of the 20 second simulation\n",
    "    if verbose:\n",
    "        print(currentLaneNumsVector)\n",
    "        plt.plot(currentLaneNumsVector)\n",
    "    \n",
    "    return numLaneChanges/n_agents"
   ]
  },
  {
   "cell_type": "code",
   "execution_count": 8,
   "metadata": {},
   "outputs": [
    {
     "name": "stdout",
     "output_type": "stream",
     "text": [
      "1.89\n"
     ]
    }
   ],
   "source": [
    "# Calculation for 1 simulation\n",
    "testLaneChangeRate = calcLaneChangeRateFor1Simulation(\n",
    "listOfSims4TimeWindow1[76]['laneNum'], verbose=False)\n",
    "print(testLaneChangeRate)"
   ]
  },
  {
   "cell_type": "code",
   "execution_count": 9,
   "metadata": {},
   "outputs": [
    {
     "name": "stdout",
     "output_type": "stream",
     "text": [
      "1.9696\n",
      "0.009848\n"
     ]
    }
   ],
   "source": [
    "# Calculate lane change rate for every simulation and then average the result\n",
    "laneChangeRateArray = np.zeros(len(listOfSims4TimeWindow1))\n",
    "for i in range(len(listOfSims4TimeWindow1)):\n",
    "    laneChangeRateArray[i] = \\\n",
    "    calcLaneChangeRateFor1Simulation(listOfSims4TimeWindow1[i]['laneNum'])\n",
    "print(np.mean(laneChangeRateArray))\n",
    "\n",
    "# Dividing by the number of timesteps\n",
    "print(np.mean(laneChangeRateArray)/200)"
   ]
  },
  {
   "cell_type": "markdown",
   "metadata": {},
   "source": [
    "## At least one lane change means increment by 1"
   ]
  },
  {
   "cell_type": "code",
   "execution_count": 10,
   "metadata": {},
   "outputs": [],
   "source": [
    "# Let's try the per car logic over one whole simulation\n",
    "def calcCarWiseLaneChangeRateForOneSim(dataArray,\\\n",
    "                                     n_agents = 100, max_steps = 200,\\\n",
    "                                    verbose = False):\n",
    "    \n",
    "    if verbose:\n",
    "        print(\"Number of cars = \",dataArray.shape[1])\n",
    "    \n",
    "    # Assume all cars have not changed lane to start with\n",
    "    carHasChangedLane = np.zeros(dataArray.shape[1])\n",
    "    \n",
    "    \n",
    "    # Iterate over all the columns of the data array\n",
    "    # aka all the cars one by one\n",
    "    for i in range(dataArray.shape[1]):\n",
    "        # Compare all elements of that column i.e. lane id in all\n",
    "        # timesteps to the top column i.e lane id in 1st timestep\n",
    "        # If they are not all equal, then the car i has at least one\n",
    "        # lane change so increment lane change counter by 1\n",
    "        # i.e. this particular car has changed lane once in the\n",
    "        # 20 second time window under consideration\n",
    "        if not(\n",
    "            np.all(np.isclose(dataArray[:,i],dataArray[0,i]))):\n",
    "            \n",
    "            carHasChangedLane[i] = 1\n",
    "    \n",
    "    numCarsThatHaveChangedLanes = np.sum(carHasChangedLane)\n",
    "    return numCarsThatHaveChangedLanes/n_agents"
   ]
  },
  {
   "cell_type": "code",
   "execution_count": 11,
   "metadata": {},
   "outputs": [
    {
     "name": "stdout",
     "output_type": "stream",
     "text": [
      "Number of cars =  100\n",
      "0.57\n"
     ]
    }
   ],
   "source": [
    "testLaneChangeRate = calcCarWiseLaneChangeRateForOneSim(\n",
    "listOfSims4TimeWindow1[17]['laneNum'],verbose=True)\n",
    "print(testLaneChangeRate)"
   ]
  },
  {
   "cell_type": "code",
   "execution_count": 48,
   "metadata": {},
   "outputs": [],
   "source": [
    "# Let's plot the lane id to see whether that on-ramp or off-ramp is\n",
    "# causing problems\n",
    "def plotCarLaneIDOverTime(dataArray,carNum,verbose=True):\n",
    "    if verbose:\n",
    "        print(\"Selected car number is \",carNum)\n",
    "    plt.plot(dataArray[:,carNum])"
   ]
  },
  {
   "cell_type": "code",
   "execution_count": 75,
   "metadata": {},
   "outputs": [
    {
     "name": "stdout",
     "output_type": "stream",
     "text": [
      "Selected car number is  27\n"
     ]
    },
    {
     "data": {
      "image/png": "[encoded data removed]",
      "text/plain": [
       "<matplotlib.figure.Figure at 0x7f4a5095c748>"
      ]
     },
     "metadata": {},
     "output_type": "display_data"
    }
   ],
   "source": [
    "plotCarLaneIDOverTime(\n",
    "    listOfSims4TimeWindow1[17]['laneNum'],27,verbose=True)"
   ]
  }
 ],
 "metadata": {
  "kernelspec": {
   "display_name": "Python 3",
   "language": "python",
   "name": "python3"
  },
  "language_info": {
   "codemirror_mode": {
    "name": "ipython",
    "version": 3
   },
   "file_extension": ".py",
   "mimetype": "text/x-python",
   "name": "python",
   "nbconvert_exporter": "python",
   "pygments_lexer": "ipython3",
   "version": "3.5.2"
  }
 },
 "nbformat": 4,
 "nbformat_minor": 2
}
