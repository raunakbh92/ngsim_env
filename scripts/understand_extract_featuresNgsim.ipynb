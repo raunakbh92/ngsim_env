{
 "cells": [
  {
   "cell_type": "markdown",
   "metadata": {},
   "source": [
    "Delves deep into ngsim_env/scripts/extract_ngsim_demonstrations.jl and\n",
    "unearths its inner workings and what exactly is the form of the features\n",
    "it write to ngsim.h5"
   ]
  },
  {
   "cell_type": "code",
   "execution_count": 1,
   "metadata": {},
   "outputs": [],
   "source": [
    "using AutomotiveDrivingModels\n",
    "using AutoRisk\n",
    "using HDF5\n",
    "using NGSIM"
   ]
  },
  {
   "cell_type": "code",
   "execution_count": 2,
   "metadata": {},
   "outputs": [
    {
     "data": {
      "text/plain": [
       "build_feature_extractor (generic function with 1 method)"
      ]
     },
     "execution_count": 2,
     "metadata": {},
     "output_type": "execute_result"
    }
   ],
   "source": [
    "function build_feature_extractor()\n",
    "    subexts = [\n",
    "        CoreFeatureExtractor(),\n",
    "        TemporalFeatureExtractor(),\n",
    "        WellBehavedFeatureExtractor(),\n",
    "        CarLidarFeatureExtractor(20, carlidar_max_range = 50.),\n",
    "        ForeForeFeatureExtractor()\n",
    "    ]\n",
    "    ext = MultiFeatureExtractor(subexts)\n",
    "    return ext\n",
    "end"
   ]
  },
  {
   "cell_type": "code",
   "execution_count": 3,
   "metadata": {},
   "outputs": [
    {
     "data": {
      "text/plain": [
       "extract_ngsim_features (generic function with 6 methods)"
      ]
     },
     "execution_count": 3,
     "metadata": {},
     "output_type": "execute_result"
    }
   ],
   "source": [
    "function extract_ngsim_features(\n",
    "        timestep_delta = 1, # timesteps between feature extractions\n",
    "        record_length = 10, # number of frames for record to track in the past\n",
    "        offset = 500, # from ends of the trajectories\n",
    "        prime = 10,\n",
    "        maxframes = nothing; # nothing for no max\n",
    "        output_filename = \"ngsim.h5\",\n",
    "        n_expert_files = 1) # number of time periods for which to extract.\n",
    "\n",
    "    ext = build_feature_extractor()\n",
    "    features = Dict{Int, Dict{Int, Array{Float64}}}()\n",
    "\n",
    "    tic()\n",
    "    # extract \n",
    "    for traj_idx in 1:n_expert_files\n",
    "\n",
    "        # setup\n",
    "        trajdata = load_trajdata(traj_idx)\n",
    "        roadway = get_corresponding_roadway(traj_idx)\n",
    "        features[traj_idx] = extract_features(\n",
    "            ext, \n",
    "            trajdata, \n",
    "            roadway, \n",
    "            timestep_delta, \n",
    "            record_length, \n",
    "            offset, \n",
    "            prime,\n",
    "            maxframes\n",
    "        )\n",
    "    end\n",
    "    toc()\n",
    "\n",
    "    output_filepath = joinpath(\"../data/trajectories/\", output_filename)\n",
    "    println(\"output filepath: $(output_filepath)\")\n",
    "    write_features(features, output_filepath, ext)\n",
    "\n",
    "end"
   ]
  },
  {
   "cell_type": "code",
   "execution_count": 4,
   "metadata": {},
   "outputs": [
    {
     "data": {
      "text/plain": [
       "write_features (generic function with 1 method)"
      ]
     },
     "execution_count": 4,
     "metadata": {},
     "output_type": "execute_result"
    }
   ],
   "source": [
    "function write_features(features, output_filepath, ext)\n",
    "    n_features = length(ext)\n",
    "\n",
    "    # compute max length across samples\n",
    "    maxlen = 0\n",
    "    for (traj_idx, feature_dict) in features\n",
    "        for (veh_id, veh_features) in feature_dict\n",
    "            maxlen = max(maxlen, size(veh_features, 2))\n",
    "        end\n",
    "    end\n",
    "    println(\"max length across samples: $(maxlen)\")\n",
    "\n",
    "    # write trajectory features\n",
    "    h5file = h5open(output_filepath, \"w\")\n",
    "    for (traj_idx, feature_dict) in features\n",
    "        #println(\"traj_idx = $(traj_idx)\")\n",
    "        feature_array = zeros(n_features, maxlen, length(feature_dict))\n",
    "        for (idx, (veh_id, veh_features)) in enumerate(feature_dict)\n",
    "            feature_array[:, 1:size(veh_features, 2), idx] = reshape(veh_features, (n_features, size(veh_features, 2), 1))\n",
    "        end\n",
    "        h5file[\"$(traj_idx)\"] = feature_array\n",
    "\n",
    "        println(\"feature_array.shape = $(size(feature_array))\")\n",
    "    end\n",
    "    \n",
    "    # write feature names\n",
    "    attrs(h5file)[\"feature_names\"] = feature_names(ext)\n",
    "    close(h5file)\n",
    "end"
   ]
  },
  {
   "cell_type": "code",
   "execution_count": 32,
   "metadata": {},
   "outputs": [
    {
     "data": {
      "text/plain": [
       "extract_features (generic function with 1 method)"
      ]
     },
     "execution_count": 32,
     "metadata": {},
     "output_type": "execute_result"
    }
   ],
   "source": [
    "function extract_features(\n",
    "        ext,\n",
    "        trajdata, \n",
    "        roadway, \n",
    "        timestep_delta, \n",
    "        record_length, \n",
    "        offset, \n",
    "        prime,\n",
    "        maxframes)\n",
    "    n_features = length(ext)\n",
    "    max_n_objects = maximum(n_objects_in_frame(trajdata, i) for i in 1 : nframes(trajdata))\n",
    "    scene = Scene(max_n_objects)\n",
    "    rec = SceneRecord(record_length, 0.1, max_n_objects)\n",
    "    features = Dict{Int, Array{Float64}}()\n",
    "    ctr = 0\n",
    "    n_frames = nframes(trajdata)\n",
    "    \n",
    "    for frame in (offset - prime : offset - 1)\n",
    "        # prime the rec\n",
    "        AutomotiveDrivingModels.update!(rec, get!(scene, trajdata, frame))\n",
    "    end\n",
    "\n",
    "    veh_features = pull_features!(ext, rec, roadway, 1)\n",
    "#     println(\"veh_features shape = $(size(veh_features))\")\n",
    "\n",
    "#     for frame in offset : (n_frames - offset)\n",
    "    for frame in offset : offset+33\n",
    "        ctr += 1\n",
    "        println(\"ctr = $(ctr)\")\n",
    "        if maxframes != nothing && ctr >= maxframes\n",
    "            break\n",
    "        end\n",
    "\n",
    "        print(\"\\rframe $(frame) / $(n_frames - offset)\")\n",
    "            \n",
    "        # update the rec\n",
    "        AutomotiveDrivingModels.update!(rec, get!(scene, trajdata, frame))\n",
    "\n",
    "        # every timestep_delta step, extract features\n",
    "        if frame % timestep_delta == 0\n",
    "            for (vidx, veh) in enumerate(scene)\n",
    "                # extract features\n",
    "                veh_features = pull_features!(ext, rec, roadway, vidx)\n",
    "                #println(\"veh.id = $(veh.id) \\n\")\n",
    "                \n",
    "                # add entry to features if vehicle not yet encountered\n",
    "                if !in(veh.id, keys(features))\n",
    "                    features[veh.id] = zeros(n_features, 0)\n",
    "                end\n",
    "\n",
    "                # stack onto existing features\n",
    "                features[veh.id] = cat(2, features[veh.id], \n",
    "                    reshape(veh_features, (n_features, 1)))\n",
    "            end\n",
    "        end\n",
    "    end\n",
    "    \n",
    "    \n",
    "    println(\"shape features of vehicle 23= $(size(features[23]))\")\n",
    "    println(\"length of keys of features i.e total number \n",
    "        of distinct vehicles encountered \\n $(length(keys(features)))\")\n",
    "    \n",
    "    # Print the shape of the associated feature for every vehicle index\n",
    "#     for (key,value) in features\n",
    "#         println(\"key: $(key) ==> shape: $(size(value))\")\n",
    "#     end\n",
    "        \n",
    "    return features\n",
    "end"
   ]
  },
  {
   "cell_type": "code",
   "execution_count": 33,
   "metadata": {},
   "outputs": [
    {
     "name": "stdout",
     "output_type": "stream",
     "text": [
      "ctr = 1\n",
      "frame 500 / 9036ctr = 2\n",
      "frame 501 / 9036ctr = 3\n",
      "frame 502 / 9036ctr = 4\n",
      "frame 503 / 9036ctr = 5\n",
      "frame 504 / 9036ctr = 6\n",
      "frame 505 / 9036ctr = 7\n",
      "frame 506 / 9036ctr = 8\n",
      "frame 507 / 9036ctr = 9\n",
      "frame 508 / 9036ctr = 10\n",
      "frame 509 / 9036ctr = 11\n",
      "frame 510 / 9036ctr = 12\n",
      "frame 511 / 9036ctr = 13\n",
      "frame 512 / 9036ctr = 14\n",
      "frame 513 / 9036ctr = 15\n",
      "frame 514 / 9036ctr = 16\n",
      "frame 515 / 9036ctr = 17\n",
      "frame 516 / 9036ctr = 18\n",
      "frame 517 / 9036ctr = 19\n",
      "frame 518 / 9036ctr = 20\n",
      "frame 519 / 9036ctr = 21\n",
      "frame 520 / 9036ctr = 22\n",
      "frame 521 / 9036ctr = 23\n",
      "frame 522 / 9036ctr = 24\n",
      "frame 523 / 9036ctr = 25\n",
      "frame 524 / 9036ctr = 26\n",
      "frame 525 / 9036ctr = 27\n",
      "frame 526 / 9036ctr = 28\n",
      "frame 527 / 9036ctr = 29\n",
      "frame 528 / 9036ctr = 30\n",
      "frame 529 / 9036ctr = 31\n",
      "frame 530 / 9036ctr = 32\n",
      "frame 531 / 9036ctr = 33\n",
      "frame 532 / 9036ctr = 34\n",
      "frame 533 / 9036shape features of vehicle 23= (66, 3)\n",
      "keys of features \n",
      " 125\n",
      "numkeys = 125\n",
      "elapsed time: 4.251027035 seconds\n",
      "output filepath: ../data/trajectories/ngsim_understand.h5\n",
      "max length across samples: 34\n",
      "feature_array.shape = (66, 34, 125)\n"
     ]
    }
   ],
   "source": [
    "extract_ngsim_features(output_filename=\"ngsim_understand.h5\", n_expert_files=1)"
   ]
  },
  {
   "cell_type": "markdown",
   "metadata": {},
   "source": [
    "Raunak's understanding about the feature_array.shape = (66, a, b) which is what gets written to the .h5 file by the function `write_features`\n",
    "- 66 is the number of features\n",
    "- a is the maximum number of frames in which a vehicle was present, out of all the vehs\n",
    "    - eg: if veh.id 15 was present in 3 out of the number of frames for which the loop was run, and veh.id 58 was present in 76 out of the number of frames looped over, then this number is 76\n",
    "- b is the total number of vehicles encountered over the entire loop\n",
    "    - Continuiing with the above example, this will be 2 because two vehicles namely id 15 and id 58 have been encountered in the looping over frames. No matter that id 15 was only present in 3 of the umpteen number of frames looped over, it was seen means it gets its own space in the features array that we create"
   ]
  },
  {
   "cell_type": "code",
   "execution_count": null,
   "metadata": {},
   "outputs": [],
   "source": []
  }
 ],
 "metadata": {
  "kernelspec": {
   "display_name": "Julia 0.6.2",
   "language": "julia",
   "name": "julia-0.6"
  },
  "language_info": {
   "file_extension": ".jl",
   "mimetype": "application/julia",
   "name": "julia",
   "version": "0.6.2"
  }
 },
 "nbformat": 4,
 "nbformat_minor": 2
}
